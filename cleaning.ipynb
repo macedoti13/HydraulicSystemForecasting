{
 "cells": [
  {
   "cell_type": "code",
   "execution_count": null,
   "metadata": {},
   "outputs": [],
   "source": [
    "import pandas as pd\n",
    "from pathlib import Path\n",
    "\n",
    "DATA_PATH = 'data/Dados Elipse PSL - Atualizados.xlsx'"
   ]
  },
  {
   "cell_type": "code",
   "execution_count": null,
   "metadata": {},
   "outputs": [],
   "source": [
    "df = pd.read_excel(DATA_PATH, header=1)\n",
    "df.sort_values('DATA/HORA', inplace=True)\n",
    "df.head()"
   ]
  },
  {
   "cell_type": "code",
   "execution_count": null,
   "metadata": {},
   "outputs": [],
   "source": [
    "df.isnull().sum()"
   ]
  },
  {
   "cell_type": "code",
   "execution_count": null,
   "metadata": {},
   "outputs": [],
   "source": [
    "# df = df[:1000]\n",
    "# df.to_csv('data/1000_Dados.csv', index=False)"
   ]
  },
  {
   "cell_type": "code",
   "execution_count": null,
   "metadata": {},
   "outputs": [],
   "source": [
    "# change the values of GMB 1 and GMB 2 to 0 and 1\n",
    "df['GMB 1 (10 OFF/ 90 ON)'] = df['GMB 1 (10 OFF/ 90 ON)'].replace(10, 0).replace(90, 1)\n",
    "df['GMB 2(10 OFF/ 90 ON)'] = df['GMB 2(10 OFF/ 90 ON)'].replace(10, 0).replace(90, 1)\n",
    "\n",
    "df = df.rename(columns={'DATA/HORA': 'timestamp',\n",
    "                        'VAZÃO ENTRADA (L/S)': 'flow_in',\n",
    "                        'NÍVEL RESERVATÓRIO (%)': 'reservatory_percentage',\n",
    "                        'GMB 1 (10 OFF/ 90 ON)': 'gmb_1',\n",
    "                        'GMB 2(10 OFF/ 90 ON)': 'gmb_2',\n",
    "                        'PRESSÃO (mca)': 'pressure',\n",
    "                          })\n",
    "\n",
    "df.head()"
   ]
  },
  {
   "cell_type": "code",
   "execution_count": null,
   "metadata": {},
   "outputs": [],
   "source": [
    "df['volume'] = (df['reservatory_percentage'] / 100) * 1000000\n",
    "df['volume_diff'] = df['volume'].diff()\n",
    "df['time_diff'] = df['timestamp'].diff().dt.total_seconds()\n",
    "df['flow_out'] = -df['volume_diff'] / df['time_diff'] + df['flow_in']\n",
    "\n",
    "df.head()"
   ]
  }
 ],
 "metadata": {
  "kernelspec": {
   "display_name": "optx",
   "language": "python",
   "name": "python3"
  },
  "language_info": {
   "codemirror_mode": {
    "name": "ipython",
    "version": 3
   },
   "file_extension": ".py",
   "mimetype": "text/x-python",
   "name": "python",
   "nbconvert_exporter": "python",
   "pygments_lexer": "ipython3",
   "version": "3.12.2"
  }
 },
 "nbformat": 4,
 "nbformat_minor": 2
}
