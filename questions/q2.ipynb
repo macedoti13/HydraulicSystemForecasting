{
 "cells": [
  {
   "cell_type": "markdown",
   "metadata": {},
   "source": [
    "## Qual a curva típica da saída do reservatório ao longo de 24h durante os dias úteis? E nos finais de semana?"
   ]
  },
  {
   "cell_type": "code",
   "execution_count": 1,
   "metadata": {},
   "outputs": [],
   "source": [
    "import plotly.express as px\n",
    "from pathlib import Path\n",
    "import pandas as pd "
   ]
  },
  {
   "cell_type": "code",
   "execution_count": 2,
   "metadata": {},
   "outputs": [
    {
     "data": {
      "text/html": [
       "<div>\n",
       "<style scoped>\n",
       "    .dataframe tbody tr th:only-of-type {\n",
       "        vertical-align: middle;\n",
       "    }\n",
       "\n",
       "    .dataframe tbody tr th {\n",
       "        vertical-align: top;\n",
       "    }\n",
       "\n",
       "    .dataframe thead th {\n",
       "        text-align: right;\n",
       "    }\n",
       "</style>\n",
       "<table border=\"1\" class=\"dataframe\">\n",
       "  <thead>\n",
       "    <tr style=\"text-align: right;\">\n",
       "      <th></th>\n",
       "      <th>id</th>\n",
       "      <th>timestamp</th>\n",
       "      <th>flow_in_(l/s)</th>\n",
       "      <th>reservoir_level_(%)</th>\n",
       "      <th>pressure_(mca)</th>\n",
       "      <th>gmb_1_is_on</th>\n",
       "      <th>gmb_2_is_on</th>\n",
       "      <th>reservoir_level_liters</th>\n",
       "      <th>time_passed_seconds</th>\n",
       "      <th>liters_should_have_entered</th>\n",
       "      <th>liters_entered</th>\n",
       "      <th>liters_out</th>\n",
       "      <th>flow_out_(l/s)</th>\n",
       "    </tr>\n",
       "  </thead>\n",
       "  <tbody>\n",
       "    <tr>\n",
       "      <th>0</th>\n",
       "      <td>0</td>\n",
       "      <td>2023-03-17 11:27:06</td>\n",
       "      <td>68.59</td>\n",
       "      <td>29.86</td>\n",
       "      <td>38.20</td>\n",
       "      <td>0</td>\n",
       "      <td>1</td>\n",
       "      <td>298600.0</td>\n",
       "      <td>NaN</td>\n",
       "      <td>NaN</td>\n",
       "      <td>NaN</td>\n",
       "      <td>NaN</td>\n",
       "      <td>NaN</td>\n",
       "    </tr>\n",
       "    <tr>\n",
       "      <th>1</th>\n",
       "      <td>1</td>\n",
       "      <td>2023-03-17 12:28:56</td>\n",
       "      <td>66.05</td>\n",
       "      <td>35.86</td>\n",
       "      <td>38.20</td>\n",
       "      <td>0</td>\n",
       "      <td>1</td>\n",
       "      <td>358600.0</td>\n",
       "      <td>3710.0</td>\n",
       "      <td>245045.5</td>\n",
       "      <td>60000.0</td>\n",
       "      <td>185045.5</td>\n",
       "      <td>49.88</td>\n",
       "    </tr>\n",
       "    <tr>\n",
       "      <th>2</th>\n",
       "      <td>2</td>\n",
       "      <td>2023-03-17 12:31:26</td>\n",
       "      <td>65.64</td>\n",
       "      <td>36.16</td>\n",
       "      <td>38.06</td>\n",
       "      <td>0</td>\n",
       "      <td>1</td>\n",
       "      <td>361600.0</td>\n",
       "      <td>150.0</td>\n",
       "      <td>9846.0</td>\n",
       "      <td>3000.0</td>\n",
       "      <td>6846.0</td>\n",
       "      <td>45.64</td>\n",
       "    </tr>\n",
       "    <tr>\n",
       "      <th>3</th>\n",
       "      <td>3</td>\n",
       "      <td>2023-03-17 12:33:56</td>\n",
       "      <td>65.64</td>\n",
       "      <td>36.50</td>\n",
       "      <td>38.03</td>\n",
       "      <td>0</td>\n",
       "      <td>1</td>\n",
       "      <td>365000.0</td>\n",
       "      <td>150.0</td>\n",
       "      <td>9846.0</td>\n",
       "      <td>3400.0</td>\n",
       "      <td>6446.0</td>\n",
       "      <td>42.97</td>\n",
       "    </tr>\n",
       "    <tr>\n",
       "      <th>4</th>\n",
       "      <td>4</td>\n",
       "      <td>2023-03-17 12:36:26</td>\n",
       "      <td>65.64</td>\n",
       "      <td>36.80</td>\n",
       "      <td>38.17</td>\n",
       "      <td>0</td>\n",
       "      <td>1</td>\n",
       "      <td>368000.0</td>\n",
       "      <td>150.0</td>\n",
       "      <td>9846.0</td>\n",
       "      <td>3000.0</td>\n",
       "      <td>6846.0</td>\n",
       "      <td>45.64</td>\n",
       "    </tr>\n",
       "  </tbody>\n",
       "</table>\n",
       "</div>"
      ],
      "text/plain": [
       "   id           timestamp  flow_in_(l/s)  reservoir_level_(%)  pressure_(mca)  \\\n",
       "0   0 2023-03-17 11:27:06          68.59                29.86           38.20   \n",
       "1   1 2023-03-17 12:28:56          66.05                35.86           38.20   \n",
       "2   2 2023-03-17 12:31:26          65.64                36.16           38.06   \n",
       "3   3 2023-03-17 12:33:56          65.64                36.50           38.03   \n",
       "4   4 2023-03-17 12:36:26          65.64                36.80           38.17   \n",
       "\n",
       "   gmb_1_is_on  gmb_2_is_on  reservoir_level_liters  time_passed_seconds  \\\n",
       "0            0            1                298600.0                  NaN   \n",
       "1            0            1                358600.0               3710.0   \n",
       "2            0            1                361600.0                150.0   \n",
       "3            0            1                365000.0                150.0   \n",
       "4            0            1                368000.0                150.0   \n",
       "\n",
       "   liters_should_have_entered  liters_entered  liters_out  flow_out_(l/s)  \n",
       "0                         NaN             NaN         NaN             NaN  \n",
       "1                    245045.5         60000.0    185045.5           49.88  \n",
       "2                      9846.0          3000.0      6846.0           45.64  \n",
       "3                      9846.0          3400.0      6446.0           42.97  \n",
       "4                      9846.0          3000.0      6846.0           45.64  "
      ]
     },
     "execution_count": 2,
     "metadata": {},
     "output_type": "execute_result"
    }
   ],
   "source": [
    "df_path = Path(\"../data/curated_data/water_consumption_curated_1.parquet\")\n",
    "df = pd.read_parquet(df_path)\n",
    "df.head()"
   ]
  },
  {
   "cell_type": "code",
   "execution_count": 3,
   "metadata": {},
   "outputs": [
    {
     "data": {
      "text/html": [
       "<div>\n",
       "<style scoped>\n",
       "    .dataframe tbody tr th:only-of-type {\n",
       "        vertical-align: middle;\n",
       "    }\n",
       "\n",
       "    .dataframe tbody tr th {\n",
       "        vertical-align: top;\n",
       "    }\n",
       "\n",
       "    .dataframe thead th {\n",
       "        text-align: right;\n",
       "    }\n",
       "</style>\n",
       "<table border=\"1\" class=\"dataframe\">\n",
       "  <thead>\n",
       "    <tr style=\"text-align: right;\">\n",
       "      <th></th>\n",
       "      <th>id</th>\n",
       "      <th>timestamp</th>\n",
       "      <th>flow_in_(l/s)</th>\n",
       "      <th>reservoir_level_(%)</th>\n",
       "      <th>pressure_(mca)</th>\n",
       "      <th>gmb_1_is_on</th>\n",
       "      <th>gmb_2_is_on</th>\n",
       "      <th>reservoir_level_liters</th>\n",
       "      <th>time_passed_seconds</th>\n",
       "      <th>liters_should_have_entered</th>\n",
       "      <th>liters_entered</th>\n",
       "      <th>liters_out</th>\n",
       "      <th>flow_out_(l/s)</th>\n",
       "      <th>day_of_week</th>\n",
       "      <th>hour</th>\n",
       "    </tr>\n",
       "  </thead>\n",
       "  <tbody>\n",
       "    <tr>\n",
       "      <th>0</th>\n",
       "      <td>0</td>\n",
       "      <td>2023-03-17 11:27:06</td>\n",
       "      <td>68.59</td>\n",
       "      <td>29.86</td>\n",
       "      <td>38.20</td>\n",
       "      <td>0</td>\n",
       "      <td>1</td>\n",
       "      <td>298600.0</td>\n",
       "      <td>NaN</td>\n",
       "      <td>NaN</td>\n",
       "      <td>NaN</td>\n",
       "      <td>NaN</td>\n",
       "      <td>NaN</td>\n",
       "      <td>4</td>\n",
       "      <td>11</td>\n",
       "    </tr>\n",
       "    <tr>\n",
       "      <th>1</th>\n",
       "      <td>1</td>\n",
       "      <td>2023-03-17 12:28:56</td>\n",
       "      <td>66.05</td>\n",
       "      <td>35.86</td>\n",
       "      <td>38.20</td>\n",
       "      <td>0</td>\n",
       "      <td>1</td>\n",
       "      <td>358600.0</td>\n",
       "      <td>3710.0</td>\n",
       "      <td>245045.5</td>\n",
       "      <td>60000.0</td>\n",
       "      <td>185045.5</td>\n",
       "      <td>49.88</td>\n",
       "      <td>4</td>\n",
       "      <td>12</td>\n",
       "    </tr>\n",
       "    <tr>\n",
       "      <th>2</th>\n",
       "      <td>2</td>\n",
       "      <td>2023-03-17 12:31:26</td>\n",
       "      <td>65.64</td>\n",
       "      <td>36.16</td>\n",
       "      <td>38.06</td>\n",
       "      <td>0</td>\n",
       "      <td>1</td>\n",
       "      <td>361600.0</td>\n",
       "      <td>150.0</td>\n",
       "      <td>9846.0</td>\n",
       "      <td>3000.0</td>\n",
       "      <td>6846.0</td>\n",
       "      <td>45.64</td>\n",
       "      <td>4</td>\n",
       "      <td>12</td>\n",
       "    </tr>\n",
       "    <tr>\n",
       "      <th>3</th>\n",
       "      <td>3</td>\n",
       "      <td>2023-03-17 12:33:56</td>\n",
       "      <td>65.64</td>\n",
       "      <td>36.50</td>\n",
       "      <td>38.03</td>\n",
       "      <td>0</td>\n",
       "      <td>1</td>\n",
       "      <td>365000.0</td>\n",
       "      <td>150.0</td>\n",
       "      <td>9846.0</td>\n",
       "      <td>3400.0</td>\n",
       "      <td>6446.0</td>\n",
       "      <td>42.97</td>\n",
       "      <td>4</td>\n",
       "      <td>12</td>\n",
       "    </tr>\n",
       "    <tr>\n",
       "      <th>4</th>\n",
       "      <td>4</td>\n",
       "      <td>2023-03-17 12:36:26</td>\n",
       "      <td>65.64</td>\n",
       "      <td>36.80</td>\n",
       "      <td>38.17</td>\n",
       "      <td>0</td>\n",
       "      <td>1</td>\n",
       "      <td>368000.0</td>\n",
       "      <td>150.0</td>\n",
       "      <td>9846.0</td>\n",
       "      <td>3000.0</td>\n",
       "      <td>6846.0</td>\n",
       "      <td>45.64</td>\n",
       "      <td>4</td>\n",
       "      <td>12</td>\n",
       "    </tr>\n",
       "  </tbody>\n",
       "</table>\n",
       "</div>"
      ],
      "text/plain": [
       "   id           timestamp  flow_in_(l/s)  reservoir_level_(%)  pressure_(mca)  \\\n",
       "0   0 2023-03-17 11:27:06          68.59                29.86           38.20   \n",
       "1   1 2023-03-17 12:28:56          66.05                35.86           38.20   \n",
       "2   2 2023-03-17 12:31:26          65.64                36.16           38.06   \n",
       "3   3 2023-03-17 12:33:56          65.64                36.50           38.03   \n",
       "4   4 2023-03-17 12:36:26          65.64                36.80           38.17   \n",
       "\n",
       "   gmb_1_is_on  gmb_2_is_on  reservoir_level_liters  time_passed_seconds  \\\n",
       "0            0            1                298600.0                  NaN   \n",
       "1            0            1                358600.0               3710.0   \n",
       "2            0            1                361600.0                150.0   \n",
       "3            0            1                365000.0                150.0   \n",
       "4            0            1                368000.0                150.0   \n",
       "\n",
       "   liters_should_have_entered  liters_entered  liters_out  flow_out_(l/s)  \\\n",
       "0                         NaN             NaN         NaN             NaN   \n",
       "1                    245045.5         60000.0    185045.5           49.88   \n",
       "2                      9846.0          3000.0      6846.0           45.64   \n",
       "3                      9846.0          3400.0      6446.0           42.97   \n",
       "4                      9846.0          3000.0      6846.0           45.64   \n",
       "\n",
       "   day_of_week  hour  \n",
       "0            4    11  \n",
       "1            4    12  \n",
       "2            4    12  \n",
       "3            4    12  \n",
       "4            4    12  "
      ]
     },
     "execution_count": 3,
     "metadata": {},
     "output_type": "execute_result"
    }
   ],
   "source": [
    "# Converter a coluna 'timestamp' para datetime\n",
    "df['timestamp'] = pd.to_datetime(df['timestamp'])\n",
    "\n",
    "# Adicionar uma coluna para o dia da semana (0 = segunda-feira, 6 = domingo)\n",
    "df['day_of_week'] = df['timestamp'].dt.dayofweek\n",
    "\n",
    "# Adicionar uma coluna para a hora do dia\n",
    "df['hour'] = df['timestamp'].dt.hour\n",
    "\n",
    "df.head()"
   ]
  },
  {
   "cell_type": "code",
   "execution_count": 4,
   "metadata": {},
   "outputs": [
    {
     "data": {
      "text/html": [
       "<div>\n",
       "<style scoped>\n",
       "    .dataframe tbody tr th:only-of-type {\n",
       "        vertical-align: middle;\n",
       "    }\n",
       "\n",
       "    .dataframe tbody tr th {\n",
       "        vertical-align: top;\n",
       "    }\n",
       "\n",
       "    .dataframe thead th {\n",
       "        text-align: right;\n",
       "    }\n",
       "</style>\n",
       "<table border=\"1\" class=\"dataframe\">\n",
       "  <thead>\n",
       "    <tr style=\"text-align: right;\">\n",
       "      <th></th>\n",
       "      <th>hour</th>\n",
       "      <th>flow_out_(l/s)</th>\n",
       "      <th>Tipo</th>\n",
       "    </tr>\n",
       "  </thead>\n",
       "  <tbody>\n",
       "    <tr>\n",
       "      <th>0</th>\n",
       "      <td>0</td>\n",
       "      <td>27.611543</td>\n",
       "      <td>Dias Úteis</td>\n",
       "    </tr>\n",
       "    <tr>\n",
       "      <th>1</th>\n",
       "      <td>1</td>\n",
       "      <td>25.075620</td>\n",
       "      <td>Dias Úteis</td>\n",
       "    </tr>\n",
       "    <tr>\n",
       "      <th>2</th>\n",
       "      <td>2</td>\n",
       "      <td>25.063462</td>\n",
       "      <td>Dias Úteis</td>\n",
       "    </tr>\n",
       "    <tr>\n",
       "      <th>3</th>\n",
       "      <td>3</td>\n",
       "      <td>23.032023</td>\n",
       "      <td>Dias Úteis</td>\n",
       "    </tr>\n",
       "    <tr>\n",
       "      <th>4</th>\n",
       "      <td>4</td>\n",
       "      <td>23.727896</td>\n",
       "      <td>Dias Úteis</td>\n",
       "    </tr>\n",
       "  </tbody>\n",
       "</table>\n",
       "</div>"
      ],
      "text/plain": [
       "   hour  flow_out_(l/s)        Tipo\n",
       "0     0       27.611543  Dias Úteis\n",
       "1     1       25.075620  Dias Úteis\n",
       "2     2       25.063462  Dias Úteis\n",
       "3     3       23.032023  Dias Úteis\n",
       "4     4       23.727896  Dias Úteis"
      ]
     },
     "execution_count": 4,
     "metadata": {},
     "output_type": "execute_result"
    }
   ],
   "source": [
    "df_weekdays = df[df['day_of_week'] < 5]\n",
    "df_weekends = df[df['day_of_week'] >= 5]\n",
    "\n",
    "# Agrupar por hora e calcular a média da saída do reservatório para dias úteis\n",
    "flow_out_weekdays = df_weekdays.groupby('hour')['flow_out_(l/s)'].mean().reset_index()\n",
    "\n",
    "# Agrupar por hora e calcular a média da saída do reservatório para finais de semana\n",
    "flow_out_weekends = df_weekends.groupby('hour')['flow_out_(l/s)'].mean().reset_index()\n",
    "\n",
    "# Adicionar coluna para diferenciar dias úteis e finais de semana\n",
    "flow_out_weekdays['Tipo'] = 'Dias Úteis'\n",
    "flow_out_weekends['Tipo'] = 'Finais de Semana'\n",
    "\n",
    "# Combinar os dados em um único DataFrame\n",
    "df_combined = pd.concat([flow_out_weekdays, flow_out_weekends])\n",
    "df_combined.head()"
   ]
  },
  {
   "cell_type": "code",
   "execution_count": 5,
   "metadata": {},
   "outputs": [
    {
     "data": {
      "application/vnd.plotly.v1+json": {
       "config": {
        "plotlyServerURL": "https://plot.ly"
       },
       "data": [
        {
         "hovertemplate": "Tipo=Dias Úteis<br>Hora do Dia=%{x}<br>Saída do Reservatório (l/s)=%{y}<extra></extra>",
         "legendgroup": "Dias Úteis",
         "line": {
          "color": "#636efa",
          "dash": "solid"
         },
         "marker": {
          "symbol": "circle"
         },
         "mode": "lines",
         "name": "Dias Úteis",
         "orientation": "v",
         "showlegend": true,
         "type": "scatter",
         "x": [
          0,
          1,
          2,
          3,
          4,
          5,
          6,
          7,
          8,
          9,
          10,
          11,
          12,
          13,
          14,
          15,
          16,
          17,
          18,
          19,
          20,
          21,
          22,
          23
         ],
         "xaxis": "x",
         "y": [
          27.611543460601137,
          25.075620038324665,
          25.06346228239845,
          23.032023040179826,
          23.727896081771718,
          27.374431654676258,
          30.72033122119816,
          33.83213241616509,
          35.11512973456606,
          35.87487917146145,
          36.80667427918927,
          39.09587888982338,
          40.31923630326508,
          42.79017198335645,
          39.09794182217343,
          37.16513625103221,
          35.503071636267514,
          35.850264373716634,
          36.95979759159621,
          37.97087222647284,
          36.95890259573375,
          36.08910700338454,
          34.291075129533674,
          31.459234902763562
         ],
         "yaxis": "y"
        },
        {
         "hovertemplate": "Tipo=Finais de Semana<br>Hora do Dia=%{x}<br>Saída do Reservatório (l/s)=%{y}<extra></extra>",
         "legendgroup": "Finais de Semana",
         "line": {
          "color": "#EF553B",
          "dash": "solid"
         },
         "marker": {
          "symbol": "circle"
         },
         "mode": "lines",
         "name": "Finais de Semana",
         "orientation": "v",
         "showlegend": true,
         "type": "scatter",
         "x": [
          0,
          1,
          2,
          3,
          4,
          5,
          6,
          7,
          8,
          9,
          10,
          11,
          12,
          13,
          14,
          15,
          16,
          17,
          18,
          19,
          20,
          21,
          22,
          23
         ],
         "xaxis": "x",
         "y": [
          29.49401752190238,
          25.088879093198994,
          23.120511398644485,
          22.386912325285895,
          22.487913209955327,
          25.68190476190476,
          27.215498737373736,
          29.920081199250472,
          33.33474358974359,
          38.57802681992337,
          40.563237913486006,
          44.12329121920404,
          45.660695428203475,
          45.24764780673872,
          42.79509372979961,
          39.90518398967075,
          36.67518639633747,
          36.84009683666882,
          35.870730743910464,
          34.70768469656992,
          33.70823331085637,
          34.97851901267512,
          33.653241379310344,
          31.663182135380318
         ],
         "yaxis": "y"
        }
       ],
       "layout": {
        "legend": {
         "title": {
          "text": "Tipo"
         },
         "tracegroupgap": 0
        },
        "template": {
         "data": {
          "bar": [
           {
            "error_x": {
             "color": "#2a3f5f"
            },
            "error_y": {
             "color": "#2a3f5f"
            },
            "marker": {
             "line": {
              "color": "#E5ECF6",
              "width": 0.5
             },
             "pattern": {
              "fillmode": "overlay",
              "size": 10,
              "solidity": 0.2
             }
            },
            "type": "bar"
           }
          ],
          "barpolar": [
           {
            "marker": {
             "line": {
              "color": "#E5ECF6",
              "width": 0.5
             },
             "pattern": {
              "fillmode": "overlay",
              "size": 10,
              "solidity": 0.2
             }
            },
            "type": "barpolar"
           }
          ],
          "carpet": [
           {
            "aaxis": {
             "endlinecolor": "#2a3f5f",
             "gridcolor": "white",
             "linecolor": "white",
             "minorgridcolor": "white",
             "startlinecolor": "#2a3f5f"
            },
            "baxis": {
             "endlinecolor": "#2a3f5f",
             "gridcolor": "white",
             "linecolor": "white",
             "minorgridcolor": "white",
             "startlinecolor": "#2a3f5f"
            },
            "type": "carpet"
           }
          ],
          "choropleth": [
           {
            "colorbar": {
             "outlinewidth": 0,
             "ticks": ""
            },
            "type": "choropleth"
           }
          ],
          "contour": [
           {
            "colorbar": {
             "outlinewidth": 0,
             "ticks": ""
            },
            "colorscale": [
             [
              0,
              "#0d0887"
             ],
             [
              0.1111111111111111,
              "#46039f"
             ],
             [
              0.2222222222222222,
              "#7201a8"
             ],
             [
              0.3333333333333333,
              "#9c179e"
             ],
             [
              0.4444444444444444,
              "#bd3786"
             ],
             [
              0.5555555555555556,
              "#d8576b"
             ],
             [
              0.6666666666666666,
              "#ed7953"
             ],
             [
              0.7777777777777778,
              "#fb9f3a"
             ],
             [
              0.8888888888888888,
              "#fdca26"
             ],
             [
              1,
              "#f0f921"
             ]
            ],
            "type": "contour"
           }
          ],
          "contourcarpet": [
           {
            "colorbar": {
             "outlinewidth": 0,
             "ticks": ""
            },
            "type": "contourcarpet"
           }
          ],
          "heatmap": [
           {
            "colorbar": {
             "outlinewidth": 0,
             "ticks": ""
            },
            "colorscale": [
             [
              0,
              "#0d0887"
             ],
             [
              0.1111111111111111,
              "#46039f"
             ],
             [
              0.2222222222222222,
              "#7201a8"
             ],
             [
              0.3333333333333333,
              "#9c179e"
             ],
             [
              0.4444444444444444,
              "#bd3786"
             ],
             [
              0.5555555555555556,
              "#d8576b"
             ],
             [
              0.6666666666666666,
              "#ed7953"
             ],
             [
              0.7777777777777778,
              "#fb9f3a"
             ],
             [
              0.8888888888888888,
              "#fdca26"
             ],
             [
              1,
              "#f0f921"
             ]
            ],
            "type": "heatmap"
           }
          ],
          "heatmapgl": [
           {
            "colorbar": {
             "outlinewidth": 0,
             "ticks": ""
            },
            "colorscale": [
             [
              0,
              "#0d0887"
             ],
             [
              0.1111111111111111,
              "#46039f"
             ],
             [
              0.2222222222222222,
              "#7201a8"
             ],
             [
              0.3333333333333333,
              "#9c179e"
             ],
             [
              0.4444444444444444,
              "#bd3786"
             ],
             [
              0.5555555555555556,
              "#d8576b"
             ],
             [
              0.6666666666666666,
              "#ed7953"
             ],
             [
              0.7777777777777778,
              "#fb9f3a"
             ],
             [
              0.8888888888888888,
              "#fdca26"
             ],
             [
              1,
              "#f0f921"
             ]
            ],
            "type": "heatmapgl"
           }
          ],
          "histogram": [
           {
            "marker": {
             "pattern": {
              "fillmode": "overlay",
              "size": 10,
              "solidity": 0.2
             }
            },
            "type": "histogram"
           }
          ],
          "histogram2d": [
           {
            "colorbar": {
             "outlinewidth": 0,
             "ticks": ""
            },
            "colorscale": [
             [
              0,
              "#0d0887"
             ],
             [
              0.1111111111111111,
              "#46039f"
             ],
             [
              0.2222222222222222,
              "#7201a8"
             ],
             [
              0.3333333333333333,
              "#9c179e"
             ],
             [
              0.4444444444444444,
              "#bd3786"
             ],
             [
              0.5555555555555556,
              "#d8576b"
             ],
             [
              0.6666666666666666,
              "#ed7953"
             ],
             [
              0.7777777777777778,
              "#fb9f3a"
             ],
             [
              0.8888888888888888,
              "#fdca26"
             ],
             [
              1,
              "#f0f921"
             ]
            ],
            "type": "histogram2d"
           }
          ],
          "histogram2dcontour": [
           {
            "colorbar": {
             "outlinewidth": 0,
             "ticks": ""
            },
            "colorscale": [
             [
              0,
              "#0d0887"
             ],
             [
              0.1111111111111111,
              "#46039f"
             ],
             [
              0.2222222222222222,
              "#7201a8"
             ],
             [
              0.3333333333333333,
              "#9c179e"
             ],
             [
              0.4444444444444444,
              "#bd3786"
             ],
             [
              0.5555555555555556,
              "#d8576b"
             ],
             [
              0.6666666666666666,
              "#ed7953"
             ],
             [
              0.7777777777777778,
              "#fb9f3a"
             ],
             [
              0.8888888888888888,
              "#fdca26"
             ],
             [
              1,
              "#f0f921"
             ]
            ],
            "type": "histogram2dcontour"
           }
          ],
          "mesh3d": [
           {
            "colorbar": {
             "outlinewidth": 0,
             "ticks": ""
            },
            "type": "mesh3d"
           }
          ],
          "parcoords": [
           {
            "line": {
             "colorbar": {
              "outlinewidth": 0,
              "ticks": ""
             }
            },
            "type": "parcoords"
           }
          ],
          "pie": [
           {
            "automargin": true,
            "type": "pie"
           }
          ],
          "scatter": [
           {
            "fillpattern": {
             "fillmode": "overlay",
             "size": 10,
             "solidity": 0.2
            },
            "type": "scatter"
           }
          ],
          "scatter3d": [
           {
            "line": {
             "colorbar": {
              "outlinewidth": 0,
              "ticks": ""
             }
            },
            "marker": {
             "colorbar": {
              "outlinewidth": 0,
              "ticks": ""
             }
            },
            "type": "scatter3d"
           }
          ],
          "scattercarpet": [
           {
            "marker": {
             "colorbar": {
              "outlinewidth": 0,
              "ticks": ""
             }
            },
            "type": "scattercarpet"
           }
          ],
          "scattergeo": [
           {
            "marker": {
             "colorbar": {
              "outlinewidth": 0,
              "ticks": ""
             }
            },
            "type": "scattergeo"
           }
          ],
          "scattergl": [
           {
            "marker": {
             "colorbar": {
              "outlinewidth": 0,
              "ticks": ""
             }
            },
            "type": "scattergl"
           }
          ],
          "scattermapbox": [
           {
            "marker": {
             "colorbar": {
              "outlinewidth": 0,
              "ticks": ""
             }
            },
            "type": "scattermapbox"
           }
          ],
          "scatterpolar": [
           {
            "marker": {
             "colorbar": {
              "outlinewidth": 0,
              "ticks": ""
             }
            },
            "type": "scatterpolar"
           }
          ],
          "scatterpolargl": [
           {
            "marker": {
             "colorbar": {
              "outlinewidth": 0,
              "ticks": ""
             }
            },
            "type": "scatterpolargl"
           }
          ],
          "scatterternary": [
           {
            "marker": {
             "colorbar": {
              "outlinewidth": 0,
              "ticks": ""
             }
            },
            "type": "scatterternary"
           }
          ],
          "surface": [
           {
            "colorbar": {
             "outlinewidth": 0,
             "ticks": ""
            },
            "colorscale": [
             [
              0,
              "#0d0887"
             ],
             [
              0.1111111111111111,
              "#46039f"
             ],
             [
              0.2222222222222222,
              "#7201a8"
             ],
             [
              0.3333333333333333,
              "#9c179e"
             ],
             [
              0.4444444444444444,
              "#bd3786"
             ],
             [
              0.5555555555555556,
              "#d8576b"
             ],
             [
              0.6666666666666666,
              "#ed7953"
             ],
             [
              0.7777777777777778,
              "#fb9f3a"
             ],
             [
              0.8888888888888888,
              "#fdca26"
             ],
             [
              1,
              "#f0f921"
             ]
            ],
            "type": "surface"
           }
          ],
          "table": [
           {
            "cells": {
             "fill": {
              "color": "#EBF0F8"
             },
             "line": {
              "color": "white"
             }
            },
            "header": {
             "fill": {
              "color": "#C8D4E3"
             },
             "line": {
              "color": "white"
             }
            },
            "type": "table"
           }
          ]
         },
         "layout": {
          "annotationdefaults": {
           "arrowcolor": "#2a3f5f",
           "arrowhead": 0,
           "arrowwidth": 1
          },
          "autotypenumbers": "strict",
          "coloraxis": {
           "colorbar": {
            "outlinewidth": 0,
            "ticks": ""
           }
          },
          "colorscale": {
           "diverging": [
            [
             0,
             "#8e0152"
            ],
            [
             0.1,
             "#c51b7d"
            ],
            [
             0.2,
             "#de77ae"
            ],
            [
             0.3,
             "#f1b6da"
            ],
            [
             0.4,
             "#fde0ef"
            ],
            [
             0.5,
             "#f7f7f7"
            ],
            [
             0.6,
             "#e6f5d0"
            ],
            [
             0.7,
             "#b8e186"
            ],
            [
             0.8,
             "#7fbc41"
            ],
            [
             0.9,
             "#4d9221"
            ],
            [
             1,
             "#276419"
            ]
           ],
           "sequential": [
            [
             0,
             "#0d0887"
            ],
            [
             0.1111111111111111,
             "#46039f"
            ],
            [
             0.2222222222222222,
             "#7201a8"
            ],
            [
             0.3333333333333333,
             "#9c179e"
            ],
            [
             0.4444444444444444,
             "#bd3786"
            ],
            [
             0.5555555555555556,
             "#d8576b"
            ],
            [
             0.6666666666666666,
             "#ed7953"
            ],
            [
             0.7777777777777778,
             "#fb9f3a"
            ],
            [
             0.8888888888888888,
             "#fdca26"
            ],
            [
             1,
             "#f0f921"
            ]
           ],
           "sequentialminus": [
            [
             0,
             "#0d0887"
            ],
            [
             0.1111111111111111,
             "#46039f"
            ],
            [
             0.2222222222222222,
             "#7201a8"
            ],
            [
             0.3333333333333333,
             "#9c179e"
            ],
            [
             0.4444444444444444,
             "#bd3786"
            ],
            [
             0.5555555555555556,
             "#d8576b"
            ],
            [
             0.6666666666666666,
             "#ed7953"
            ],
            [
             0.7777777777777778,
             "#fb9f3a"
            ],
            [
             0.8888888888888888,
             "#fdca26"
            ],
            [
             1,
             "#f0f921"
            ]
           ]
          },
          "colorway": [
           "#636efa",
           "#EF553B",
           "#00cc96",
           "#ab63fa",
           "#FFA15A",
           "#19d3f3",
           "#FF6692",
           "#B6E880",
           "#FF97FF",
           "#FECB52"
          ],
          "font": {
           "color": "#2a3f5f"
          },
          "geo": {
           "bgcolor": "white",
           "lakecolor": "white",
           "landcolor": "#E5ECF6",
           "showlakes": true,
           "showland": true,
           "subunitcolor": "white"
          },
          "hoverlabel": {
           "align": "left"
          },
          "hovermode": "closest",
          "mapbox": {
           "style": "light"
          },
          "paper_bgcolor": "white",
          "plot_bgcolor": "#E5ECF6",
          "polar": {
           "angularaxis": {
            "gridcolor": "white",
            "linecolor": "white",
            "ticks": ""
           },
           "bgcolor": "#E5ECF6",
           "radialaxis": {
            "gridcolor": "white",
            "linecolor": "white",
            "ticks": ""
           }
          },
          "scene": {
           "xaxis": {
            "backgroundcolor": "#E5ECF6",
            "gridcolor": "white",
            "gridwidth": 2,
            "linecolor": "white",
            "showbackground": true,
            "ticks": "",
            "zerolinecolor": "white"
           },
           "yaxis": {
            "backgroundcolor": "#E5ECF6",
            "gridcolor": "white",
            "gridwidth": 2,
            "linecolor": "white",
            "showbackground": true,
            "ticks": "",
            "zerolinecolor": "white"
           },
           "zaxis": {
            "backgroundcolor": "#E5ECF6",
            "gridcolor": "white",
            "gridwidth": 2,
            "linecolor": "white",
            "showbackground": true,
            "ticks": "",
            "zerolinecolor": "white"
           }
          },
          "shapedefaults": {
           "line": {
            "color": "#2a3f5f"
           }
          },
          "ternary": {
           "aaxis": {
            "gridcolor": "white",
            "linecolor": "white",
            "ticks": ""
           },
           "baxis": {
            "gridcolor": "white",
            "linecolor": "white",
            "ticks": ""
           },
           "bgcolor": "#E5ECF6",
           "caxis": {
            "gridcolor": "white",
            "linecolor": "white",
            "ticks": ""
           }
          },
          "title": {
           "x": 0.05
          },
          "xaxis": {
           "automargin": true,
           "gridcolor": "white",
           "linecolor": "white",
           "ticks": "",
           "title": {
            "standoff": 15
           },
           "zerolinecolor": "white",
           "zerolinewidth": 2
          },
          "yaxis": {
           "automargin": true,
           "gridcolor": "white",
           "linecolor": "white",
           "ticks": "",
           "title": {
            "standoff": 15
           },
           "zerolinecolor": "white",
           "zerolinewidth": 2
          }
         }
        },
        "title": {
         "text": "Curva Típica da Saída do Reservatório ao Longo de 24h"
        },
        "xaxis": {
         "anchor": "y",
         "domain": [
          0,
          1
         ],
         "title": {
          "text": "Hora do Dia"
         }
        },
        "yaxis": {
         "anchor": "x",
         "domain": [
          0,
          1
         ],
         "title": {
          "text": "Saída do Reservatório (l/s)"
         }
        }
       }
      }
     },
     "metadata": {},
     "output_type": "display_data"
    }
   ],
   "source": [
    "# Criar o gráfico com Plotly Express\n",
    "fig = px.line(df_combined, x='hour', y='flow_out_(l/s)', color='Tipo',\n",
    "              labels={'hour': 'Hora do Dia', 'flow_out_(l/s)': 'Saída do Reservatório (l/s)'},\n",
    "              title='Curva Típica da Saída do Reservatório ao Longo de 24h')\n",
    "\n",
    "# Mostrar o gráfico\n",
    "fig.show()"
   ]
  }
 ],
 "metadata": {
  "kernelspec": {
   "display_name": "pcd",
   "language": "python",
   "name": "python3"
  },
  "language_info": {
   "codemirror_mode": {
    "name": "ipython",
    "version": 3
   },
   "file_extension": ".py",
   "mimetype": "text/x-python",
   "name": "python",
   "nbconvert_exporter": "python",
   "pygments_lexer": "ipython3",
   "version": "3.12.2"
  }
 },
 "nbformat": 4,
 "nbformat_minor": 2
}
