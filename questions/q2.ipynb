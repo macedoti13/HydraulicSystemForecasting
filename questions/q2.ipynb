{
 "cells": [
  {
   "cell_type": "markdown",
   "metadata": {},
   "source": [
    "## Qual a curva típica da saída do reservatório ao longo de 24h durante os dias úteis? E nos finais de semana?"
   ]
  },
  {
   "cell_type": "code",
   "execution_count": 1,
   "metadata": {},
   "outputs": [],
   "source": [
    "import plotly.express as px\n",
    "from pathlib import Path\n",
    "import pandas as pd "
   ]
  },
  {
   "cell_type": "code",
   "execution_count": 2,
   "metadata": {},
   "outputs": [
    {
     "data": {
      "text/html": [
       "<div>\n",
       "<style scoped>\n",
       "    .dataframe tbody tr th:only-of-type {\n",
       "        vertical-align: middle;\n",
       "    }\n",
       "\n",
       "    .dataframe tbody tr th {\n",
       "        vertical-align: top;\n",
       "    }\n",
       "\n",
       "    .dataframe thead th {\n",
       "        text-align: right;\n",
       "    }\n",
       "</style>\n",
       "<table border=\"1\" class=\"dataframe\">\n",
       "  <thead>\n",
       "    <tr style=\"text-align: right;\">\n",
       "      <th></th>\n",
       "      <th>timestamp</th>\n",
       "      <th>flow_in_(l/s)</th>\n",
       "      <th>reservoir_level_(%)</th>\n",
       "      <th>pressure_(mca)</th>\n",
       "      <th>gmb_1_is_on</th>\n",
       "      <th>gmb_2_is_on</th>\n",
       "      <th>reservoir_level_liters</th>\n",
       "      <th>time_passed_seconds</th>\n",
       "      <th>liters_entered</th>\n",
       "      <th>flow_out_(l/s)</th>\n",
       "    </tr>\n",
       "  </thead>\n",
       "  <tbody>\n",
       "    <tr>\n",
       "      <th>0</th>\n",
       "      <td>2023-03-17 11:27:06</td>\n",
       "      <td>68.59</td>\n",
       "      <td>29.86</td>\n",
       "      <td>38.20</td>\n",
       "      <td>0</td>\n",
       "      <td>1</td>\n",
       "      <td>298600.0</td>\n",
       "      <td>NaN</td>\n",
       "      <td>NaN</td>\n",
       "      <td>NaN</td>\n",
       "    </tr>\n",
       "    <tr>\n",
       "      <th>1</th>\n",
       "      <td>2023-03-17 12:28:56</td>\n",
       "      <td>66.05</td>\n",
       "      <td>35.86</td>\n",
       "      <td>38.20</td>\n",
       "      <td>0</td>\n",
       "      <td>1</td>\n",
       "      <td>358600.0</td>\n",
       "      <td>3710.0</td>\n",
       "      <td>60000.0</td>\n",
       "      <td>49.877493</td>\n",
       "    </tr>\n",
       "    <tr>\n",
       "      <th>2</th>\n",
       "      <td>2023-03-17 12:31:26</td>\n",
       "      <td>65.64</td>\n",
       "      <td>36.16</td>\n",
       "      <td>38.06</td>\n",
       "      <td>0</td>\n",
       "      <td>1</td>\n",
       "      <td>361600.0</td>\n",
       "      <td>150.0</td>\n",
       "      <td>3000.0</td>\n",
       "      <td>45.640000</td>\n",
       "    </tr>\n",
       "    <tr>\n",
       "      <th>3</th>\n",
       "      <td>2023-03-17 12:33:56</td>\n",
       "      <td>65.64</td>\n",
       "      <td>36.50</td>\n",
       "      <td>38.03</td>\n",
       "      <td>0</td>\n",
       "      <td>1</td>\n",
       "      <td>365000.0</td>\n",
       "      <td>150.0</td>\n",
       "      <td>3400.0</td>\n",
       "      <td>42.973333</td>\n",
       "    </tr>\n",
       "    <tr>\n",
       "      <th>4</th>\n",
       "      <td>2023-03-17 12:36:26</td>\n",
       "      <td>65.64</td>\n",
       "      <td>36.80</td>\n",
       "      <td>38.17</td>\n",
       "      <td>0</td>\n",
       "      <td>1</td>\n",
       "      <td>368000.0</td>\n",
       "      <td>150.0</td>\n",
       "      <td>3000.0</td>\n",
       "      <td>45.640000</td>\n",
       "    </tr>\n",
       "  </tbody>\n",
       "</table>\n",
       "</div>"
      ],
      "text/plain": [
       "            timestamp  flow_in_(l/s)  reservoir_level_(%)  pressure_(mca)  \\\n",
       "0 2023-03-17 11:27:06          68.59                29.86           38.20   \n",
       "1 2023-03-17 12:28:56          66.05                35.86           38.20   \n",
       "2 2023-03-17 12:31:26          65.64                36.16           38.06   \n",
       "3 2023-03-17 12:33:56          65.64                36.50           38.03   \n",
       "4 2023-03-17 12:36:26          65.64                36.80           38.17   \n",
       "\n",
       "   gmb_1_is_on  gmb_2_is_on  reservoir_level_liters  time_passed_seconds  \\\n",
       "0            0            1                298600.0                  NaN   \n",
       "1            0            1                358600.0               3710.0   \n",
       "2            0            1                361600.0                150.0   \n",
       "3            0            1                365000.0                150.0   \n",
       "4            0            1                368000.0                150.0   \n",
       "\n",
       "   liters_entered  flow_out_(l/s)  \n",
       "0             NaN             NaN  \n",
       "1         60000.0       49.877493  \n",
       "2          3000.0       45.640000  \n",
       "3          3400.0       42.973333  \n",
       "4          3000.0       45.640000  "
      ]
     },
     "execution_count": 2,
     "metadata": {},
     "output_type": "execute_result"
    }
   ],
   "source": [
    "df_path = Path(\"../data/curated_data/water_consumption_curated_1.partquet\")\n",
    "df = pd.read_parquet(df_path)\n",
    "df.head()"
   ]
  },
  {
   "cell_type": "code",
   "execution_count": 3,
   "metadata": {},
   "outputs": [
    {
     "data": {
      "text/html": [
       "<div>\n",
       "<style scoped>\n",
       "    .dataframe tbody tr th:only-of-type {\n",
       "        vertical-align: middle;\n",
       "    }\n",
       "\n",
       "    .dataframe tbody tr th {\n",
       "        vertical-align: top;\n",
       "    }\n",
       "\n",
       "    .dataframe thead th {\n",
       "        text-align: right;\n",
       "    }\n",
       "</style>\n",
       "<table border=\"1\" class=\"dataframe\">\n",
       "  <thead>\n",
       "    <tr style=\"text-align: right;\">\n",
       "      <th></th>\n",
       "      <th>timestamp</th>\n",
       "      <th>flow_in_(l/s)</th>\n",
       "      <th>reservoir_level_(%)</th>\n",
       "      <th>pressure_(mca)</th>\n",
       "      <th>gmb_1_is_on</th>\n",
       "      <th>gmb_2_is_on</th>\n",
       "      <th>reservoir_level_liters</th>\n",
       "      <th>time_passed_seconds</th>\n",
       "      <th>liters_entered</th>\n",
       "      <th>flow_out_(l/s)</th>\n",
       "      <th>day_of_week</th>\n",
       "      <th>hour</th>\n",
       "    </tr>\n",
       "  </thead>\n",
       "  <tbody>\n",
       "    <tr>\n",
       "      <th>0</th>\n",
       "      <td>2023-03-17 11:27:06</td>\n",
       "      <td>68.59</td>\n",
       "      <td>29.86</td>\n",
       "      <td>38.20</td>\n",
       "      <td>0</td>\n",
       "      <td>1</td>\n",
       "      <td>298600.0</td>\n",
       "      <td>NaN</td>\n",
       "      <td>NaN</td>\n",
       "      <td>NaN</td>\n",
       "      <td>4</td>\n",
       "      <td>11</td>\n",
       "    </tr>\n",
       "    <tr>\n",
       "      <th>1</th>\n",
       "      <td>2023-03-17 12:28:56</td>\n",
       "      <td>66.05</td>\n",
       "      <td>35.86</td>\n",
       "      <td>38.20</td>\n",
       "      <td>0</td>\n",
       "      <td>1</td>\n",
       "      <td>358600.0</td>\n",
       "      <td>3710.0</td>\n",
       "      <td>60000.0</td>\n",
       "      <td>49.877493</td>\n",
       "      <td>4</td>\n",
       "      <td>12</td>\n",
       "    </tr>\n",
       "    <tr>\n",
       "      <th>2</th>\n",
       "      <td>2023-03-17 12:31:26</td>\n",
       "      <td>65.64</td>\n",
       "      <td>36.16</td>\n",
       "      <td>38.06</td>\n",
       "      <td>0</td>\n",
       "      <td>1</td>\n",
       "      <td>361600.0</td>\n",
       "      <td>150.0</td>\n",
       "      <td>3000.0</td>\n",
       "      <td>45.640000</td>\n",
       "      <td>4</td>\n",
       "      <td>12</td>\n",
       "    </tr>\n",
       "    <tr>\n",
       "      <th>3</th>\n",
       "      <td>2023-03-17 12:33:56</td>\n",
       "      <td>65.64</td>\n",
       "      <td>36.50</td>\n",
       "      <td>38.03</td>\n",
       "      <td>0</td>\n",
       "      <td>1</td>\n",
       "      <td>365000.0</td>\n",
       "      <td>150.0</td>\n",
       "      <td>3400.0</td>\n",
       "      <td>42.973333</td>\n",
       "      <td>4</td>\n",
       "      <td>12</td>\n",
       "    </tr>\n",
       "    <tr>\n",
       "      <th>4</th>\n",
       "      <td>2023-03-17 12:36:26</td>\n",
       "      <td>65.64</td>\n",
       "      <td>36.80</td>\n",
       "      <td>38.17</td>\n",
       "      <td>0</td>\n",
       "      <td>1</td>\n",
       "      <td>368000.0</td>\n",
       "      <td>150.0</td>\n",
       "      <td>3000.0</td>\n",
       "      <td>45.640000</td>\n",
       "      <td>4</td>\n",
       "      <td>12</td>\n",
       "    </tr>\n",
       "  </tbody>\n",
       "</table>\n",
       "</div>"
      ],
      "text/plain": [
       "            timestamp  flow_in_(l/s)  reservoir_level_(%)  pressure_(mca)  \\\n",
       "0 2023-03-17 11:27:06          68.59                29.86           38.20   \n",
       "1 2023-03-17 12:28:56          66.05                35.86           38.20   \n",
       "2 2023-03-17 12:31:26          65.64                36.16           38.06   \n",
       "3 2023-03-17 12:33:56          65.64                36.50           38.03   \n",
       "4 2023-03-17 12:36:26          65.64                36.80           38.17   \n",
       "\n",
       "   gmb_1_is_on  gmb_2_is_on  reservoir_level_liters  time_passed_seconds  \\\n",
       "0            0            1                298600.0                  NaN   \n",
       "1            0            1                358600.0               3710.0   \n",
       "2            0            1                361600.0                150.0   \n",
       "3            0            1                365000.0                150.0   \n",
       "4            0            1                368000.0                150.0   \n",
       "\n",
       "   liters_entered  flow_out_(l/s)  day_of_week  hour  \n",
       "0             NaN             NaN            4    11  \n",
       "1         60000.0       49.877493            4    12  \n",
       "2          3000.0       45.640000            4    12  \n",
       "3          3400.0       42.973333            4    12  \n",
       "4          3000.0       45.640000            4    12  "
      ]
     },
     "execution_count": 3,
     "metadata": {},
     "output_type": "execute_result"
    }
   ],
   "source": [
    "# Converter a coluna 'timestamp' para datetime\n",
    "df['timestamp'] = pd.to_datetime(df['timestamp'])\n",
    "\n",
    "# Adicionar uma coluna para o dia da semana (0 = segunda-feira, 6 = domingo)\n",
    "df['day_of_week'] = df['timestamp'].dt.dayofweek\n",
    "\n",
    "# Adicionar uma coluna para a hora do dia\n",
    "df['hour'] = df['timestamp'].dt.hour\n",
    "\n",
    "df.head()"
   ]
  },
  {
   "cell_type": "code",
   "execution_count": 4,
   "metadata": {},
   "outputs": [
    {
     "data": {
      "text/html": [
       "<div>\n",
       "<style scoped>\n",
       "    .dataframe tbody tr th:only-of-type {\n",
       "        vertical-align: middle;\n",
       "    }\n",
       "\n",
       "    .dataframe tbody tr th {\n",
       "        vertical-align: top;\n",
       "    }\n",
       "\n",
       "    .dataframe thead th {\n",
       "        text-align: right;\n",
       "    }\n",
       "</style>\n",
       "<table border=\"1\" class=\"dataframe\">\n",
       "  <thead>\n",
       "    <tr style=\"text-align: right;\">\n",
       "      <th></th>\n",
       "      <th>hour</th>\n",
       "      <th>flow_out_(l/s)</th>\n",
       "      <th>Tipo</th>\n",
       "    </tr>\n",
       "  </thead>\n",
       "  <tbody>\n",
       "    <tr>\n",
       "      <th>0</th>\n",
       "      <td>0</td>\n",
       "      <td>27.157685</td>\n",
       "      <td>Dias Úteis</td>\n",
       "    </tr>\n",
       "    <tr>\n",
       "      <th>1</th>\n",
       "      <td>1</td>\n",
       "      <td>24.591341</td>\n",
       "      <td>Dias Úteis</td>\n",
       "    </tr>\n",
       "    <tr>\n",
       "      <th>2</th>\n",
       "      <td>2</td>\n",
       "      <td>24.667034</td>\n",
       "      <td>Dias Úteis</td>\n",
       "    </tr>\n",
       "    <tr>\n",
       "      <th>3</th>\n",
       "      <td>3</td>\n",
       "      <td>21.601851</td>\n",
       "      <td>Dias Úteis</td>\n",
       "    </tr>\n",
       "    <tr>\n",
       "      <th>4</th>\n",
       "      <td>4</td>\n",
       "      <td>23.424464</td>\n",
       "      <td>Dias Úteis</td>\n",
       "    </tr>\n",
       "  </tbody>\n",
       "</table>\n",
       "</div>"
      ],
      "text/plain": [
       "   hour  flow_out_(l/s)        Tipo\n",
       "0     0       27.157685  Dias Úteis\n",
       "1     1       24.591341  Dias Úteis\n",
       "2     2       24.667034  Dias Úteis\n",
       "3     3       21.601851  Dias Úteis\n",
       "4     4       23.424464  Dias Úteis"
      ]
     },
     "execution_count": 4,
     "metadata": {},
     "output_type": "execute_result"
    }
   ],
   "source": [
    "df_weekdays = df[df['day_of_week'] < 5]\n",
    "df_weekends = df[df['day_of_week'] >= 5]\n",
    "\n",
    "# Agrupar por hora e calcular a média da saída do reservatório para dias úteis\n",
    "flow_out_weekdays = df_weekdays.groupby('hour')['flow_out_(l/s)'].mean().reset_index()\n",
    "\n",
    "# Agrupar por hora e calcular a média da saída do reservatório para finais de semana\n",
    "flow_out_weekends = df_weekends.groupby('hour')['flow_out_(l/s)'].mean().reset_index()\n",
    "\n",
    "# Adicionar coluna para diferenciar dias úteis e finais de semana\n",
    "flow_out_weekdays['Tipo'] = 'Dias Úteis'\n",
    "flow_out_weekends['Tipo'] = 'Finais de Semana'\n",
    "\n",
    "# Combinar os dados em um único DataFrame\n",
    "df_combined = pd.concat([flow_out_weekdays, flow_out_weekends])\n",
    "df_combined.head()"
   ]
  },
  {
   "cell_type": "code",
   "execution_count": 5,
   "metadata": {},
   "outputs": [
    {
     "data": {
      "application/vnd.plotly.v1+json": {
       "config": {
        "plotlyServerURL": "https://plot.ly"
       },
       "data": [
        {
         "hovertemplate": "Tipo=Dias Úteis<br>Hora do Dia=%{x}<br>Saída do Reservatório (l/s)=%{y}<extra></extra>",
         "legendgroup": "Dias Úteis",
         "line": {
          "color": "#636efa",
          "dash": "solid"
         },
         "marker": {
          "symbol": "circle"
         },
         "mode": "lines",
         "name": "Dias Úteis",
         "orientation": "v",
         "showlegend": true,
         "type": "scatter",
         "x": [
          0,
          1,
          2,
          3,
          4,
          5,
          6,
          7,
          8,
          9,
          10,
          11,
          12,
          13,
          14,
          15,
          16,
          17,
          18,
          19,
          20,
          21,
          22,
          23
         ],
         "xaxis": "x",
         "y": [
          27.157685210767408,
          24.59134092795691,
          24.6670340185156,
          21.60185099676881,
          23.42446426091247,
          26.09902158046649,
          29.547735395919105,
          32.668164435584735,
          33.026976109254385,
          34.78650395983335,
          37.40304435668982,
          36.34339876781106,
          40.26783793630301,
          41.64550787456745,
          37.341329447301156,
          36.674227677637376,
          34.555377084597644,
          33.379716823513604,
          36.794776254034836,
          37.93296100657599,
          36.76010849287818,
          35.605654112244835,
          33.30822944377239,
          30.674783142588858
         ],
         "yaxis": "y"
        },
        {
         "hovertemplate": "Tipo=Finais de Semana<br>Hora do Dia=%{x}<br>Saída do Reservatório (l/s)=%{y}<extra></extra>",
         "legendgroup": "Finais de Semana",
         "line": {
          "color": "#EF553B",
          "dash": "solid"
         },
         "marker": {
          "symbol": "circle"
         },
         "mode": "lines",
         "name": "Finais de Semana",
         "orientation": "v",
         "showlegend": true,
         "type": "scatter",
         "x": [
          0,
          1,
          2,
          3,
          4,
          5,
          6,
          7,
          8,
          9,
          10,
          11,
          12,
          13,
          14,
          15,
          16,
          17,
          18,
          19,
          20,
          21,
          22,
          23
         ],
         "xaxis": "x",
         "y": [
          29.20596547202862,
          24.826926691341882,
          22.711092956600393,
          22.020289831133177,
          22.23497739754228,
          24.629582415647654,
          25.870151457292618,
          29.36137482987221,
          33.16244014782262,
          38.43866248238582,
          40.44946443217259,
          44.12331908978393,
          45.648411167570416,
          45.20456297200593,
          42.74492689234817,
          40.31581805073249,
          26.581735345185113,
          36.072853795124395,
          34.94521507830277,
          37.296882168189185,
          33.23145741954005,
          33.078325267784464,
          33.16903021203218,
          31.022206415877417
         ],
         "yaxis": "y"
        }
       ],
       "layout": {
        "legend": {
         "title": {
          "text": "Tipo"
         },
         "tracegroupgap": 0
        },
        "template": {
         "data": {
          "bar": [
           {
            "error_x": {
             "color": "#2a3f5f"
            },
            "error_y": {
             "color": "#2a3f5f"
            },
            "marker": {
             "line": {
              "color": "#E5ECF6",
              "width": 0.5
             },
             "pattern": {
              "fillmode": "overlay",
              "size": 10,
              "solidity": 0.2
             }
            },
            "type": "bar"
           }
          ],
          "barpolar": [
           {
            "marker": {
             "line": {
              "color": "#E5ECF6",
              "width": 0.5
             },
             "pattern": {
              "fillmode": "overlay",
              "size": 10,
              "solidity": 0.2
             }
            },
            "type": "barpolar"
           }
          ],
          "carpet": [
           {
            "aaxis": {
             "endlinecolor": "#2a3f5f",
             "gridcolor": "white",
             "linecolor": "white",
             "minorgridcolor": "white",
             "startlinecolor": "#2a3f5f"
            },
            "baxis": {
             "endlinecolor": "#2a3f5f",
             "gridcolor": "white",
             "linecolor": "white",
             "minorgridcolor": "white",
             "startlinecolor": "#2a3f5f"
            },
            "type": "carpet"
           }
          ],
          "choropleth": [
           {
            "colorbar": {
             "outlinewidth": 0,
             "ticks": ""
            },
            "type": "choropleth"
           }
          ],
          "contour": [
           {
            "colorbar": {
             "outlinewidth": 0,
             "ticks": ""
            },
            "colorscale": [
             [
              0,
              "#0d0887"
             ],
             [
              0.1111111111111111,
              "#46039f"
             ],
             [
              0.2222222222222222,
              "#7201a8"
             ],
             [
              0.3333333333333333,
              "#9c179e"
             ],
             [
              0.4444444444444444,
              "#bd3786"
             ],
             [
              0.5555555555555556,
              "#d8576b"
             ],
             [
              0.6666666666666666,
              "#ed7953"
             ],
             [
              0.7777777777777778,
              "#fb9f3a"
             ],
             [
              0.8888888888888888,
              "#fdca26"
             ],
             [
              1,
              "#f0f921"
             ]
            ],
            "type": "contour"
           }
          ],
          "contourcarpet": [
           {
            "colorbar": {
             "outlinewidth": 0,
             "ticks": ""
            },
            "type": "contourcarpet"
           }
          ],
          "heatmap": [
           {
            "colorbar": {
             "outlinewidth": 0,
             "ticks": ""
            },
            "colorscale": [
             [
              0,
              "#0d0887"
             ],
             [
              0.1111111111111111,
              "#46039f"
             ],
             [
              0.2222222222222222,
              "#7201a8"
             ],
             [
              0.3333333333333333,
              "#9c179e"
             ],
             [
              0.4444444444444444,
              "#bd3786"
             ],
             [
              0.5555555555555556,
              "#d8576b"
             ],
             [
              0.6666666666666666,
              "#ed7953"
             ],
             [
              0.7777777777777778,
              "#fb9f3a"
             ],
             [
              0.8888888888888888,
              "#fdca26"
             ],
             [
              1,
              "#f0f921"
             ]
            ],
            "type": "heatmap"
           }
          ],
          "heatmapgl": [
           {
            "colorbar": {
             "outlinewidth": 0,
             "ticks": ""
            },
            "colorscale": [
             [
              0,
              "#0d0887"
             ],
             [
              0.1111111111111111,
              "#46039f"
             ],
             [
              0.2222222222222222,
              "#7201a8"
             ],
             [
              0.3333333333333333,
              "#9c179e"
             ],
             [
              0.4444444444444444,
              "#bd3786"
             ],
             [
              0.5555555555555556,
              "#d8576b"
             ],
             [
              0.6666666666666666,
              "#ed7953"
             ],
             [
              0.7777777777777778,
              "#fb9f3a"
             ],
             [
              0.8888888888888888,
              "#fdca26"
             ],
             [
              1,
              "#f0f921"
             ]
            ],
            "type": "heatmapgl"
           }
          ],
          "histogram": [
           {
            "marker": {
             "pattern": {
              "fillmode": "overlay",
              "size": 10,
              "solidity": 0.2
             }
            },
            "type": "histogram"
           }
          ],
          "histogram2d": [
           {
            "colorbar": {
             "outlinewidth": 0,
             "ticks": ""
            },
            "colorscale": [
             [
              0,
              "#0d0887"
             ],
             [
              0.1111111111111111,
              "#46039f"
             ],
             [
              0.2222222222222222,
              "#7201a8"
             ],
             [
              0.3333333333333333,
              "#9c179e"
             ],
             [
              0.4444444444444444,
              "#bd3786"
             ],
             [
              0.5555555555555556,
              "#d8576b"
             ],
             [
              0.6666666666666666,
              "#ed7953"
             ],
             [
              0.7777777777777778,
              "#fb9f3a"
             ],
             [
              0.8888888888888888,
              "#fdca26"
             ],
             [
              1,
              "#f0f921"
             ]
            ],
            "type": "histogram2d"
           }
          ],
          "histogram2dcontour": [
           {
            "colorbar": {
             "outlinewidth": 0,
             "ticks": ""
            },
            "colorscale": [
             [
              0,
              "#0d0887"
             ],
             [
              0.1111111111111111,
              "#46039f"
             ],
             [
              0.2222222222222222,
              "#7201a8"
             ],
             [
              0.3333333333333333,
              "#9c179e"
             ],
             [
              0.4444444444444444,
              "#bd3786"
             ],
             [
              0.5555555555555556,
              "#d8576b"
             ],
             [
              0.6666666666666666,
              "#ed7953"
             ],
             [
              0.7777777777777778,
              "#fb9f3a"
             ],
             [
              0.8888888888888888,
              "#fdca26"
             ],
             [
              1,
              "#f0f921"
             ]
            ],
            "type": "histogram2dcontour"
           }
          ],
          "mesh3d": [
           {
            "colorbar": {
             "outlinewidth": 0,
             "ticks": ""
            },
            "type": "mesh3d"
           }
          ],
          "parcoords": [
           {
            "line": {
             "colorbar": {
              "outlinewidth": 0,
              "ticks": ""
             }
            },
            "type": "parcoords"
           }
          ],
          "pie": [
           {
            "automargin": true,
            "type": "pie"
           }
          ],
          "scatter": [
           {
            "fillpattern": {
             "fillmode": "overlay",
             "size": 10,
             "solidity": 0.2
            },
            "type": "scatter"
           }
          ],
          "scatter3d": [
           {
            "line": {
             "colorbar": {
              "outlinewidth": 0,
              "ticks": ""
             }
            },
            "marker": {
             "colorbar": {
              "outlinewidth": 0,
              "ticks": ""
             }
            },
            "type": "scatter3d"
           }
          ],
          "scattercarpet": [
           {
            "marker": {
             "colorbar": {
              "outlinewidth": 0,
              "ticks": ""
             }
            },
            "type": "scattercarpet"
           }
          ],
          "scattergeo": [
           {
            "marker": {
             "colorbar": {
              "outlinewidth": 0,
              "ticks": ""
             }
            },
            "type": "scattergeo"
           }
          ],
          "scattergl": [
           {
            "marker": {
             "colorbar": {
              "outlinewidth": 0,
              "ticks": ""
             }
            },
            "type": "scattergl"
           }
          ],
          "scattermapbox": [
           {
            "marker": {
             "colorbar": {
              "outlinewidth": 0,
              "ticks": ""
             }
            },
            "type": "scattermapbox"
           }
          ],
          "scatterpolar": [
           {
            "marker": {
             "colorbar": {
              "outlinewidth": 0,
              "ticks": ""
             }
            },
            "type": "scatterpolar"
           }
          ],
          "scatterpolargl": [
           {
            "marker": {
             "colorbar": {
              "outlinewidth": 0,
              "ticks": ""
             }
            },
            "type": "scatterpolargl"
           }
          ],
          "scatterternary": [
           {
            "marker": {
             "colorbar": {
              "outlinewidth": 0,
              "ticks": ""
             }
            },
            "type": "scatterternary"
           }
          ],
          "surface": [
           {
            "colorbar": {
             "outlinewidth": 0,
             "ticks": ""
            },
            "colorscale": [
             [
              0,
              "#0d0887"
             ],
             [
              0.1111111111111111,
              "#46039f"
             ],
             [
              0.2222222222222222,
              "#7201a8"
             ],
             [
              0.3333333333333333,
              "#9c179e"
             ],
             [
              0.4444444444444444,
              "#bd3786"
             ],
             [
              0.5555555555555556,
              "#d8576b"
             ],
             [
              0.6666666666666666,
              "#ed7953"
             ],
             [
              0.7777777777777778,
              "#fb9f3a"
             ],
             [
              0.8888888888888888,
              "#fdca26"
             ],
             [
              1,
              "#f0f921"
             ]
            ],
            "type": "surface"
           }
          ],
          "table": [
           {
            "cells": {
             "fill": {
              "color": "#EBF0F8"
             },
             "line": {
              "color": "white"
             }
            },
            "header": {
             "fill": {
              "color": "#C8D4E3"
             },
             "line": {
              "color": "white"
             }
            },
            "type": "table"
           }
          ]
         },
         "layout": {
          "annotationdefaults": {
           "arrowcolor": "#2a3f5f",
           "arrowhead": 0,
           "arrowwidth": 1
          },
          "autotypenumbers": "strict",
          "coloraxis": {
           "colorbar": {
            "outlinewidth": 0,
            "ticks": ""
           }
          },
          "colorscale": {
           "diverging": [
            [
             0,
             "#8e0152"
            ],
            [
             0.1,
             "#c51b7d"
            ],
            [
             0.2,
             "#de77ae"
            ],
            [
             0.3,
             "#f1b6da"
            ],
            [
             0.4,
             "#fde0ef"
            ],
            [
             0.5,
             "#f7f7f7"
            ],
            [
             0.6,
             "#e6f5d0"
            ],
            [
             0.7,
             "#b8e186"
            ],
            [
             0.8,
             "#7fbc41"
            ],
            [
             0.9,
             "#4d9221"
            ],
            [
             1,
             "#276419"
            ]
           ],
           "sequential": [
            [
             0,
             "#0d0887"
            ],
            [
             0.1111111111111111,
             "#46039f"
            ],
            [
             0.2222222222222222,
             "#7201a8"
            ],
            [
             0.3333333333333333,
             "#9c179e"
            ],
            [
             0.4444444444444444,
             "#bd3786"
            ],
            [
             0.5555555555555556,
             "#d8576b"
            ],
            [
             0.6666666666666666,
             "#ed7953"
            ],
            [
             0.7777777777777778,
             "#fb9f3a"
            ],
            [
             0.8888888888888888,
             "#fdca26"
            ],
            [
             1,
             "#f0f921"
            ]
           ],
           "sequentialminus": [
            [
             0,
             "#0d0887"
            ],
            [
             0.1111111111111111,
             "#46039f"
            ],
            [
             0.2222222222222222,
             "#7201a8"
            ],
            [
             0.3333333333333333,
             "#9c179e"
            ],
            [
             0.4444444444444444,
             "#bd3786"
            ],
            [
             0.5555555555555556,
             "#d8576b"
            ],
            [
             0.6666666666666666,
             "#ed7953"
            ],
            [
             0.7777777777777778,
             "#fb9f3a"
            ],
            [
             0.8888888888888888,
             "#fdca26"
            ],
            [
             1,
             "#f0f921"
            ]
           ]
          },
          "colorway": [
           "#636efa",
           "#EF553B",
           "#00cc96",
           "#ab63fa",
           "#FFA15A",
           "#19d3f3",
           "#FF6692",
           "#B6E880",
           "#FF97FF",
           "#FECB52"
          ],
          "font": {
           "color": "#2a3f5f"
          },
          "geo": {
           "bgcolor": "white",
           "lakecolor": "white",
           "landcolor": "#E5ECF6",
           "showlakes": true,
           "showland": true,
           "subunitcolor": "white"
          },
          "hoverlabel": {
           "align": "left"
          },
          "hovermode": "closest",
          "mapbox": {
           "style": "light"
          },
          "paper_bgcolor": "white",
          "plot_bgcolor": "#E5ECF6",
          "polar": {
           "angularaxis": {
            "gridcolor": "white",
            "linecolor": "white",
            "ticks": ""
           },
           "bgcolor": "#E5ECF6",
           "radialaxis": {
            "gridcolor": "white",
            "linecolor": "white",
            "ticks": ""
           }
          },
          "scene": {
           "xaxis": {
            "backgroundcolor": "#E5ECF6",
            "gridcolor": "white",
            "gridwidth": 2,
            "linecolor": "white",
            "showbackground": true,
            "ticks": "",
            "zerolinecolor": "white"
           },
           "yaxis": {
            "backgroundcolor": "#E5ECF6",
            "gridcolor": "white",
            "gridwidth": 2,
            "linecolor": "white",
            "showbackground": true,
            "ticks": "",
            "zerolinecolor": "white"
           },
           "zaxis": {
            "backgroundcolor": "#E5ECF6",
            "gridcolor": "white",
            "gridwidth": 2,
            "linecolor": "white",
            "showbackground": true,
            "ticks": "",
            "zerolinecolor": "white"
           }
          },
          "shapedefaults": {
           "line": {
            "color": "#2a3f5f"
           }
          },
          "ternary": {
           "aaxis": {
            "gridcolor": "white",
            "linecolor": "white",
            "ticks": ""
           },
           "baxis": {
            "gridcolor": "white",
            "linecolor": "white",
            "ticks": ""
           },
           "bgcolor": "#E5ECF6",
           "caxis": {
            "gridcolor": "white",
            "linecolor": "white",
            "ticks": ""
           }
          },
          "title": {
           "x": 0.05
          },
          "xaxis": {
           "automargin": true,
           "gridcolor": "white",
           "linecolor": "white",
           "ticks": "",
           "title": {
            "standoff": 15
           },
           "zerolinecolor": "white",
           "zerolinewidth": 2
          },
          "yaxis": {
           "automargin": true,
           "gridcolor": "white",
           "linecolor": "white",
           "ticks": "",
           "title": {
            "standoff": 15
           },
           "zerolinecolor": "white",
           "zerolinewidth": 2
          }
         }
        },
        "title": {
         "text": "Curva Típica da Saída do Reservatório ao Longo de 24h"
        },
        "xaxis": {
         "anchor": "y",
         "domain": [
          0,
          1
         ],
         "title": {
          "text": "Hora do Dia"
         }
        },
        "yaxis": {
         "anchor": "x",
         "domain": [
          0,
          1
         ],
         "title": {
          "text": "Saída do Reservatório (l/s)"
         }
        }
       }
      }
     },
     "metadata": {},
     "output_type": "display_data"
    }
   ],
   "source": [
    "# Criar o gráfico com Plotly Express\n",
    "fig = px.line(df_combined, x='hour', y='flow_out_(l/s)', color='Tipo',\n",
    "              labels={'hour': 'Hora do Dia', 'flow_out_(l/s)': 'Saída do Reservatório (l/s)'},\n",
    "              title='Curva Típica da Saída do Reservatório ao Longo de 24h')\n",
    "\n",
    "# Mostrar o gráfico\n",
    "fig.show()"
   ]
  }
 ],
 "metadata": {
  "kernelspec": {
   "display_name": "pcd",
   "language": "python",
   "name": "python3"
  },
  "language_info": {
   "codemirror_mode": {
    "name": "ipython",
    "version": 3
   },
   "file_extension": ".py",
   "mimetype": "text/x-python",
   "name": "python",
   "nbconvert_exporter": "python",
   "pygments_lexer": "ipython3",
   "version": "3.12.2"
  }
 },
 "nbformat": 4,
 "nbformat_minor": 2
}
