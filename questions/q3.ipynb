{
 "cells": [
  {
   "cell_type": "markdown",
   "metadata": {},
   "source": [
    "## Qual o tempo de uso das bombas em horário de ponta e fora de ponta?"
   ]
  },
  {
   "cell_type": "code",
   "execution_count": 1,
   "metadata": {},
   "outputs": [],
   "source": [
    "from pathlib import Path\n",
    "import pandas as pd "
   ]
  },
  {
   "cell_type": "code",
   "execution_count": 2,
   "metadata": {},
   "outputs": [
    {
     "data": {
      "text/html": [
       "<div>\n",
       "<style scoped>\n",
       "    .dataframe tbody tr th:only-of-type {\n",
       "        vertical-align: middle;\n",
       "    }\n",
       "\n",
       "    .dataframe tbody tr th {\n",
       "        vertical-align: top;\n",
       "    }\n",
       "\n",
       "    .dataframe thead th {\n",
       "        text-align: right;\n",
       "    }\n",
       "</style>\n",
       "<table border=\"1\" class=\"dataframe\">\n",
       "  <thead>\n",
       "    <tr style=\"text-align: right;\">\n",
       "      <th></th>\n",
       "      <th>id</th>\n",
       "      <th>timestamp</th>\n",
       "      <th>flow_in_(l/s)</th>\n",
       "      <th>reservoir_level_(%)</th>\n",
       "      <th>pressure_(mca)</th>\n",
       "      <th>gmb_1_is_on</th>\n",
       "      <th>gmb_2_is_on</th>\n",
       "      <th>reservoir_level_liters</th>\n",
       "      <th>time_passed_seconds</th>\n",
       "      <th>liters_should_have_entered</th>\n",
       "      <th>liters_entered</th>\n",
       "      <th>liters_out</th>\n",
       "      <th>flow_out_(l/s)</th>\n",
       "    </tr>\n",
       "  </thead>\n",
       "  <tbody>\n",
       "    <tr>\n",
       "      <th>0</th>\n",
       "      <td>0</td>\n",
       "      <td>2023-03-17 11:27:06</td>\n",
       "      <td>68.59</td>\n",
       "      <td>29.86</td>\n",
       "      <td>38.20</td>\n",
       "      <td>0</td>\n",
       "      <td>1</td>\n",
       "      <td>298600.0</td>\n",
       "      <td>NaN</td>\n",
       "      <td>NaN</td>\n",
       "      <td>NaN</td>\n",
       "      <td>NaN</td>\n",
       "      <td>NaN</td>\n",
       "    </tr>\n",
       "    <tr>\n",
       "      <th>1</th>\n",
       "      <td>1</td>\n",
       "      <td>2023-03-17 12:28:56</td>\n",
       "      <td>66.05</td>\n",
       "      <td>35.86</td>\n",
       "      <td>38.20</td>\n",
       "      <td>0</td>\n",
       "      <td>1</td>\n",
       "      <td>358600.0</td>\n",
       "      <td>3710.0</td>\n",
       "      <td>245045.5</td>\n",
       "      <td>60000.0</td>\n",
       "      <td>185045.5</td>\n",
       "      <td>49.88</td>\n",
       "    </tr>\n",
       "    <tr>\n",
       "      <th>2</th>\n",
       "      <td>2</td>\n",
       "      <td>2023-03-17 12:31:26</td>\n",
       "      <td>65.64</td>\n",
       "      <td>36.16</td>\n",
       "      <td>38.06</td>\n",
       "      <td>0</td>\n",
       "      <td>1</td>\n",
       "      <td>361600.0</td>\n",
       "      <td>150.0</td>\n",
       "      <td>9846.0</td>\n",
       "      <td>3000.0</td>\n",
       "      <td>6846.0</td>\n",
       "      <td>45.64</td>\n",
       "    </tr>\n",
       "    <tr>\n",
       "      <th>3</th>\n",
       "      <td>3</td>\n",
       "      <td>2023-03-17 12:33:56</td>\n",
       "      <td>65.64</td>\n",
       "      <td>36.50</td>\n",
       "      <td>38.03</td>\n",
       "      <td>0</td>\n",
       "      <td>1</td>\n",
       "      <td>365000.0</td>\n",
       "      <td>150.0</td>\n",
       "      <td>9846.0</td>\n",
       "      <td>3400.0</td>\n",
       "      <td>6446.0</td>\n",
       "      <td>42.97</td>\n",
       "    </tr>\n",
       "    <tr>\n",
       "      <th>4</th>\n",
       "      <td>4</td>\n",
       "      <td>2023-03-17 12:36:26</td>\n",
       "      <td>65.64</td>\n",
       "      <td>36.80</td>\n",
       "      <td>38.17</td>\n",
       "      <td>0</td>\n",
       "      <td>1</td>\n",
       "      <td>368000.0</td>\n",
       "      <td>150.0</td>\n",
       "      <td>9846.0</td>\n",
       "      <td>3000.0</td>\n",
       "      <td>6846.0</td>\n",
       "      <td>45.64</td>\n",
       "    </tr>\n",
       "  </tbody>\n",
       "</table>\n",
       "</div>"
      ],
      "text/plain": [
       "   id           timestamp  flow_in_(l/s)  reservoir_level_(%)  pressure_(mca)  \\\n",
       "0   0 2023-03-17 11:27:06          68.59                29.86           38.20   \n",
       "1   1 2023-03-17 12:28:56          66.05                35.86           38.20   \n",
       "2   2 2023-03-17 12:31:26          65.64                36.16           38.06   \n",
       "3   3 2023-03-17 12:33:56          65.64                36.50           38.03   \n",
       "4   4 2023-03-17 12:36:26          65.64                36.80           38.17   \n",
       "\n",
       "   gmb_1_is_on  gmb_2_is_on  reservoir_level_liters  time_passed_seconds  \\\n",
       "0            0            1                298600.0                  NaN   \n",
       "1            0            1                358600.0               3710.0   \n",
       "2            0            1                361600.0                150.0   \n",
       "3            0            1                365000.0                150.0   \n",
       "4            0            1                368000.0                150.0   \n",
       "\n",
       "   liters_should_have_entered  liters_entered  liters_out  flow_out_(l/s)  \n",
       "0                         NaN             NaN         NaN             NaN  \n",
       "1                    245045.5         60000.0    185045.5           49.88  \n",
       "2                      9846.0          3000.0      6846.0           45.64  \n",
       "3                      9846.0          3400.0      6446.0           42.97  \n",
       "4                      9846.0          3000.0      6846.0           45.64  "
      ]
     },
     "execution_count": 2,
     "metadata": {},
     "output_type": "execute_result"
    }
   ],
   "source": [
    "df_path = Path(\"../data/curated_data/water_consumption_curated_1.parquet\")\n",
    "df = pd.read_parquet(df_path)\n",
    "df.head()"
   ]
  },
  {
   "cell_type": "code",
   "execution_count": 3,
   "metadata": {},
   "outputs": [],
   "source": [
    "# Create date and hour columns\n",
    "df[\"date\"] = df[\"timestamp\"].dt.date\n",
    "df[\"hour\"] = df[\"timestamp\"].dt.hour\n",
    "\n",
    "# Create peak and off-peak column\n",
    "peak_hours = (df[\"hour\"] >= 18) & (df[\"hour\"] <= 21)\n",
    "df[\"is_peak_hour\"] = peak_hours\n",
    "\n",
    "# drop time_passed_seconds null values\n",
    "df = df.dropna(subset=[\"time_passed_seconds\"])\n",
    "\n",
    "# Calculate water bombs duration \n",
    "df['gmb_1_duration'] = df['gmb_1_is_on'] * df['time_passed_seconds']\n",
    "df['gmb_2_duration'] = df['gmb_2_is_on'] * df['time_passed_seconds']"
   ]
  },
  {
   "cell_type": "code",
   "execution_count": 4,
   "metadata": {},
   "outputs": [],
   "source": [
    "# Sum water bombs usage time per day and hour \n",
    "daily_peak_usage = df[df['is_peak_hour']].groupby('date').agg({'gmb_1_duration': 'sum', 'gmb_2_duration': 'sum'})\n",
    "daily_off_peak_usage = df[~df['is_peak_hour']].groupby('date').agg({'gmb_1_duration': 'sum', 'gmb_2_duration': 'sum'})\n",
    "\n",
    "# Calculate water bombs average usage time per day and hour\n",
    "gmb_1_peak_avg = daily_peak_usage['gmb_1_duration'].mean() / 3600 # convert seconds to hours\n",
    "gmb_1_off_peak_avg = daily_off_peak_usage['gmb_1_duration'].mean() / 3600 # convert seconds to hours\n",
    "\n",
    "gmb_2_peak_avg = daily_peak_usage['gmb_2_duration'].mean() / 3600  # convert seconds to hours\n",
    "gmb_2_off_peak_avg = daily_off_peak_usage['gmb_2_duration'].mean() / 3600  # convert seconds to hours"
   ]
  },
  {
   "cell_type": "code",
   "execution_count": 5,
   "metadata": {},
   "outputs": [
    {
     "name": "stdout",
     "output_type": "stream",
     "text": [
      "Tempo médio de uso da bomba 1 em horário de ponta: 1.41 horas\n",
      "Tempo médio de uso da bomba 1 em horário fora de ponta: 8.00 horas\n",
      "Tempo médio de uso da bomba 2 em horário de ponta: 0.76 horas\n",
      "Tempo médio de uso da bomba 2 em horário fora de ponta: 4.44 horas\n"
     ]
    }
   ],
   "source": [
    "print(f\"Tempo médio de uso da bomba 1 em horário de ponta: {gmb_1_peak_avg:.2f} horas\")\n",
    "print(f\"Tempo médio de uso da bomba 1 em horário fora de ponta: {gmb_1_off_peak_avg:.2f} horas\")\n",
    "\n",
    "print(f\"Tempo médio de uso da bomba 2 em horário de ponta: {gmb_2_peak_avg:.2f} horas\")\n",
    "print(f\"Tempo médio de uso da bomba 2 em horário fora de ponta: {gmb_2_off_peak_avg:.2f} horas\")"
   ]
  }
 ],
 "metadata": {
  "kernelspec": {
   "display_name": "pcd",
   "language": "python",
   "name": "python3"
  },
  "language_info": {
   "codemirror_mode": {
    "name": "ipython",
    "version": 3
   },
   "file_extension": ".py",
   "mimetype": "text/x-python",
   "name": "python",
   "nbconvert_exporter": "python",
   "pygments_lexer": "ipython3",
   "version": "3.12.2"
  }
 },
 "nbformat": 4,
 "nbformat_minor": 2
}
