{
 "cells": [
  {
   "cell_type": "code",
   "execution_count": 1,
   "metadata": {},
   "outputs": [],
   "source": [
    "from sklearn.metrics import mean_absolute_error, mean_squared_error, r2_score\n",
    "from sklearn.model_selection import GridSearchCV, TimeSeriesSplit\n",
    "from xgboost import XGBRegressor\n",
    "import plotly.express as px\n",
    "from pathlib import Path\n",
    "from typing import Tuple\n",
    "import pandas as pd\n",
    "import numpy as np\n",
    "import pickle"
   ]
  },
  {
   "cell_type": "code",
   "execution_count": 2,
   "metadata": {},
   "outputs": [],
   "source": [
    "df_path = Path(\"../data/curated_data/water_consumption_curated_1.parquet\")\n",
    "df = pd.read_parquet(df_path)"
   ]
  },
  {
   "cell_type": "code",
   "execution_count": 3,
   "metadata": {},
   "outputs": [],
   "source": [
    "def create_date_columns(original_df: pd.DataFrame) -> pd.DataFrame:\n",
    "    df = original_df.copy()\n",
    "    \n",
    "    # Extract date-related components from the timestamp\n",
    "    df[\"year\"] = df[\"timestamp\"].dt.year\n",
    "    df[\"month\"] = df[\"timestamp\"].dt.month\n",
    "    df['week_of_year'] = df['timestamp'].dt.isocalendar().week\n",
    "    df['day_of_week'] = df['timestamp'].dt.dayofweek\n",
    "    df[\"day\"] = df[\"timestamp\"].dt.day\n",
    "    df[\"hour\"] = df[\"timestamp\"].dt.hour\n",
    "    df[\"second\"] = df[\"timestamp\"].dt.second\n",
    "\n",
    "    # Drop rows with missing values in 'flow_out_(l/s)'\n",
    "    df = df.dropna(subset=[\"flow_out_(l/s)\"])\n",
    "    \n",
    "    return df\n",
    "\n",
    "def prepare_train_test_data(df: pd.DataFrame, train_size: float = 0.8) -> Tuple[pd.DataFrame, pd.DataFrame, pd.Series, pd.Series]:\n",
    "    # Select features for the model\n",
    "    X = df[[\"flow_in_(l/s)\", \"reservoir_level_(%)\", \"pressure_(mca)\", \"gmb_1_is_on\", \"gmb_2_is_on\", \"reservoir_level_liters\", \n",
    "            \"time_passed_seconds\", \"liters_entered\", \"year\", \"month\", \"week_of_year\", \"day_of_week\", \"day\", \"hour\", \"second\"]]\n",
    "    \n",
    "    # Target variable\n",
    "    y = df[\"flow_out_(l/s)\"]\n",
    "    \n",
    "    # Calculate the number of training samples\n",
    "    train_samples = int(train_size * len(X))\n",
    "    \n",
    "    # Split the data into training and testing sets\n",
    "    x_train, x_test = X[:train_samples], X[train_samples:]\n",
    "    y_train, y_test = y[:train_samples], y[train_samples:]\n",
    "    \n",
    "    return x_train, x_test, y_train, y_test"
   ]
  },
  {
   "cell_type": "code",
   "execution_count": 4,
   "metadata": {},
   "outputs": [],
   "source": [
    "def set_model_training_pipeline() -> GridSearchCV:\n",
    "    # Initialize the XGBoost regressor with specified hyperparameters\n",
    "    model = XGBRegressor(\n",
    "        n_estimators=100000, \n",
    "        learning_rate=0.01, \n",
    "        early_stopping_rounds=100\n",
    "    )\n",
    "    \n",
    "    # Define time series cross-validation strategy\n",
    "    cv = TimeSeriesSplit(n_splits=5)\n",
    "    \n",
    "    # Define an expanded parameter grid for hyperparameter tuning\n",
    "    params = {\n",
    "        'n_estimators': [100, 500, 1000, 5000],\n",
    "        'max_depth': [3, 5, 10, 14],\n",
    "        'learning_rate': [0.01, 0.05, 0.1]\n",
    "    }\n",
    "    \n",
    "    # Initialize GridSearchCV with the model, parameter grid, and cross-validation strategy\n",
    "    clf = GridSearchCV(\n",
    "        estimator=model, \n",
    "        param_grid=params, \n",
    "        cv=cv, \n",
    "        scoring='neg_mean_squared_error',\n",
    "        n_jobs=-1,  # Use all available cores\n",
    "        verbose=2\n",
    "    )\n",
    "    \n",
    "    return clf\n",
    "\n",
    "def train_model(clf: GridSearchCV, x_train: pd.DataFrame, y_train: pd.Series, x_test: pd.DataFrame, y_test: pd.Series) -> GridSearchCV:\n",
    "    # Train the model with training and validation data\n",
    "    clf.fit(\n",
    "        x_train, y_train,\n",
    "        eval_set=[(x_train, y_train), (x_test, y_test)],\n",
    "        verbose=100\n",
    "    )\n",
    "    \n",
    "    return clf.best_estimator_\n",
    "    \n",
    "    \n",
    "def calculate_error(y_test: pd.Series, y_pred: pd.Series) -> Tuple[float, float, float, float, float]:\n",
    "    # Calculate error metrics\n",
    "    mae = round(mean_absolute_error(y_true=y_test, y_pred=y_pred), 2)\n",
    "    mse = round(mean_squared_error(y_true=y_test, y_pred=y_pred), 2)\n",
    "    rmse = round(np.sqrt(mse), 2)\n",
    "    r2 = round(r2_score(y_true=y_test, y_pred=y_pred), 2)\n",
    "    \n",
    "    return mae, mse, rmse, r2\n",
    "    \n",
    "    \n",
    "def predict_with_model(clf: GridSearchCV, X: pd.DataFrame) -> pd.Series:\n",
    "    # Generate predictions using the trained model\n",
    "    y_pred = clf.predict(X)\n",
    "    \n",
    "    return pd.Series(y_pred)"
   ]
  },
  {
   "cell_type": "code",
   "execution_count": 5,
   "metadata": {},
   "outputs": [
    {
     "name": "stdout",
     "output_type": "stream",
     "text": [
      "Fitting 5 folds for each of 48 candidates, totalling 240 fits\n",
      "[0]\tvalidation_0-rmse:29.74861\tvalidation_1-rmse:32.63787\n",
      "[0]\tvalidation_0-rmse:29.64828\tvalidation_1-rmse:32.44389\n",
      "[0]\tvalidation_0-rmse:29.56139\tvalidation_1-rmse:32.22438\n",
      "[0]\tvalidation_0-rmse:29.74861\tvalidation_1-rmse:32.63787\n",
      "[0]\tvalidation_0-rmse:29.64828\tvalidation_1-rmse:32.44389\n",
      "[0]\tvalidation_0-rmse:29.52874\tvalidation_1-rmse:32.08896\n",
      "[0]\tvalidation_0-rmse:29.49724\tvalidation_1-rmse:31.95651\n",
      "[0]\tvalidation_0-rmse:29.56139\tvalidation_1-rmse:32.22438\n",
      "[0]\tvalidation_0-rmse:29.52874\tvalidation_1-rmse:32.08896\n",
      "[0]\tvalidation_0-rmse:29.49724\tvalidation_1-rmse:31.95651\n",
      "[0]\tvalidation_0-rmse:29.64828\tvalidation_1-rmse:32.44389\n",
      "[0]\tvalidation_0-rmse:29.74861\tvalidation_1-rmse:32.63787\n",
      "[0]\tvalidation_0-rmse:29.52874\tvalidation_1-rmse:32.08896\n",
      "[0]\tvalidation_0-rmse:29.74861\tvalidation_1-rmse:32.63787\n",
      "[0]\tvalidation_0-rmse:29.56139\tvalidation_1-rmse:32.22438\n",
      "[0]\tvalidation_0-rmse:29.49724\tvalidation_1-rmse:31.95651\n",
      "[99]\tvalidation_0-rmse:20.28723\tvalidation_1-rmse:24.30253\n",
      "[CV] END ..learning_rate=0.01, max_depth=3, n_estimators=100; total time=   2.8s\n",
      "[100]\tvalidation_0-rmse:20.23485\tvalidation_1-rmse:24.26004\n",
      "[99]\tvalidation_0-rmse:20.77210\tvalidation_1-rmse:25.57746\n",
      "[100]\tvalidation_0-rmse:18.81728\tvalidation_1-rmse:23.86369\n",
      "[CV] END ..learning_rate=0.01, max_depth=3, n_estimators=100; total time=   3.0s\n",
      "[0]\tvalidation_0-rmse:29.64828\tvalidation_1-rmse:32.44389\n",
      "[99]\tvalidation_0-rmse:18.86711\tvalidation_1-rmse:23.90030\n",
      "[CV] END ..learning_rate=0.01, max_depth=3, n_estimators=100; total time=   3.1s\n",
      "[100]\tvalidation_0-rmse:20.70854\tvalidation_1-rmse:25.50171\n",
      "[100]\tvalidation_0-rmse:20.70854\tvalidation_1-rmse:25.50171\n",
      "[100]\tvalidation_0-rmse:18.70700\tvalidation_1-rmse:23.15552\n",
      "[99]\tvalidation_0-rmse:18.76115\tvalidation_1-rmse:23.19322\n",
      "[99]\tvalidation_0-rmse:18.58178\tvalidation_1-rmse:23.30179\n",
      "[100]\tvalidation_0-rmse:20.23485\tvalidation_1-rmse:24.26004\n",
      "[CV] END ..learning_rate=0.01, max_depth=3, n_estimators=100; total time=   3.1s\n",
      "[CV] END ..learning_rate=0.01, max_depth=3, n_estimators=100; total time=   3.1s\n",
      "[100]\tvalidation_0-rmse:20.70854\tvalidation_1-rmse:25.50171\n",
      "[0]\tvalidation_0-rmse:29.56139\tvalidation_1-rmse:32.22438\n",
      "[100]\tvalidation_0-rmse:18.52927\tvalidation_1-rmse:23.26567\n",
      "[0]\tvalidation_0-rmse:29.52874\tvalidation_1-rmse:32.08896\n",
      "[0]\tvalidation_0-rmse:29.71820\tvalidation_1-rmse:32.59365\n",
      "[0]\tvalidation_0-rmse:29.49724\tvalidation_1-rmse:31.95651\n",
      "[100]\tvalidation_0-rmse:18.70700\tvalidation_1-rmse:23.15552\n",
      "[100]\tvalidation_0-rmse:18.52927\tvalidation_1-rmse:23.26567\n",
      "[100]\tvalidation_0-rmse:18.81728\tvalidation_1-rmse:23.86369\n",
      "[200]\tvalidation_0-rmse:16.69318\tvalidation_1-rmse:21.19977\n",
      "[200]\tvalidation_0-rmse:14.39700\tvalidation_1-rmse:20.09171\n",
      "[100]\tvalidation_0-rmse:20.23485\tvalidation_1-rmse:24.26004\n",
      "[200]\tvalidation_0-rmse:16.66430\tvalidation_1-rmse:21.66117\n",
      "[200]\tvalidation_0-rmse:16.66430\tvalidation_1-rmse:21.66117\n",
      "[200]\tvalidation_0-rmse:16.66430\tvalidation_1-rmse:21.66117\n",
      "[200]\tvalidation_0-rmse:14.46555\tvalidation_1-rmse:18.85577\n",
      "[200]\tvalidation_0-rmse:16.69318\tvalidation_1-rmse:21.19977\n",
      "[100]\tvalidation_0-rmse:18.81728\tvalidation_1-rmse:23.86369\n",
      "[100]\tvalidation_0-rmse:18.70700\tvalidation_1-rmse:23.15552\n",
      "[99]\tvalidation_0-rmse:18.66679\tvalidation_1-rmse:22.80482\n",
      "[CV] END ..learning_rate=0.01, max_depth=5, n_estimators=100; total time=   2.9s\n",
      "[200]\tvalidation_0-rmse:13.96461\tvalidation_1-rmse:19.76734\n",
      "[0]\tvalidation_0-rmse:29.60915\tvalidation_1-rmse:32.40019\n",
      "[200]\tvalidation_0-rmse:13.96461\tvalidation_1-rmse:19.76734\n",
      "[100]\tvalidation_0-rmse:18.52927\tvalidation_1-rmse:23.26567\n",
      "[200]\tvalidation_0-rmse:14.46555\tvalidation_1-rmse:18.85577\n",
      "[200]\tvalidation_0-rmse:14.39700\tvalidation_1-rmse:20.09171\n",
      "[300]\tvalidation_0-rmse:11.98016\tvalidation_1-rmse:17.89532\n",
      "[300]\tvalidation_0-rmse:14.51213\tvalidation_1-rmse:19.08832\n",
      "[300]\tvalidation_0-rmse:14.51169\tvalidation_1-rmse:19.80291\n",
      "[200]\tvalidation_0-rmse:16.69318\tvalidation_1-rmse:21.19977\n",
      "[300]\tvalidation_0-rmse:14.51169\tvalidation_1-rmse:19.80291\n",
      "[300]\tvalidation_0-rmse:14.51169\tvalidation_1-rmse:19.80291\n",
      "[300]\tvalidation_0-rmse:12.12923\tvalidation_1-rmse:16.90272\n",
      "[200]\tvalidation_0-rmse:14.46555\tvalidation_1-rmse:18.85577\n",
      "[300]\tvalidation_0-rmse:14.51213\tvalidation_1-rmse:19.08832\n",
      "[200]\tvalidation_0-rmse:14.39700\tvalidation_1-rmse:20.09171\n",
      "[300]\tvalidation_0-rmse:11.50524\tvalidation_1-rmse:18.00241\n",
      "[99]\tvalidation_0-rmse:17.77536\tvalidation_1-rmse:21.46023\n",
      "[CV] END ..learning_rate=0.01, max_depth=5, n_estimators=100; total time=   3.0s\n",
      "[300]\tvalidation_0-rmse:12.12923\tvalidation_1-rmse:16.90272\n",
      "[300]\tvalidation_0-rmse:11.50524\tvalidation_1-rmse:18.00241\n",
      "[0]\tvalidation_0-rmse:29.51697\tvalidation_1-rmse:32.16582\n",
      "[200]\tvalidation_0-rmse:13.96461\tvalidation_1-rmse:19.76734\n",
      "[300]\tvalidation_0-rmse:11.98016\tvalidation_1-rmse:17.89532\n",
      "[400]\tvalidation_0-rmse:10.75010\tvalidation_1-rmse:16.66696\n",
      "[400]\tvalidation_0-rmse:13.18010\tvalidation_1-rmse:18.58673\n",
      "[400]\tvalidation_0-rmse:13.34730\tvalidation_1-rmse:17.85989\n",
      "[300]\tvalidation_0-rmse:14.51213\tvalidation_1-rmse:19.08832\n",
      "[400]\tvalidation_0-rmse:13.18010\tvalidation_1-rmse:18.58673\n",
      "[400]\tvalidation_0-rmse:13.18010\tvalidation_1-rmse:18.58673\n",
      "[400]\tvalidation_0-rmse:10.88840\tvalidation_1-rmse:15.82364\n",
      "[300]\tvalidation_0-rmse:12.12923\tvalidation_1-rmse:16.90272\n",
      "[400]\tvalidation_0-rmse:13.34730\tvalidation_1-rmse:17.85989\n",
      "[300]\tvalidation_0-rmse:11.98016\tvalidation_1-rmse:17.89532\n",
      "[400]\tvalidation_0-rmse:10.88840\tvalidation_1-rmse:15.82364\n",
      "[300]\tvalidation_0-rmse:11.50524\tvalidation_1-rmse:18.00241\n",
      "[99]\tvalidation_0-rmse:16.25783\tvalidation_1-rmse:20.29783\n",
      "[CV] END ..learning_rate=0.01, max_depth=5, n_estimators=100; total time=   3.1s\n",
      "[400]\tvalidation_0-rmse:10.27058\tvalidation_1-rmse:16.66751\n",
      "[400]\tvalidation_0-rmse:10.27058\tvalidation_1-rmse:16.66751\n",
      "[0]\tvalidation_0-rmse:29.48593\tvalidation_1-rmse:32.04640\n",
      "[400]\tvalidation_0-rmse:10.75010\tvalidation_1-rmse:16.66696\n",
      "[500]\tvalidation_0-rmse:12.21987\tvalidation_1-rmse:17.66130\n",
      "[499]\tvalidation_0-rmse:10.14643\tvalidation_1-rmse:15.95809\n",
      "[499]\tvalidation_0-rmse:12.79404\tvalidation_1-rmse:17.13748\n",
      "[CV] END ..learning_rate=0.01, max_depth=3, n_estimators=500; total time=  13.2s\n",
      "[400]\tvalidation_0-rmse:13.34730\tvalidation_1-rmse:17.85989\n",
      "[CV] END ..learning_rate=0.01, max_depth=3, n_estimators=500; total time=  13.2s\n",
      "[500]\tvalidation_0-rmse:12.21987\tvalidation_1-rmse:17.66130\n",
      "[0]\tvalidation_0-rmse:29.71820\tvalidation_1-rmse:32.59365\n",
      "[499]\tvalidation_0-rmse:12.22385\tvalidation_1-rmse:17.66103\n",
      "[0]\tvalidation_0-rmse:29.45831\tvalidation_1-rmse:31.91148\n",
      "[CV] END ..learning_rate=0.01, max_depth=3, n_estimators=500; total time=  13.6s\n",
      "[499]\tvalidation_0-rmse:10.27392\tvalidation_1-rmse:15.41611\n",
      "[CV] END ..learning_rate=0.01, max_depth=3, n_estimators=500; total time=  13.6s\n",
      "[0]\tvalidation_0-rmse:29.60915\tvalidation_1-rmse:32.40019\n",
      "[0]\tvalidation_0-rmse:29.51697\tvalidation_1-rmse:32.16582\n",
      "[400]\tvalidation_0-rmse:10.88840\tvalidation_1-rmse:15.82364\n",
      "[500]\tvalidation_0-rmse:12.79298\tvalidation_1-rmse:17.13375\n",
      "[400]\tvalidation_0-rmse:10.75010\tvalidation_1-rmse:16.66696\n",
      "[500]\tvalidation_0-rmse:10.27211\tvalidation_1-rmse:15.41463\n",
      "[400]\tvalidation_0-rmse:10.27058\tvalidation_1-rmse:16.66751\n",
      "[500]\tvalidation_0-rmse:9.58492\tvalidation_1-rmse:15.97722\n",
      "[499]\tvalidation_0-rmse:9.58672\tvalidation_1-rmse:15.97903\n",
      "[99]\tvalidation_0-rmse:15.32329\tvalidation_1-rmse:20.57840\n",
      "[CV] END ..learning_rate=0.01, max_depth=5, n_estimators=100; total time=   3.2s\n",
      "[CV] END ..learning_rate=0.01, max_depth=3, n_estimators=500; total time=  15.3s\n",
      "[600]\tvalidation_0-rmse:11.58060\tvalidation_1-rmse:17.01249\n",
      "[500]\tvalidation_0-rmse:10.13825\tvalidation_1-rmse:15.95022\n",
      "[0]\tvalidation_0-rmse:29.48593\tvalidation_1-rmse:32.04640\n",
      "[0]\tvalidation_0-rmse:29.45831\tvalidation_1-rmse:31.91148\n",
      "[500]\tvalidation_0-rmse:12.79298\tvalidation_1-rmse:17.13375\n",
      "[600]\tvalidation_0-rmse:11.58060\tvalidation_1-rmse:17.01249\n",
      "[100]\tvalidation_0-rmse:18.61248\tvalidation_1-rmse:22.77134\n",
      "[99]\tvalidation_0-rmse:15.24555\tvalidation_1-rmse:20.55380\n",
      "[100]\tvalidation_0-rmse:17.72087\tvalidation_1-rmse:21.40702\n",
      "[CV] END ..learning_rate=0.01, max_depth=5, n_estimators=100; total time=   3.4s\n",
      "[0]\tvalidation_0-rmse:29.71820\tvalidation_1-rmse:32.59365\n",
      "[600]\tvalidation_0-rmse:12.50356\tvalidation_1-rmse:16.73325\n",
      "[500]\tvalidation_0-rmse:10.27211\tvalidation_1-rmse:15.41463\n",
      "[100]\tvalidation_0-rmse:16.19090\tvalidation_1-rmse:20.24239\n",
      "[600]\tvalidation_0-rmse:9.88025\tvalidation_1-rmse:15.03195\n",
      "[500]\tvalidation_0-rmse:10.13825\tvalidation_1-rmse:15.95022\n",
      "[600]\tvalidation_0-rmse:9.18186\tvalidation_1-rmse:15.56846\n",
      "[500]\tvalidation_0-rmse:9.58492\tvalidation_1-rmse:15.97722\n",
      "[700]\tvalidation_0-rmse:11.28411\tvalidation_1-rmse:16.70333\n",
      "[600]\tvalidation_0-rmse:12.50356\tvalidation_1-rmse:16.73325\n",
      "[700]\tvalidation_0-rmse:11.28411\tvalidation_1-rmse:16.70333\n",
      "[100]\tvalidation_0-rmse:15.24638\tvalidation_1-rmse:20.52847\n",
      "[100]\tvalidation_0-rmse:15.17002\tvalidation_1-rmse:20.50357\n",
      "[200]\tvalidation_0-rmse:14.70009\tvalidation_1-rmse:19.70157\n",
      "[600]\tvalidation_0-rmse:9.72259\tvalidation_1-rmse:15.40730\n",
      "[200]\tvalidation_0-rmse:14.36325\tvalidation_1-rmse:18.28876\n",
      "[700]\tvalidation_0-rmse:12.30956\tvalidation_1-rmse:16.45903\n",
      "[600]\tvalidation_0-rmse:9.88025\tvalidation_1-rmse:15.03195\n",
      "[100]\tvalidation_0-rmse:18.61248\tvalidation_1-rmse:22.77134\n",
      "[700]\tvalidation_0-rmse:9.59558\tvalidation_1-rmse:14.81853\n",
      "[200]\tvalidation_0-rmse:12.52440\tvalidation_1-rmse:16.89533\n",
      "[600]\tvalidation_0-rmse:9.72259\tvalidation_1-rmse:15.40730\n",
      "[800]\tvalidation_0-rmse:11.12618\tvalidation_1-rmse:16.55413\n",
      "[700]\tvalidation_0-rmse:8.86731\tvalidation_1-rmse:15.41692\n",
      "[600]\tvalidation_0-rmse:9.18186\tvalidation_1-rmse:15.56846\n",
      "[700]\tvalidation_0-rmse:12.30956\tvalidation_1-rmse:16.45903\n",
      "[800]\tvalidation_0-rmse:11.12618\tvalidation_1-rmse:16.55413\n",
      "[300]\tvalidation_0-rmse:13.25593\tvalidation_1-rmse:18.44846\n",
      "[700]\tvalidation_0-rmse:9.50033\tvalidation_1-rmse:15.13117\n",
      "[200]\tvalidation_0-rmse:10.08192\tvalidation_1-rmse:17.43766\n",
      "[200]\tvalidation_0-rmse:10.27566\tvalidation_1-rmse:17.71626\n",
      "[800]\tvalidation_0-rmse:12.21625\tvalidation_1-rmse:16.30730\n",
      "[300]\tvalidation_0-rmse:13.71914\tvalidation_1-rmse:18.03247\n",
      "[700]\tvalidation_0-rmse:9.59558\tvalidation_1-rmse:14.81853\n",
      "[800]\tvalidation_0-rmse:9.40114\tvalidation_1-rmse:14.68299\n",
      "[200]\tvalidation_0-rmse:14.70009\tvalidation_1-rmse:19.70157\n",
      "[300]\tvalidation_0-rmse:11.13131\tvalidation_1-rmse:14.56387\n",
      "[700]\tvalidation_0-rmse:9.50033\tvalidation_1-rmse:15.13117\n",
      "[900]\tvalidation_0-rmse:11.05599\tvalidation_1-rmse:16.46658\n",
      "[800]\tvalidation_0-rmse:8.63986\tvalidation_1-rmse:15.31358\n",
      "[800]\tvalidation_0-rmse:12.21625\tvalidation_1-rmse:16.30730\n",
      "[900]\tvalidation_0-rmse:11.05599\tvalidation_1-rmse:16.46658\n",
      "[700]\tvalidation_0-rmse:8.86731\tvalidation_1-rmse:15.41692\n",
      "[400]\tvalidation_0-rmse:12.92663\tvalidation_1-rmse:18.28076\n",
      "[900]\tvalidation_0-rmse:12.14411\tvalidation_1-rmse:16.14879\n",
      "[800]\tvalidation_0-rmse:9.48785\tvalidation_1-rmse:15.01107\n",
      "[800]\tvalidation_0-rmse:9.40114\tvalidation_1-rmse:14.68299\n",
      "[400]\tvalidation_0-rmse:13.45257\tvalidation_1-rmse:17.73720\n",
      "[300]\tvalidation_0-rmse:7.72536\tvalidation_1-rmse:15.43770\n",
      "[300]\tvalidation_0-rmse:8.19278\tvalidation_1-rmse:16.28207\n",
      "[900]\tvalidation_0-rmse:9.26686\tvalidation_1-rmse:14.59910\n",
      "[400]\tvalidation_0-rmse:11.00644\tvalidation_1-rmse:13.88404\n",
      "[300]\tvalidation_0-rmse:13.25593\tvalidation_1-rmse:18.44846\n",
      "[1000]\tvalidation_0-rmse:10.97253\tvalidation_1-rmse:16.38786\n",
      "[800]\tvalidation_0-rmse:9.48785\tvalidation_1-rmse:15.01107\n",
      "[900]\tvalidation_0-rmse:8.50204\tvalidation_1-rmse:15.24323\n",
      "[900]\tvalidation_0-rmse:12.14411\tvalidation_1-rmse:16.14879\n",
      "[999]\tvalidation_0-rmse:10.97383\tvalidation_1-rmse:16.38789\n",
      "[CV] END .learning_rate=0.01, max_depth=3, n_estimators=1000; total time=  26.3s\n",
      "[800]\tvalidation_0-rmse:8.63986\tvalidation_1-rmse:15.31358\n",
      "[0]\tvalidation_0-rmse:29.60915\tvalidation_1-rmse:32.40019\n",
      "[499]\tvalidation_0-rmse:12.81774\tvalidation_1-rmse:18.27344\n",
      "[999]\tvalidation_0-rmse:12.11201\tvalidation_1-rmse:16.07073\n",
      "[CV] END ..learning_rate=0.01, max_depth=5, n_estimators=500; total time=  14.0s\n",
      "[CV] END .learning_rate=0.01, max_depth=3, n_estimators=1000; total time=  27.3s\n",
      "[0]\tvalidation_0-rmse:29.51697\tvalidation_1-rmse:32.16582\n",
      "[900]\tvalidation_0-rmse:9.26686\tvalidation_1-rmse:14.59910\n",
      "[900]\tvalidation_0-rmse:9.52206\tvalidation_1-rmse:14.93107\n",
      "[0]\tvalidation_0-rmse:29.48593\tvalidation_1-rmse:32.04640\n",
      "[499]\tvalidation_0-rmse:13.44661\tvalidation_1-rmse:17.74651\n",
      "[999]\tvalidation_0-rmse:9.14681\tvalidation_1-rmse:14.57014\n",
      "[CV] END ..learning_rate=0.01, max_depth=5, n_estimators=500; total time=  14.2s\n",
      "[CV] END .learning_rate=0.01, max_depth=3, n_estimators=1000; total time=  27.7s\n",
      "[400]\tvalidation_0-rmse:7.16942\tvalidation_1-rmse:15.64171\n",
      "[0]\tvalidation_0-rmse:29.45831\tvalidation_1-rmse:31.91148\n",
      "[0]\tvalidation_0-rmse:29.71820\tvalidation_1-rmse:32.59365\n",
      "[400]\tvalidation_0-rmse:6.91967\tvalidation_1-rmse:15.13682\n",
      "[499]\tvalidation_0-rmse:11.23629\tvalidation_1-rmse:13.70593\n",
      "[1100]\tvalidation_0-rmse:10.92981\tvalidation_1-rmse:16.33090\n",
      "[CV] END ..learning_rate=0.01, max_depth=5, n_estimators=500; total time=  14.8s\n",
      "[900]\tvalidation_0-rmse:9.52206\tvalidation_1-rmse:14.93107\n",
      "[0]\tvalidation_0-rmse:29.60915\tvalidation_1-rmse:32.40019\n",
      "[400]\tvalidation_0-rmse:12.92663\tvalidation_1-rmse:18.28076\n",
      "[1000]\tvalidation_0-rmse:12.11111\tvalidation_1-rmse:16.06879\n",
      "[999]\tvalidation_0-rmse:8.40770\tvalidation_1-rmse:15.15760\n",
      "[CV] END .learning_rate=0.01, max_depth=3, n_estimators=1000; total time=  28.7s\n",
      "[0]\tvalidation_0-rmse:29.51697\tvalidation_1-rmse:32.16582\n",
      "[900]\tvalidation_0-rmse:8.50204\tvalidation_1-rmse:15.24323\n",
      "[100]\tvalidation_0-rmse:17.72087\tvalidation_1-rmse:21.40702\n",
      "[999]\tvalidation_0-rmse:9.61152\tvalidation_1-rmse:14.90496\n",
      "[1000]\tvalidation_0-rmse:9.14569\tvalidation_1-rmse:14.56961\n",
      "[CV] END .learning_rate=0.01, max_depth=3, n_estimators=1000; total time=  30.2s\n",
      "[100]\tvalidation_0-rmse:16.19090\tvalidation_1-rmse:20.24239\n",
      "[100]\tvalidation_0-rmse:15.24638\tvalidation_1-rmse:20.52847\n",
      "[0]\tvalidation_0-rmse:29.48593\tvalidation_1-rmse:32.04640\n",
      "[100]\tvalidation_0-rmse:18.61248\tvalidation_1-rmse:22.77134\n",
      "[499]\tvalidation_0-rmse:6.74326\tvalidation_1-rmse:15.37889\n",
      "[CV] END ..learning_rate=0.01, max_depth=5, n_estimators=500; total time=  15.7s\n",
      "[100]\tvalidation_0-rmse:15.17002\tvalidation_1-rmse:20.50357\n",
      "[1200]\tvalidation_0-rmse:10.92796\tvalidation_1-rmse:16.30670\n",
      "[1000]\tvalidation_0-rmse:9.61062\tvalidation_1-rmse:14.90432\n",
      "[1100]\tvalidation_0-rmse:12.07037\tvalidation_1-rmse:15.99467\n",
      "[0]\tvalidation_0-rmse:29.45831\tvalidation_1-rmse:31.91148\n",
      "[100]\tvalidation_0-rmse:17.72087\tvalidation_1-rmse:21.40702\n",
      "[499]\tvalidation_0-rmse:6.64257\tvalidation_1-rmse:15.03915\n",
      "[CV] END ..learning_rate=0.01, max_depth=5, n_estimators=500; total time=  16.4s\n",
      "[500]\tvalidation_0-rmse:12.81652\tvalidation_1-rmse:18.27312\n",
      "[0]\tvalidation_0-rmse:29.69074\tvalidation_1-rmse:32.55148\n",
      "[1000]\tvalidation_0-rmse:8.40738\tvalidation_1-rmse:15.15766\n",
      "[100]\tvalidation_0-rmse:16.19090\tvalidation_1-rmse:20.24239\n",
      "[200]\tvalidation_0-rmse:14.36325\tvalidation_1-rmse:18.28876\n",
      "[1100]\tvalidation_0-rmse:9.04310\tvalidation_1-rmse:14.54385\n",
      "[547]\tvalidation_0-rmse:12.80905\tvalidation_1-rmse:18.29580\n",
      "[200]\tvalidation_0-rmse:12.52440\tvalidation_1-rmse:16.89533\n",
      "[CV] END .learning_rate=0.01, max_depth=5, n_estimators=1000; total time=  16.9s\n",
      "[200]\tvalidation_0-rmse:14.70009\tvalidation_1-rmse:19.70157\n",
      "[200]\tvalidation_0-rmse:10.08192\tvalidation_1-rmse:17.43766\n",
      "[0]\tvalidation_0-rmse:29.59077\tvalidation_1-rmse:32.37944\n",
      "[100]\tvalidation_0-rmse:15.24638\tvalidation_1-rmse:20.52847\n",
      "[1300]\tvalidation_0-rmse:10.93049\tvalidation_1-rmse:16.28441\n",
      "[1200]\tvalidation_0-rmse:12.04473\tvalidation_1-rmse:15.94499\n",
      "[1100]\tvalidation_0-rmse:9.68375\tvalidation_1-rmse:14.84002\n",
      "[200]\tvalidation_0-rmse:14.36325\tvalidation_1-rmse:18.28876\n",
      "[100]\tvalidation_0-rmse:15.17002\tvalidation_1-rmse:20.50357\n",
      "[200]\tvalidation_0-rmse:10.27566\tvalidation_1-rmse:17.71626\n",
      "[1100]\tvalidation_0-rmse:8.31116\tvalidation_1-rmse:15.13084\n",
      "[300]\tvalidation_0-rmse:13.71914\tvalidation_1-rmse:18.03247\n",
      "[200]\tvalidation_0-rmse:12.52440\tvalidation_1-rmse:16.89533\n",
      "[99]\tvalidation_0-rmse:17.50940\tvalidation_1-rmse:21.55855\n",
      "[CV] END .learning_rate=0.01, max_depth=10, n_estimators=100; total time=   4.1s\n",
      "[1200]\tvalidation_0-rmse:8.99273\tvalidation_1-rmse:14.51690\n",
      "[0]\tvalidation_0-rmse:29.49737\tvalidation_1-rmse:32.16166\n",
      "[300]\tvalidation_0-rmse:13.25593\tvalidation_1-rmse:18.44846\n",
      "[1400]\tvalidation_0-rmse:10.94467\tvalidation_1-rmse:16.26812\n",
      "[1300]\tvalidation_0-rmse:12.02327\tvalidation_1-rmse:15.91287\n",
      "[300]\tvalidation_0-rmse:7.72536\tvalidation_1-rmse:15.43770\n",
      "[1200]\tvalidation_0-rmse:9.76297\tvalidation_1-rmse:14.69163\n",
      "[300]\tvalidation_0-rmse:11.13131\tvalidation_1-rmse:14.56387\n",
      "[200]\tvalidation_0-rmse:10.08192\tvalidation_1-rmse:17.43766\n",
      "[300]\tvalidation_0-rmse:13.71914\tvalidation_1-rmse:18.03247\n",
      "[1200]\tvalidation_0-rmse:8.22312\tvalidation_1-rmse:15.11735\n",
      "[200]\tvalidation_0-rmse:10.27566\tvalidation_1-rmse:17.71626\n",
      "[400]\tvalidation_0-rmse:13.45257\tvalidation_1-rmse:17.73720\n",
      "[300]\tvalidation_0-rmse:11.13131\tvalidation_1-rmse:14.56387\n",
      "[300]\tvalidation_0-rmse:8.19278\tvalidation_1-rmse:16.28207\n",
      "[99]\tvalidation_0-rmse:17.14120\tvalidation_1-rmse:20.60466\n",
      "[CV] END .learning_rate=0.01, max_depth=10, n_estimators=100; total time=   4.9s\n",
      "[0]\tvalidation_0-rmse:29.45964\tvalidation_1-rmse:32.02089\n",
      "[1300]\tvalidation_0-rmse:9.00848\tvalidation_1-rmse:14.49962\n",
      "[1500]\tvalidation_0-rmse:10.96326\tvalidation_1-rmse:16.25143\n",
      "[1400]\tvalidation_0-rmse:12.02195\tvalidation_1-rmse:15.89737\n",
      "[400]\tvalidation_0-rmse:12.92663\tvalidation_1-rmse:18.28076\n",
      "[400]\tvalidation_0-rmse:6.91967\tvalidation_1-rmse:15.13682\n",
      "[1300]\tvalidation_0-rmse:9.84933\tvalidation_1-rmse:14.59836\n",
      "[400]\tvalidation_0-rmse:11.00644\tvalidation_1-rmse:13.88404\n",
      "[400]\tvalidation_0-rmse:13.45257\tvalidation_1-rmse:17.73720\n",
      "[300]\tvalidation_0-rmse:7.72536\tvalidation_1-rmse:15.43770\n",
      "[1300]\tvalidation_0-rmse:8.14947\tvalidation_1-rmse:15.09649\n",
      "[500]\tvalidation_0-rmse:13.44515\tvalidation_1-rmse:17.74448\n",
      "[505]\tvalidation_0-rmse:13.44562\tvalidation_1-rmse:17.74628\n",
      "[400]\tvalidation_0-rmse:11.00644\tvalidation_1-rmse:13.88404\n",
      "[CV] END .learning_rate=0.01, max_depth=5, n_estimators=1000; total time=  14.4s\n",
      "[300]\tvalidation_0-rmse:8.19278\tvalidation_1-rmse:16.28207\n",
      "[0]\tvalidation_0-rmse:29.44014\tvalidation_1-rmse:31.89014\n",
      "[400]\tvalidation_0-rmse:7.16942\tvalidation_1-rmse:15.64171\n",
      "[99]\tvalidation_0-rmse:15.30253\tvalidation_1-rmse:19.13428\n",
      "[1400]\tvalidation_0-rmse:9.00815\tvalidation_1-rmse:14.48158\n",
      "[1500]\tvalidation_0-rmse:12.00933\tvalidation_1-rmse:15.87632\n",
      "[CV] END .learning_rate=0.01, max_depth=10, n_estimators=100; total time=   5.9s\n",
      "[500]\tvalidation_0-rmse:12.81652\tvalidation_1-rmse:18.27312[0]\tvalidation_0-rmse:29.69074\tvalidation_1-rmse:32.55148\n",
      "\n",
      "[1600]\tvalidation_0-rmse:10.94566\tvalidation_1-rmse:16.24687\n",
      "[1400]\tvalidation_0-rmse:9.89201\tvalidation_1-rmse:14.59874\n",
      "[500]\tvalidation_0-rmse:11.24147\tvalidation_1-rmse:13.70516\n",
      "[500]\tvalidation_0-rmse:6.64150\tvalidation_1-rmse:15.03888\n",
      "[500]\tvalidation_0-rmse:13.44515\tvalidation_1-rmse:17.74448\n",
      "[505]\tvalidation_0-rmse:13.44562\tvalidation_1-rmse:17.74628\n",
      "[1400]\tvalidation_0-rmse:8.06246\tvalidation_1-rmse:15.08574\n",
      "[CV] END .learning_rate=0.01, max_depth=5, n_estimators=5000; total time=  14.6s\n",
      "[0]\tvalidation_0-rmse:29.59077\tvalidation_1-rmse:32.37944\n",
      "[99]\tvalidation_0-rmse:13.98689\tvalidation_1-rmse:19.64558\n",
      "[CV] END .learning_rate=0.01, max_depth=10, n_estimators=100; total time=   5.1s\n",
      "[400]\tvalidation_0-rmse:6.91967\tvalidation_1-rmse:15.13682\n",
      "[500]\tvalidation_0-rmse:11.24147\tvalidation_1-rmse:13.70516\n",
      "[548]\tvalidation_0-rmse:12.80934\tvalidation_1-rmse:18.29653\n",
      "[0]\tvalidation_0-rmse:29.49737\tvalidation_1-rmse:32.16166\n",
      "[CV] END .learning_rate=0.01, max_depth=5, n_estimators=5000; total time=  15.8s\n",
      "[0]\tvalidation_0-rmse:29.45964\tvalidation_1-rmse:32.02089\n",
      "[400]\tvalidation_0-rmse:7.16942\tvalidation_1-rmse:15.64171\n",
      "[1461]\tvalidation_0-rmse:9.94318\tvalidation_1-rmse:14.61627\n",
      "[500]\tvalidation_0-rmse:6.73800\tvalidation_1-rmse:15.37843\n",
      "[1600]\tvalidation_0-rmse:11.99961\tvalidation_1-rmse:15.85914\n",
      "[1700]\tvalidation_0-rmse:10.95334\tvalidation_1-rmse:16.23820\n",
      "[1500]\tvalidation_0-rmse:8.97807\tvalidation_1-rmse:14.48583\n",
      "[CV] END .learning_rate=0.01, max_depth=3, n_estimators=5000; total time=  41.8s\n",
      "[0]\tvalidation_0-rmse:29.44014\tvalidation_1-rmse:31.89014\n",
      "[1514]\tvalidation_0-rmse:8.97214\tvalidation_1-rmse:14.48037\n",
      "[CV] END .learning_rate=0.01, max_depth=3, n_estimators=5000; total time=  42.4s\n",
      "[0]\tvalidation_0-rmse:29.69074\tvalidation_1-rmse:32.55148\n",
      "[1500]\tvalidation_0-rmse:7.99724\tvalidation_1-rmse:15.06389\n",
      "[600]\tvalidation_0-rmse:11.35624\tvalidation_1-rmse:13.61141\n",
      "[100]\tvalidation_0-rmse:17.45099\tvalidation_1-rmse:21.52907\n",
      "[600]\tvalidation_0-rmse:6.41389\tvalidation_1-rmse:15.01904\n",
      "[99]\tvalidation_0-rmse:13.83900\tvalidation_1-rmse:21.51678\n",
      "[CV] END .learning_rate=0.01, max_depth=10, n_estimators=100; total time=   5.3s\n",
      "[0]\tvalidation_0-rmse:29.59077\tvalidation_1-rmse:32.37944\n",
      "[600]\tvalidation_0-rmse:11.35624\tvalidation_1-rmse:13.61141\n",
      "[500]\tvalidation_0-rmse:6.64150\tvalidation_1-rmse:15.03888\n",
      "[1800]\tvalidation_0-rmse:10.95186\tvalidation_1-rmse:16.23258\n",
      "[500]\tvalidation_0-rmse:6.73800\tvalidation_1-rmse:15.37843\n",
      "[100]\tvalidation_0-rmse:17.10073\tvalidation_1-rmse:20.55413\n",
      "[600]\tvalidation_0-rmse:6.41407\tvalidation_1-rmse:15.36099\n",
      "[1700]\tvalidation_0-rmse:12.00634\tvalidation_1-rmse:15.84081\n",
      "[100]\tvalidation_0-rmse:15.24539\tvalidation_1-rmse:19.06944\n",
      "[1600]\tvalidation_0-rmse:7.90102\tvalidation_1-rmse:14.93771\n",
      "[100]\tvalidation_0-rmse:13.90163\tvalidation_1-rmse:19.59695\n",
      "[700]\tvalidation_0-rmse:11.34884\tvalidation_1-rmse:13.54554\n",
      "[700]\tvalidation_0-rmse:6.23359\tvalidation_1-rmse:15.05441\n",
      "[700]\tvalidation_0-rmse:11.34884\tvalidation_1-rmse:13.54554\n",
      "[708]\tvalidation_0-rmse:6.23012\tvalidation_1-rmse:15.05801\n",
      "[100]\tvalidation_0-rmse:17.45099\tvalidation_1-rmse:21.52907\n",
      "[CV] END .learning_rate=0.01, max_depth=5, n_estimators=1000; total time=  22.1s\n",
      "[1900]\tvalidation_0-rmse:10.93920\tvalidation_1-rmse:16.22529\n",
      "[0]\tvalidation_0-rmse:29.49737\tvalidation_1-rmse:32.16166\n",
      "[200]\tvalidation_0-rmse:13.75824\tvalidation_1-rmse:19.18763\n",
      "[675]\tvalidation_0-rmse:6.19548\tvalidation_1-rmse:15.36588\n",
      "[100]\tvalidation_0-rmse:13.75032\tvalidation_1-rmse:21.49562\n",
      "[CV] END .learning_rate=0.01, max_depth=5, n_estimators=1000; total time=  22.4s\n",
      "[600]\tvalidation_0-rmse:6.41389\tvalidation_1-rmse:15.01904\n",
      "[600]\tvalidation_0-rmse:6.41407\tvalidation_1-rmse:15.36099\n",
      "[0]\tvalidation_0-rmse:29.45964\tvalidation_1-rmse:32.02089\n",
      "[1800]\tvalidation_0-rmse:12.00505\tvalidation_1-rmse:15.82275\n",
      "[100]\tvalidation_0-rmse:17.10073\tvalidation_1-rmse:20.55413\n",
      "[1700]\tvalidation_0-rmse:7.82446\tvalidation_1-rmse:14.83859\n",
      "[800]\tvalidation_0-rmse:11.32775\tvalidation_1-rmse:13.51211\n",
      "[800]\tvalidation_0-rmse:11.32775\tvalidation_1-rmse:13.51211\n",
      "[2000]\tvalidation_0-rmse:10.94219\tvalidation_1-rmse:16.22834\n",
      "[200]\tvalidation_0-rmse:14.99098\tvalidation_1-rmse:18.18091\n",
      "[674]\tvalidation_0-rmse:6.20005\tvalidation_1-rmse:15.36588\n",
      "[200]\tvalidation_0-rmse:13.18306\tvalidation_1-rmse:16.44081\n",
      "[CV] END .learning_rate=0.01, max_depth=5, n_estimators=5000; total time=  21.7s\n",
      "[0]\tvalidation_0-rmse:29.44014\tvalidation_1-rmse:31.89014\n",
      "[700]\tvalidation_0-rmse:6.23359\tvalidation_1-rmse:15.05441\n",
      "[2043]\tvalidation_0-rmse:10.94964\tvalidation_1-rmse:16.22878\n",
      "[200]\tvalidation_0-rmse:13.75824\tvalidation_1-rmse:19.18763\n",
      "[708]\tvalidation_0-rmse:6.23012\tvalidation_1-rmse:15.05801\n",
      "[1900]\tvalidation_0-rmse:12.01224\tvalidation_1-rmse:15.81419\n",
      "[200]\tvalidation_0-rmse:8.66105\tvalidation_1-rmse:16.62735\n",
      "[CV] END .learning_rate=0.01, max_depth=5, n_estimators=5000; total time=  23.1s\n",
      "[CV] END .learning_rate=0.01, max_depth=3, n_estimators=5000; total time=  53.5s\n",
      "[0]\tvalidation_0-rmse:29.69074\tvalidation_1-rmse:32.55148\n",
      "[300]\tvalidation_0-rmse:12.99955\tvalidation_1-rmse:19.01078\n",
      "[0]\tvalidation_0-rmse:29.59077\tvalidation_1-rmse:32.37944\n",
      "[1800]\tvalidation_0-rmse:7.78109\tvalidation_1-rmse:14.81478\n",
      "[100]\tvalidation_0-rmse:15.24539\tvalidation_1-rmse:19.06944\n",
      "[900]\tvalidation_0-rmse:11.29686\tvalidation_1-rmse:13.48441\n",
      "[900]\tvalidation_0-rmse:11.29686\tvalidation_1-rmse:13.48441\n",
      "[200]\tvalidation_0-rmse:14.99098\tvalidation_1-rmse:18.18091\n",
      "[100]\tvalidation_0-rmse:13.90163\tvalidation_1-rmse:19.59695\n",
      "[200]\tvalidation_0-rmse:8.64723\tvalidation_1-rmse:20.96392\n",
      "[2000]\tvalidation_0-rmse:12.02684\tvalidation_1-rmse:15.81229\n",
      "[300]\tvalidation_0-rmse:15.08053\tvalidation_1-rmse:17.82471\n",
      "[373]\tvalidation_0-rmse:12.94330\tvalidation_1-rmse:19.12275\n",
      "[1900]\tvalidation_0-rmse:7.72009\tvalidation_1-rmse:14.81794\n",
      "[CV] END .learning_rate=0.01, max_depth=10, n_estimators=500; total time=  15.5s\n",
      "[300]\tvalidation_0-rmse:12.99955\tvalidation_1-rmse:19.01078\n",
      "[0]\tvalidation_0-rmse:29.49737\tvalidation_1-rmse:32.16166\n",
      "[999]\tvalidation_0-rmse:11.29306\tvalidation_1-rmse:13.44653\n",
      "[300]\tvalidation_0-rmse:12.67095\tvalidation_1-rmse:15.15954\n",
      "[100]\tvalidation_0-rmse:17.45099\tvalidation_1-rmse:21.52907\n",
      "[1928]\tvalidation_0-rmse:7.69461\tvalidation_1-rmse:14.83320\n",
      "[1000]\tvalidation_0-rmse:11.29267\tvalidation_1-rmse:13.44720\n",
      "[CV] END .learning_rate=0.01, max_depth=5, n_estimators=1000; total time=  30.8s\n",
      "[100]\tvalidation_0-rmse:17.10073\tvalidation_1-rmse:20.55413\n",
      "[CV] END .learning_rate=0.01, max_depth=3, n_estimators=5000; total time=  55.2s\n",
      "[300]\tvalidation_0-rmse:7.18542\tvalidation_1-rmse:15.50031[100]\tvalidation_0-rmse:13.75032\tvalidation_1-rmse:21.49562\n",
      "\n",
      "[0]\tvalidation_0-rmse:29.45964\tvalidation_1-rmse:32.02089\n",
      "[0]\tvalidation_0-rmse:29.44014\tvalidation_1-rmse:31.89014\n",
      "[2100]\tvalidation_0-rmse:12.02609\tvalidation_1-rmse:15.80024\n",
      "[200]\tvalidation_0-rmse:13.18306\tvalidation_1-rmse:16.44081\n",
      "[300]\tvalidation_0-rmse:15.08053\tvalidation_1-rmse:17.82471\n",
      "[200]\tvalidation_0-rmse:8.66105\tvalidation_1-rmse:16.62735\n",
      "[300]\tvalidation_0-rmse:7.43523\tvalidation_1-rmse:20.62020\n",
      "[374]\tvalidation_0-rmse:12.94360\tvalidation_1-rmse:19.12454\n",
      "[1100]\tvalidation_0-rmse:11.25866\tvalidation_1-rmse:13.38367\n",
      "[CV] END learning_rate=0.01, max_depth=10, n_estimators=1000; total time=  15.7s\n",
      "[0]\tvalidation_0-rmse:29.69052\tvalidation_1-rmse:32.55131\n",
      "[400]\tvalidation_0-rmse:15.59665\tvalidation_1-rmse:17.88513\n",
      "[2200]\tvalidation_0-rmse:12.03849\tvalidation_1-rmse:15.79642\n",
      "[200]\tvalidation_0-rmse:13.75824\tvalidation_1-rmse:19.18763\n",
      "[410]\tvalidation_0-rmse:15.64505\tvalidation_1-rmse:17.89588\n",
      "[100]\tvalidation_0-rmse:15.24539\tvalidation_1-rmse:19.06944\n",
      "[200]\tvalidation_0-rmse:14.99098\tvalidation_1-rmse:18.18091\n",
      "[CV] END .learning_rate=0.01, max_depth=10, n_estimators=500; total time=  19.4s\n",
      "[0]\tvalidation_0-rmse:29.59048\tvalidation_1-rmse:32.37925\n",
      "[400]\tvalidation_0-rmse:12.78099\tvalidation_1-rmse:14.90533\n",
      "[100]\tvalidation_0-rmse:13.90163\tvalidation_1-rmse:19.59695\n",
      "[400]\tvalidation_0-rmse:6.99234\tvalidation_1-rmse:15.14586\n",
      "[300]\tvalidation_0-rmse:12.67095\tvalidation_1-rmse:15.15954\n",
      "[200]\tvalidation_0-rmse:8.64723\tvalidation_1-rmse:20.96392\n",
      "[100]\tvalidation_0-rmse:13.75032\tvalidation_1-rmse:21.49562\n",
      "[400]\tvalidation_0-rmse:15.59665\tvalidation_1-rmse:17.88513\n",
      "[1200]\tvalidation_0-rmse:11.27244\tvalidation_1-rmse:13.33726\n",
      "[2300]\tvalidation_0-rmse:12.03942\tvalidation_1-rmse:15.75091\n",
      "[410]\tvalidation_0-rmse:15.64505\tvalidation_1-rmse:17.89588\n",
      "[CV] END learning_rate=0.01, max_depth=10, n_estimators=1000; total time=  18.8s\n",
      "[300]\tvalidation_0-rmse:7.18542\tvalidation_1-rmse:15.50031\n",
      "[0]\tvalidation_0-rmse:29.49662\tvalidation_1-rmse:32.16144\n",
      "[400]\tvalidation_0-rmse:7.27079\tvalidation_1-rmse:20.33470\n",
      "[300]\tvalidation_0-rmse:12.99955\tvalidation_1-rmse:19.01078\n",
      "[99]\tvalidation_0-rmse:17.52980\tvalidation_1-rmse:21.53392\n",
      "[CV] END .learning_rate=0.01, max_depth=14, n_estimators=100; total time=   5.4s\n",
      "[2392]\tvalidation_0-rmse:12.06011\tvalidation_1-rmse:15.75195\n",
      "[300]\tvalidation_0-rmse:15.08053\tvalidation_1-rmse:17.82471\n",
      "[0]\tvalidation_0-rmse:29.45931\tvalidation_1-rmse:32.02063\n",
      "[200]\tvalidation_0-rmse:13.18306\tvalidation_1-rmse:16.44081\n",
      "[1300]\tvalidation_0-rmse:11.27466\tvalidation_1-rmse:13.32754\n",
      "[CV] END .learning_rate=0.01, max_depth=3, n_estimators=5000; total time= 1.1min\n",
      "[0]\tvalidation_0-rmse:29.43953\tvalidation_1-rmse:31.88982\n",
      "[488]\tvalidation_0-rmse:12.90633\tvalidation_1-rmse:14.98305\n",
      "[400]\tvalidation_0-rmse:12.78099\tvalidation_1-rmse:14.90533\n",
      "[499]\tvalidation_0-rmse:7.01593\tvalidation_1-rmse:15.04943\n",
      "[200]\tvalidation_0-rmse:8.66105\tvalidation_1-rmse:16.62735\n",
      "[99]\tvalidation_0-rmse:17.13023\tvalidation_1-rmse:20.59464\n",
      "[373]\tvalidation_0-rmse:12.94330\tvalidation_1-rmse:19.12275\n",
      "[CV] END .learning_rate=0.01, max_depth=10, n_estimators=500; total time=  25.4s\n",
      "[300]\tvalidation_0-rmse:7.43523\tvalidation_1-rmse:20.62020\n",
      "[CV] END .learning_rate=0.01, max_depth=14, n_estimators=100; total time=   6.4s\n",
      "[0]\tvalidation_0-rmse:29.69052\tvalidation_1-rmse:32.55131\n",
      "[0]\tvalidation_0-rmse:29.59048\tvalidation_1-rmse:32.37925\n",
      "[200]\tvalidation_0-rmse:8.64723\tvalidation_1-rmse:20.96392\n",
      "[CV] END learning_rate=0.01, max_depth=10, n_estimators=5000; total time=  15.8s\n",
      "[0]\tvalidation_0-rmse:29.49662\tvalidation_1-rmse:32.16144\n",
      "[CV] END .learning_rate=0.01, max_depth=10, n_estimators=500; total time=  25.9s\n",
      "[0]\tvalidation_0-rmse:29.45931\tvalidation_1-rmse:32.02063\n",
      "[400]\tvalidation_0-rmse:6.99234\tvalidation_1-rmse:15.14586\n",
      "[1400]\tvalidation_0-rmse:11.27128\tvalidation_1-rmse:13.31046\n",
      "[400]\tvalidation_0-rmse:15.59665\tvalidation_1-rmse:17.88513\n",
      "[499]\tvalidation_0-rmse:7.31297\tvalidation_1-rmse:20.25948\n",
      "[410]\tvalidation_0-rmse:15.64505\tvalidation_1-rmse:17.89588\n",
      "[300]\tvalidation_0-rmse:12.67095\tvalidation_1-rmse:15.15954\n",
      "[99]\tvalidation_0-rmse:15.26936\tvalidation_1-rmse:19.08245\n",
      "[CV] END learning_rate=0.01, max_depth=10, n_estimators=5000; total time=  18.5s\n",
      "[488]\tvalidation_0-rmse:12.90633\tvalidation_1-rmse:14.98305\n",
      "[CV] END .learning_rate=0.01, max_depth=14, n_estimators=100; total time=   7.5s\n",
      "[0]\tvalidation_0-rmse:29.43953\tvalidation_1-rmse:31.88982\n",
      "[0]\tvalidation_0-rmse:29.69052\tvalidation_1-rmse:32.55131\n",
      "[CV] END .learning_rate=0.01, max_depth=10, n_estimators=500; total time=  28.1s\n",
      "[0]\tvalidation_0-rmse:29.59048\tvalidation_1-rmse:32.37925\n",
      "[CV] END learning_rate=0.01, max_depth=10, n_estimators=1000; total time=  24.0s\n",
      "[1500]\tvalidation_0-rmse:11.27081\tvalidation_1-rmse:13.31316\n",
      "[0]\tvalidation_0-rmse:29.49662\tvalidation_1-rmse:32.16144\n",
      "[300]\tvalidation_0-rmse:7.18542\tvalidation_1-rmse:15.50031\n",
      "[1507]\tvalidation_0-rmse:11.27065\tvalidation_1-rmse:13.31341\n",
      "[300]\tvalidation_0-rmse:7.43523\tvalidation_1-rmse:20.62020\n",
      "[99]\tvalidation_0-rmse:13.97152\tvalidation_1-rmse:19.62587\n",
      "[CV] END .learning_rate=0.01, max_depth=14, n_estimators=100; total time=   8.4s\n",
      "[400]\tvalidation_0-rmse:7.27079\tvalidation_1-rmse:20.33470\n",
      "[CV] END .learning_rate=0.01, max_depth=5, n_estimators=5000; total time=  45.9s\n",
      "[0]\tvalidation_0-rmse:29.45931\tvalidation_1-rmse:32.02063\n",
      "[0]\tvalidation_0-rmse:29.43953\tvalidation_1-rmse:31.88982\n",
      "[500]\tvalidation_0-rmse:7.01636\tvalidation_1-rmse:15.04903\n",
      "[100]\tvalidation_0-rmse:17.47160\tvalidation_1-rmse:21.50365\n",
      "[100]\tvalidation_0-rmse:17.08995\tvalidation_1-rmse:20.54452\n",
      "[99]\tvalidation_0-rmse:13.79893\tvalidation_1-rmse:21.85782\n",
      "[CV] END .learning_rate=0.01, max_depth=14, n_estimators=100; total time=   9.5s\n",
      "[400]\tvalidation_0-rmse:12.78099\tvalidation_1-rmse:14.90533\n",
      "[0]\tvalidation_0-rmse:29.69052\tvalidation_1-rmse:32.55131\n",
      "[100]\tvalidation_0-rmse:15.21240\tvalidation_1-rmse:19.01800\n",
      "[100]\tvalidation_0-rmse:13.88654\tvalidation_1-rmse:19.57680\n",
      "[100]\tvalidation_0-rmse:17.47160\tvalidation_1-rmse:21.50365\n",
      "[400]\tvalidation_0-rmse:6.99234\tvalidation_1-rmse:15.14586\n",
      "[100]\tvalidation_0-rmse:17.08995\tvalidation_1-rmse:20.54452\n",
      "[400]\tvalidation_0-rmse:7.27079\tvalidation_1-rmse:20.33470\n",
      "[600]\tvalidation_0-rmse:7.06868\tvalidation_1-rmse:15.03530\n",
      "[500]\tvalidation_0-rmse:7.31363\tvalidation_1-rmse:20.25916\n",
      "[488]\tvalidation_0-rmse:12.90633\tvalidation_1-rmse:14.98305\n",
      "[100]\tvalidation_0-rmse:15.21240\tvalidation_1-rmse:19.01800\n",
      "[CV] END learning_rate=0.01, max_depth=10, n_estimators=5000; total time=  25.2s\n",
      "[100]\tvalidation_0-rmse:17.47160\tvalidation_1-rmse:21.50365\n",
      "[0]\tvalidation_0-rmse:29.59048\tvalidation_1-rmse:32.37925\n",
      "[200]\tvalidation_0-rmse:13.80401\tvalidation_1-rmse:19.25807\n",
      "[100]\tvalidation_0-rmse:13.71199\tvalidation_1-rmse:21.84787\n",
      "[100]\tvalidation_0-rmse:13.88654\tvalidation_1-rmse:19.57680\n",
      "[200]\tvalidation_0-rmse:14.97947\tvalidation_1-rmse:18.18812\n",
      "[200]\tvalidation_0-rmse:13.80401\tvalidation_1-rmse:19.25807\n",
      "[500]\tvalidation_0-rmse:7.01636\tvalidation_1-rmse:15.04903\n",
      "[100]\tvalidation_0-rmse:13.71199\tvalidation_1-rmse:21.84787\n",
      "[684]\tvalidation_0-rmse:7.10929\tvalidation_1-rmse:15.04361\n",
      "[500]\tvalidation_0-rmse:7.31363\tvalidation_1-rmse:20.25916\n",
      "[200]\tvalidation_0-rmse:13.10633\tvalidation_1-rmse:16.38574\n",
      "[600]\tvalidation_0-rmse:7.38433\tvalidation_1-rmse:20.25539\n",
      "[CV] END learning_rate=0.01, max_depth=10, n_estimators=1000; total time=  37.4s\n",
      "[0]\tvalidation_0-rmse:29.49662\tvalidation_1-rmse:32.16144\n",
      "[200]\tvalidation_0-rmse:8.69139\tvalidation_1-rmse:16.64548\n",
      "[200]\tvalidation_0-rmse:13.80401\tvalidation_1-rmse:19.25807\n",
      "[200]\tvalidation_0-rmse:14.97947\tvalidation_1-rmse:18.18812\n",
      "[100]\tvalidation_0-rmse:17.08995\tvalidation_1-rmse:20.54452\n",
      "[200]\tvalidation_0-rmse:13.10633\tvalidation_1-rmse:16.38574\n",
      "[665]\tvalidation_0-rmse:7.42629\tvalidation_1-rmse:20.26647\n",
      "[300]\tvalidation_0-rmse:13.03878\tvalidation_1-rmse:19.07087\n",
      "[600]\tvalidation_0-rmse:7.06868\tvalidation_1-rmse:15.03530\n",
      "[300]\tvalidation_0-rmse:13.03878\tvalidation_1-rmse:19.07087\n",
      "[600]\tvalidation_0-rmse:7.38433\tvalidation_1-rmse:20.25539\n",
      "[300]\tvalidation_0-rmse:15.08264\tvalidation_1-rmse:17.84084\n",
      "[CV] END learning_rate=0.01, max_depth=10, n_estimators=1000; total time=  40.0s\n",
      "[0]\tvalidation_0-rmse:29.45931\tvalidation_1-rmse:32.02063\n",
      "[200]\tvalidation_0-rmse:8.69139\tvalidation_1-rmse:16.64548\n",
      "[200]\tvalidation_0-rmse:8.70179\tvalidation_1-rmse:22.27300\n",
      "[300]\tvalidation_0-rmse:13.03878\tvalidation_1-rmse:19.07087\n",
      "[664]\tvalidation_0-rmse:7.42571\tvalidation_1-rmse:20.26629\n",
      "[100]\tvalidation_0-rmse:15.21240\tvalidation_1-rmse:19.01800\n",
      "[210]\tvalidation_0-rmse:8.48196\tvalidation_1-rmse:22.25849\n",
      "[683]\tvalidation_0-rmse:7.10887\tvalidation_1-rmse:15.04348\n",
      "[200]\tvalidation_0-rmse:8.70179\tvalidation_1-rmse:22.27300\n",
      "[CV] END .learning_rate=0.01, max_depth=14, n_estimators=500; total time=  24.2s\n",
      "[300]\tvalidation_0-rmse:12.60174\tvalidation_1-rmse:15.17679\n",
      "[0]\tvalidation_0-rmse:29.43953\tvalidation_1-rmse:31.88982\n",
      "[200]\tvalidation_0-rmse:14.97947\tvalidation_1-rmse:18.18812\n",
      "[210]\tvalidation_0-rmse:8.48196\tvalidation_1-rmse:22.25849\n",
      "[CV] END learning_rate=0.01, max_depth=10, n_estimators=5000; total time=  39.4s\n",
      "[300]\tvalidation_0-rmse:15.08264\tvalidation_1-rmse:17.84084\n",
      "[382]\tvalidation_0-rmse:12.98112\tvalidation_1-rmse:19.18038\n",
      "[0]\tvalidation_0-rmse:29.10202\tvalidation_1-rmse:32.04592\n",
      "[382]\tvalidation_0-rmse:12.98112\tvalidation_1-rmse:19.18038\n",
      "[CV] END learning_rate=0.01, max_depth=10, n_estimators=5000; total time=  40.2s\n",
      "[CV] END learning_rate=0.01, max_depth=14, n_estimators=1000; total time=  23.3s\n",
      "[0]\tvalidation_0-rmse:28.92894\tvalidation_1-rmse:31.83006\n",
      "[0]\tvalidation_0-rmse:28.80657\tvalidation_1-rmse:31.60684\n",
      "[CV] END learning_rate=0.01, max_depth=14, n_estimators=1000; total time=  26.3s\n",
      "[300]\tvalidation_0-rmse:7.21249\tvalidation_1-rmse:15.49745\n",
      "[CV] END .learning_rate=0.01, max_depth=14, n_estimators=500; total time=  30.2s\n",
      "[0]\tvalidation_0-rmse:28.78444\tvalidation_1-rmse:31.45302\n",
      "[0]\tvalidation_0-rmse:28.71933\tvalidation_1-rmse:31.31433\n",
      "[300]\tvalidation_0-rmse:12.60174\tvalidation_1-rmse:15.17679\n",
      "[99]\tvalidation_0-rmse:12.12859\tvalidation_1-rmse:17.51996\n",
      "[CV] END ..learning_rate=0.05, max_depth=3, n_estimators=100; total time=   3.1s\n",
      "[0]\tvalidation_0-rmse:29.10202\tvalidation_1-rmse:32.04592\n",
      "[400]\tvalidation_0-rmse:15.60623\tvalidation_1-rmse:17.90319\n",
      "[383]\tvalidation_0-rmse:12.98154\tvalidation_1-rmse:19.18209\n",
      "[100]\tvalidation_0-rmse:13.88654\tvalidation_1-rmse:19.57680\n",
      "[99]\tvalidation_0-rmse:12.77423\tvalidation_1-rmse:17.02557\n",
      "[CV] END ..learning_rate=0.05, max_depth=3, n_estimators=100; total time=   3.4s\n",
      "[99]\tvalidation_0-rmse:9.91160\tvalidation_1-rmse:15.60480\n",
      "[CV] END ..learning_rate=0.05, max_depth=3, n_estimators=100; total time=   3.4s\n",
      "[0]\tvalidation_0-rmse:28.92894\tvalidation_1-rmse:31.83006\n",
      "[0]\tvalidation_0-rmse:28.80657\tvalidation_1-rmse:31.60684\n",
      "[410]\tvalidation_0-rmse:15.65483\tvalidation_1-rmse:17.91428\n",
      "[99]\tvalidation_0-rmse:10.39823\tvalidation_1-rmse:15.34010\n",
      "[CV] END ..learning_rate=0.05, max_depth=3, n_estimators=100; total time=   3.4s\n",
      "[CV] END learning_rate=0.01, max_depth=14, n_estimators=5000; total time=  25.7s\n",
      "[0]\tvalidation_0-rmse:28.78444\tvalidation_1-rmse:31.45302\n",
      "[0]\tvalidation_0-rmse:28.71933\tvalidation_1-rmse:31.31433\n",
      "[99]\tvalidation_0-rmse:9.61015\tvalidation_1-rmse:15.99162\n",
      "[CV] END ..learning_rate=0.05, max_depth=3, n_estimators=100; total time=   3.9s\n",
      "[0]\tvalidation_0-rmse:29.10202\tvalidation_1-rmse:32.04592\n",
      "[CV] END .learning_rate=0.01, max_depth=14, n_estimators=500; total time=  34.4s\n",
      "[0]\tvalidation_0-rmse:28.92894\tvalidation_1-rmse:31.83006\n",
      "[200]\tvalidation_0-rmse:13.10633\tvalidation_1-rmse:16.38574\n",
      "[100]\tvalidation_0-rmse:12.08720\tvalidation_1-rmse:17.47894\n",
      "[300]\tvalidation_0-rmse:7.21249\tvalidation_1-rmse:15.49745\n",
      "[100]\tvalidation_0-rmse:9.87504\tvalidation_1-rmse:15.56887\n",
      "[100]\tvalidation_0-rmse:12.77511\tvalidation_1-rmse:17.01617\n",
      "[300]\tvalidation_0-rmse:15.08264\tvalidation_1-rmse:17.84084\n",
      "[100]\tvalidation_0-rmse:10.34901\tvalidation_1-rmse:15.32588\n",
      "[100]\tvalidation_0-rmse:9.58469\tvalidation_1-rmse:15.95600\n",
      "[400]\tvalidation_0-rmse:15.60623\tvalidation_1-rmse:17.90319\n",
      "[100]\tvalidation_0-rmse:12.08720\tvalidation_1-rmse:17.47894\n",
      "[100]\tvalidation_0-rmse:13.71199\tvalidation_1-rmse:21.84787\n",
      "[100]\tvalidation_0-rmse:12.77511\tvalidation_1-rmse:17.01617\n",
      "[200]\tvalidation_0-rmse:11.03356\tvalidation_1-rmse:16.37838\n",
      "[410]\tvalidation_0-rmse:15.65483\tvalidation_1-rmse:17.91428\n",
      "[200]\tvalidation_0-rmse:9.44345\tvalidation_1-rmse:14.66726\n",
      "[400]\tvalidation_0-rmse:12.71497\tvalidation_1-rmse:14.91468\n",
      "[200]\tvalidation_0-rmse:12.11051\tvalidation_1-rmse:16.04725\n",
      "[CV] END learning_rate=0.01, max_depth=14, n_estimators=1000; total time=  35.8s\n",
      "[200]\tvalidation_0-rmse:9.27351\tvalidation_1-rmse:14.43640\n",
      "[0]\tvalidation_0-rmse:28.80657\tvalidation_1-rmse:31.60684\n",
      "[400]\tvalidation_0-rmse:7.04520\tvalidation_1-rmse:15.15544\n",
      "[200]\tvalidation_0-rmse:8.44583\tvalidation_1-rmse:15.10275\n",
      "[200]\tvalidation_0-rmse:11.03356\tvalidation_1-rmse:16.37838\n",
      "[300]\tvalidation_0-rmse:10.98297\tvalidation_1-rmse:16.20928\n",
      "[400]\tvalidation_0-rmse:12.71497\tvalidation_1-rmse:14.91468\n",
      "[200]\tvalidation_0-rmse:12.11051\tvalidation_1-rmse:16.04725\n",
      "[200]\tvalidation_0-rmse:8.69139\tvalidation_1-rmse:16.64548\n",
      "[300]\tvalidation_0-rmse:9.61366\tvalidation_1-rmse:14.44688\n",
      "[300]\tvalidation_0-rmse:12.03633\tvalidation_1-rmse:15.82295\n",
      "[300]\tvalidation_0-rmse:8.94177\tvalidation_1-rmse:14.41064\n",
      "[100]\tvalidation_0-rmse:9.87504\tvalidation_1-rmse:15.56887\n",
      "[400]\tvalidation_0-rmse:10.99273\tvalidation_1-rmse:16.19976\n",
      "[300]\tvalidation_0-rmse:8.00042\tvalidation_1-rmse:14.81330\n",
      "[300]\tvalidation_0-rmse:10.98297\tvalidation_1-rmse:16.20928\n",
      "[300]\tvalidation_0-rmse:12.60174\tvalidation_1-rmse:15.17679\n",
      "[300]\tvalidation_0-rmse:12.03633\tvalidation_1-rmse:15.82295\n",
      "[400]\tvalidation_0-rmse:15.60623\tvalidation_1-rmse:17.90319\n",
      "[400]\tvalidation_0-rmse:9.62927\tvalidation_1-rmse:14.43045\n",
      "[400]\tvalidation_0-rmse:12.04126\tvalidation_1-rmse:15.78247\n",
      "[400]\tvalidation_0-rmse:8.79102\tvalidation_1-rmse:14.54366\n",
      "[410]\tvalidation_0-rmse:15.65483\tvalidation_1-rmse:17.91428\n",
      "[499]\tvalidation_0-rmse:11.00056\tvalidation_1-rmse:16.18002\n",
      "[400]\tvalidation_0-rmse:7.04520\tvalidation_1-rmse:15.15544\n",
      "[CV] END ..learning_rate=0.05, max_depth=3, n_estimators=500; total time=  14.2s\n",
      "[400]\tvalidation_0-rmse:10.99273\tvalidation_1-rmse:16.19976\n",
      "[400]\tvalidation_0-rmse:7.64238\tvalidation_1-rmse:14.71214\n",
      "[200]\tvalidation_0-rmse:9.44345\tvalidation_1-rmse:14.66726\n",
      "[0]\tvalidation_0-rmse:28.78444\tvalidation_1-rmse:31.45302\n",
      "[420]\tvalidation_0-rmse:8.75215\tvalidation_1-rmse:14.52698\n",
      "[CV] END ..learning_rate=0.05, max_depth=3, n_estimators=500; total time=  13.0s\n",
      "[400]\tvalidation_0-rmse:12.04126\tvalidation_1-rmse:15.78247\n",
      "[0]\tvalidation_0-rmse:28.71933\tvalidation_1-rmse:31.31433\n",
      "[442]\tvalidation_0-rmse:9.63973\tvalidation_1-rmse:14.47218\n",
      "[CV] END ..learning_rate=0.05, max_depth=3, n_estimators=500; total time=  14.1s\n",
      "[0]\tvalidation_0-rmse:29.10202\tvalidation_1-rmse:32.04592\n",
      "[CV] END learning_rate=0.01, max_depth=14, n_estimators=5000; total time=  33.6s\n",
      "[0]\tvalidation_0-rmse:28.92894\tvalidation_1-rmse:31.83006\n",
      "[200]\tvalidation_0-rmse:8.70179\tvalidation_1-rmse:22.27300\n",
      "[499]\tvalidation_0-rmse:12.07606\tvalidation_1-rmse:15.81889\n",
      "[CV] END ..learning_rate=0.05, max_depth=3, n_estimators=500; total time=  15.9s\n",
      "[209]\tvalidation_0-rmse:8.50250\tvalidation_1-rmse:22.25946\n",
      "[490]\tvalidation_0-rmse:12.84386\tvalidation_1-rmse:14.99513\n",
      "[0]\tvalidation_0-rmse:28.80657\tvalidation_1-rmse:31.60684\n",
      "[500]\tvalidation_0-rmse:11.00180\tvalidation_1-rmse:16.18186\n",
      "[499]\tvalidation_0-rmse:7.42246\tvalidation_1-rmse:14.46895\n",
      "[490]\tvalidation_0-rmse:12.84386\tvalidation_1-rmse:14.99513\n",
      "[CV] END learning_rate=0.01, max_depth=14, n_estimators=5000; total time=  21.5s\n",
      "[CV] END ..learning_rate=0.05, max_depth=3, n_estimators=500; total time=  15.7s\n",
      "[300]\tvalidation_0-rmse:9.61366\tvalidation_1-rmse:14.44688[500]\tvalidation_0-rmse:12.08985\tvalidation_1-rmse:15.83737\n",
      "\n",
      "[100]\tvalidation_0-rmse:10.34901\tvalidation_1-rmse:15.32588\n",
      "[0]\tvalidation_0-rmse:28.78444\tvalidation_1-rmse:31.45302\n",
      "[0]\tvalidation_0-rmse:28.71933\tvalidation_1-rmse:31.31433\n",
      "[100]\tvalidation_0-rmse:9.58469\tvalidation_1-rmse:15.95600\n",
      "[100]\tvalidation_0-rmse:12.08720\tvalidation_1-rmse:17.47894\n",
      "[499]\tvalidation_0-rmse:7.06455\tvalidation_1-rmse:15.06929\n",
      "[100]\tvalidation_0-rmse:12.77511\tvalidation_1-rmse:17.01617\n",
      "[CV] END .learning_rate=0.01, max_depth=14, n_estimators=500; total time=  50.1s\n",
      "[0]\tvalidation_0-rmse:28.94918\tvalidation_1-rmse:31.82284\n",
      "[548]\tvalidation_0-rmse:12.13219\tvalidation_1-rmse:15.80526\n",
      "[CV] END .learning_rate=0.05, max_depth=3, n_estimators=1000; total time=  16.4s\n",
      "[CV] END learning_rate=0.01, max_depth=14, n_estimators=1000; total time=  46.3s\n",
      "[0]\tvalidation_0-rmse:28.73384\tvalidation_1-rmse:31.60916\n",
      "[0]\tvalidation_0-rmse:28.58530\tvalidation_1-rmse:31.31246\n",
      "[300]\tvalidation_0-rmse:7.21249\tvalidation_1-rmse:15.49745\n",
      "[100]\tvalidation_0-rmse:9.87504\tvalidation_1-rmse:15.56887\n",
      "[100]\tvalidation_0-rmse:9.58469\tvalidation_1-rmse:15.95600\n",
      "[600]\tvalidation_0-rmse:11.02686\tvalidation_1-rmse:16.17609\n",
      "[200]\tvalidation_0-rmse:9.27351\tvalidation_1-rmse:14.43640\n",
      "[400]\tvalidation_0-rmse:9.62927\tvalidation_1-rmse:14.43045\n",
      "[CV] END .learning_rate=0.01, max_depth=14, n_estimators=500; total time=  51.4s\n",
      "[100]\tvalidation_0-rmse:10.34901\tvalidation_1-rmse:15.32588\n",
      "[0]\tvalidation_0-rmse:28.56791\tvalidation_1-rmse:31.23782\n",
      "[200]\tvalidation_0-rmse:8.44583\tvalidation_1-rmse:15.10275\n",
      "[200]\tvalidation_0-rmse:12.11051\tvalidation_1-rmse:16.04725\n",
      "[200]\tvalidation_0-rmse:11.03356\tvalidation_1-rmse:16.37838\n",
      "[648]\tvalidation_0-rmse:11.03807\tvalidation_1-rmse:16.17506\n",
      "[443]\tvalidation_0-rmse:9.63965\tvalidation_1-rmse:14.47194\n",
      "[400]\tvalidation_0-rmse:12.71497\tvalidation_1-rmse:14.91468\n",
      "[CV] END .learning_rate=0.05, max_depth=3, n_estimators=1000; total time=  13.6s\n",
      "[CV] END .learning_rate=0.05, max_depth=3, n_estimators=1000; total time=  19.1s\n",
      "[0]\tvalidation_0-rmse:28.94918\tvalidation_1-rmse:31.82284\n",
      "[0]\tvalidation_0-rmse:28.52242\tvalidation_1-rmse:31.08817\n",
      "[99]\tvalidation_0-rmse:12.80894\tvalidation_1-rmse:18.33623\n",
      "[CV] END ..learning_rate=0.05, max_depth=5, n_estimators=100; total time=   3.2s\n",
      "[99]\tvalidation_0-rmse:13.42531\tvalidation_1-rmse:17.65175\n",
      "[CV] END ..learning_rate=0.05, max_depth=5, n_estimators=100; total time=   3.0s\n",
      "[0]\tvalidation_0-rmse:28.73384\tvalidation_1-rmse:31.60916\n",
      "[0]\tvalidation_0-rmse:28.58530\tvalidation_1-rmse:31.31246\n",
      "[99]\tvalidation_0-rmse:10.96409\tvalidation_1-rmse:13.55297\n",
      "[200]\tvalidation_0-rmse:9.44345\tvalidation_1-rmse:14.66726\n",
      "[CV] END ..learning_rate=0.05, max_depth=5, n_estimators=100; total time=   3.5s\n",
      "[200]\tvalidation_0-rmse:8.44583\tvalidation_1-rmse:15.10275\n",
      "[0]\tvalidation_0-rmse:28.56791\tvalidation_1-rmse:31.23782\n",
      "[300]\tvalidation_0-rmse:8.94177\tvalidation_1-rmse:14.41064\n",
      "[99]\tvalidation_0-rmse:6.39035\tvalidation_1-rmse:14.88993\n",
      "[200]\tvalidation_0-rmse:9.27351\tvalidation_1-rmse:14.43640\n",
      "[CV] END ..learning_rate=0.05, max_depth=5, n_estimators=100; total time=   3.3s\n",
      "[300]\tvalidation_0-rmse:8.00042\tvalidation_1-rmse:14.81330\n",
      "[300]\tvalidation_0-rmse:12.03633\tvalidation_1-rmse:15.82295\n",
      "[0]\tvalidation_0-rmse:28.52242\tvalidation_1-rmse:31.08817\n",
      "[300]\tvalidation_0-rmse:10.98297\tvalidation_1-rmse:16.20928\n",
      "[500]\tvalidation_0-rmse:7.06502\tvalidation_1-rmse:15.06898\n",
      "[100]\tvalidation_0-rmse:12.81020\tvalidation_1-rmse:18.34166\n",
      "[99]\tvalidation_0-rmse:6.63023\tvalidation_1-rmse:15.37001\n",
      "[CV] END ..learning_rate=0.05, max_depth=5, n_estimators=100; total time=   3.3s\n",
      "[0]\tvalidation_0-rmse:28.94918\tvalidation_1-rmse:31.82284\n",
      "[100]\tvalidation_0-rmse:10.96250\tvalidation_1-rmse:13.54722\n",
      "[300]\tvalidation_0-rmse:9.61366\tvalidation_1-rmse:14.44688\n",
      "[100]\tvalidation_0-rmse:13.43094\tvalidation_1-rmse:17.65229\n",
      "[300]\tvalidation_0-rmse:8.00042\tvalidation_1-rmse:14.81330\n",
      "[400]\tvalidation_0-rmse:8.79102\tvalidation_1-rmse:14.54366\n",
      "[100]\tvalidation_0-rmse:6.38875\tvalidation_1-rmse:14.88987\n",
      "[419]\tvalidation_0-rmse:8.75258\tvalidation_1-rmse:14.52601\n",
      "[300]\tvalidation_0-rmse:8.94177\tvalidation_1-rmse:14.41064\n",
      "[CV] END .learning_rate=0.05, max_depth=3, n_estimators=1000; total time=  12.2s\n",
      "[400]\tvalidation_0-rmse:12.04126\tvalidation_1-rmse:15.78247\n",
      "[400]\tvalidation_0-rmse:7.64238\tvalidation_1-rmse:14.71214\n",
      "[400]\tvalidation_0-rmse:10.99273\tvalidation_1-rmse:16.19976\n",
      "[0]\tvalidation_0-rmse:28.73384\tvalidation_1-rmse:31.60916\n",
      "[184]\tvalidation_0-rmse:12.68470\tvalidation_1-rmse:18.34718\n",
      "[CV] END ..learning_rate=0.05, max_depth=5, n_estimators=500; total time=   5.6s\n",
      "[100]\tvalidation_0-rmse:6.61280\tvalidation_1-rmse:15.36700\n",
      "[0]\tvalidation_0-rmse:28.58530\tvalidation_1-rmse:31.31246\n",
      "[100]\tvalidation_0-rmse:12.81020\tvalidation_1-rmse:18.34166\n",
      "[400]\tvalidation_0-rmse:9.62927\tvalidation_1-rmse:14.43045\n",
      "[200]\tvalidation_0-rmse:11.19765\tvalidation_1-rmse:13.30425\n",
      "[400]\tvalidation_0-rmse:7.64238\tvalidation_1-rmse:14.71214\n",
      "[400]\tvalidation_0-rmse:7.04520\tvalidation_1-rmse:15.15544\n",
      "[200]\tvalidation_0-rmse:13.55858\tvalidation_1-rmse:17.62122\n",
      "[500]\tvalidation_0-rmse:12.08985\tvalidation_1-rmse:15.83737\n",
      "[500]\tvalidation_0-rmse:11.00180\tvalidation_1-rmse:16.18186\n",
      "[200]\tvalidation_0-rmse:5.85443\tvalidation_1-rmse:15.02652\n",
      "[500]\tvalidation_0-rmse:7.42181\tvalidation_1-rmse:14.46865\n",
      "[443]\tvalidation_0-rmse:9.63965\tvalidation_1-rmse:14.47194\n",
      "[CV] END .learning_rate=0.05, max_depth=3, n_estimators=5000; total time=  12.5s\n",
      "[400]\tvalidation_0-rmse:8.79102\tvalidation_1-rmse:14.54366\n",
      "[100]\tvalidation_0-rmse:13.43094\tvalidation_1-rmse:17.65229\n",
      "[0]\tvalidation_0-rmse:28.56791\tvalidation_1-rmse:31.23782\n",
      "[214]\tvalidation_0-rmse:5.84414\tvalidation_1-rmse:15.03762\n",
      "[CV] END ..learning_rate=0.05, max_depth=5, n_estimators=500; total time=   7.2s\n",
      "[185]\tvalidation_0-rmse:12.68449\tvalidation_1-rmse:18.34730\n",
      "[CV] END .learning_rate=0.05, max_depth=5, n_estimators=1000; total time=   5.3s\n",
      "[0]\tvalidation_0-rmse:28.52242\tvalidation_1-rmse:31.08817\n",
      "[419]\tvalidation_0-rmse:8.75258\tvalidation_1-rmse:14.52601\n",
      "[CV] END .learning_rate=0.05, max_depth=3, n_estimators=5000; total time=  12.8s\n",
      "[198]\tvalidation_0-rmse:5.69234\tvalidation_1-rmse:15.37009\n",
      "[0]\tvalidation_0-rmse:28.94918\tvalidation_1-rmse:31.82284\n",
      "[CV] END ..learning_rate=0.05, max_depth=5, n_estimators=500; total time=   6.6s\n",
      "[0]\tvalidation_0-rmse:28.73384\tvalidation_1-rmse:31.60916\n",
      "[491]\tvalidation_0-rmse:12.84525\tvalidation_1-rmse:14.99590\n",
      "[0]\tvalidation_0-rmse:28.58530\tvalidation_1-rmse:31.31246\n",
      "[549]\tvalidation_0-rmse:12.13256\tvalidation_1-rmse:15.80595\n",
      "[CV] END .learning_rate=0.05, max_depth=3, n_estimators=5000; total time=  15.4s\n",
      "[100]\tvalidation_0-rmse:10.96250\tvalidation_1-rmse:13.54722\n",
      "[0]\tvalidation_0-rmse:28.56791\tvalidation_1-rmse:31.23782\n",
      "[300]\tvalidation_0-rmse:11.29253\tvalidation_1-rmse:13.30081\n",
      "[500]\tvalidation_0-rmse:7.42181\tvalidation_1-rmse:14.46865\n",
      "[600]\tvalidation_0-rmse:11.02686\tvalidation_1-rmse:16.17609\n",
      "[321]\tvalidation_0-rmse:11.29269\tvalidation_1-rmse:13.29486\n",
      "[CV] END ..learning_rate=0.05, max_depth=5, n_estimators=500; total time=   9.9s\n",
      "[600]\tvalidation_0-rmse:6.79088\tvalidation_1-rmse:14.42572\n",
      "[294]\tvalidation_0-rmse:13.56597\tvalidation_1-rmse:17.63616\n",
      "[CV] END learning_rate=0.01, max_depth=14, n_estimators=5000; total time=  45.4s\n",
      "[CV] END ..learning_rate=0.05, max_depth=5, n_estimators=500; total time=  10.2s\n",
      "[0]\tvalidation_0-rmse:28.52242\tvalidation_1-rmse:31.08817\n",
      "[200]\tvalidation_0-rmse:13.55858\tvalidation_1-rmse:17.62122\n",
      "[0]\tvalidation_0-rmse:28.81147\tvalidation_1-rmse:31.61166\n",
      "[0]\tvalidation_0-rmse:28.64175\tvalidation_1-rmse:31.50669\n",
      "[100]\tvalidation_0-rmse:12.81020\tvalidation_1-rmse:18.34166\n",
      "[100]\tvalidation_0-rmse:6.38875\tvalidation_1-rmse:14.88987\n",
      "[648]\tvalidation_0-rmse:11.03807\tvalidation_1-rmse:16.17506\n",
      "[100]\tvalidation_0-rmse:6.61280\tvalidation_1-rmse:15.36700\n",
      "[CV] END .learning_rate=0.05, max_depth=3, n_estimators=5000; total time=  18.3s\n",
      "[100]\tvalidation_0-rmse:13.43094\tvalidation_1-rmse:17.65229\n",
      "[100]\tvalidation_0-rmse:10.96250\tvalidation_1-rmse:13.54722\n",
      "[0]\tvalidation_0-rmse:28.48670\tvalidation_1-rmse:31.29417\n",
      "[600]\tvalidation_0-rmse:7.11785\tvalidation_1-rmse:15.06182\n",
      "[200]\tvalidation_0-rmse:11.19765\tvalidation_1-rmse:13.30425\n",
      "[100]\tvalidation_0-rmse:6.38875\tvalidation_1-rmse:14.88987\n",
      "[600]\tvalidation_0-rmse:6.79088\tvalidation_1-rmse:14.42572\n",
      "[679]\tvalidation_0-rmse:6.15488\tvalidation_1-rmse:14.70861\n",
      "[CV] END .learning_rate=0.05, max_depth=3, n_estimators=1000; total time=  20.0s\n",
      "[0]\tvalidation_0-rmse:28.43458\tvalidation_1-rmse:31.11022\n",
      "[293]\tvalidation_0-rmse:13.56336\tvalidation_1-rmse:17.63364\n",
      "[CV] END .learning_rate=0.05, max_depth=5, n_estimators=1000; total time=   8.7s\n",
      "[185]\tvalidation_0-rmse:12.68449\tvalidation_1-rmse:18.34730\n",
      "[CV] END .learning_rate=0.05, max_depth=5, n_estimators=5000; total time=   5.2s\n",
      "[0]\tvalidation_0-rmse:28.81147\tvalidation_1-rmse:31.61166\n",
      "[100]\tvalidation_0-rmse:6.61280\tvalidation_1-rmse:15.36700\n",
      "[0]\tvalidation_0-rmse:28.43010\tvalidation_1-rmse:30.98260\n",
      "[200]\tvalidation_0-rmse:5.85443\tvalidation_1-rmse:15.02652\n",
      "[200]\tvalidation_0-rmse:13.55858\tvalidation_1-rmse:17.62122\n",
      "[197]\tvalidation_0-rmse:5.69617\tvalidation_1-rmse:15.37028\n",
      "[CV] END .learning_rate=0.05, max_depth=5, n_estimators=1000; total time=   6.6s\n",
      "[678]\tvalidation_0-rmse:6.16545\tvalidation_1-rmse:14.70802\n",
      "[213]\tvalidation_0-rmse:5.84654\tvalidation_1-rmse:15.03867\n",
      "[200]\tvalidation_0-rmse:11.19765\tvalidation_1-rmse:13.30425\n",
      "[CV] END .learning_rate=0.05, max_depth=5, n_estimators=1000; total time=   7.2s\n",
      "[CV] END .learning_rate=0.05, max_depth=3, n_estimators=5000; total time=  19.3s\n",
      "[0]\tvalidation_0-rmse:28.64175\tvalidation_1-rmse:31.50669\n",
      "[0]\tvalidation_0-rmse:28.48670\tvalidation_1-rmse:31.29417\n",
      "[0]\tvalidation_0-rmse:28.43458\tvalidation_1-rmse:31.11022\n",
      "[99]\tvalidation_0-rmse:16.24615\tvalidation_1-rmse:18.01392\n",
      "[200]\tvalidation_0-rmse:5.85443\tvalidation_1-rmse:15.02652\n",
      "[99]\tvalidation_0-rmse:13.03367\tvalidation_1-rmse:19.19439\n",
      "[CV] END .learning_rate=0.05, max_depth=10, n_estimators=100; total time=   5.0s\n",
      "[300]\tvalidation_0-rmse:11.29253\tvalidation_1-rmse:13.30081\n",
      "[CV] END .learning_rate=0.05, max_depth=10, n_estimators=100; total time=   5.1s\n",
      "[0]\tvalidation_0-rmse:28.81147\tvalidation_1-rmse:31.61166\n",
      "[0]\tvalidation_0-rmse:28.43010\tvalidation_1-rmse:30.98260\n",
      "[214]\tvalidation_0-rmse:5.84414\tvalidation_1-rmse:15.03762\n",
      "[CV] END .learning_rate=0.05, max_depth=5, n_estimators=5000; total time=   7.0s\n",
      "[0]\tvalidation_0-rmse:28.64175\tvalidation_1-rmse:31.50669\n",
      "[500]\tvalidation_0-rmse:7.06502\tvalidation_1-rmse:15.06898\n",
      "[321]\tvalidation_0-rmse:11.29269\tvalidation_1-rmse:13.29486\n",
      "[CV] END .learning_rate=0.05, max_depth=5, n_estimators=1000; total time=  11.0s\n",
      "[99]\tvalidation_0-rmse:12.89309\tvalidation_1-rmse:15.22911\n",
      "[CV] END .learning_rate=0.05, max_depth=10, n_estimators=100; total time=   5.0s\n",
      "[0]\tvalidation_0-rmse:28.48670\tvalidation_1-rmse:31.29417\n",
      "[197]\tvalidation_0-rmse:5.69617\tvalidation_1-rmse:15.37028\n",
      "[0]\tvalidation_0-rmse:28.43458\tvalidation_1-rmse:31.11022\n",
      "[CV] END .learning_rate=0.05, max_depth=5, n_estimators=5000; total time=   6.6s\n",
      "[0]\tvalidation_0-rmse:28.43010\tvalidation_1-rmse:30.98260\n",
      "[294]\tvalidation_0-rmse:13.56597\tvalidation_1-rmse:17.63616\n",
      "[CV] END .learning_rate=0.05, max_depth=5, n_estimators=5000; total time=   9.3s\n",
      "[0]\tvalidation_0-rmse:28.81147\tvalidation_1-rmse:31.61166\n",
      "[99]\tvalidation_0-rmse:7.00645\tvalidation_1-rmse:14.95632\n",
      "[300]\tvalidation_0-rmse:11.29253\tvalidation_1-rmse:13.30081\n",
      "[100]\tvalidation_0-rmse:13.03895\tvalidation_1-rmse:19.20130\n",
      "[667]\tvalidation_0-rmse:7.15049\tvalidation_1-rmse:15.06961\n",
      "[CV] END .learning_rate=0.05, max_depth=10, n_estimators=100; total time=   5.4s\n",
      "[0]\tvalidation_0-rmse:28.64175\tvalidation_1-rmse:31.50669\n",
      "[321]\tvalidation_0-rmse:11.29269\tvalidation_1-rmse:13.29486\n",
      "[CV] END .learning_rate=0.05, max_depth=5, n_estimators=5000; total time=  10.5s\n",
      "[99]\tvalidation_0-rmse:7.29689\tvalidation_1-rmse:20.33937\n",
      "[CV] END .learning_rate=0.05, max_depth=10, n_estimators=100; total time=   5.7s\n",
      "[0]\tvalidation_0-rmse:28.48670\tvalidation_1-rmse:31.29417\n",
      "[100]\tvalidation_0-rmse:16.26389\tvalidation_1-rmse:18.01950\n",
      "[0]\tvalidation_0-rmse:28.43458\tvalidation_1-rmse:31.11022\n",
      "[100]\tvalidation_0-rmse:12.89958\tvalidation_1-rmse:15.23269\n",
      "[100]\tvalidation_0-rmse:13.03895\tvalidation_1-rmse:19.20130\n",
      "[152]\tvalidation_0-rmse:13.23156\tvalidation_1-rmse:19.42020\n",
      "[CV] END .learning_rate=0.05, max_depth=10, n_estimators=500; total time=   7.0s\n",
      "[100]\tvalidation_0-rmse:7.00986\tvalidation_1-rmse:14.95454\n",
      "[0]\tvalidation_0-rmse:28.43010\tvalidation_1-rmse:30.98260\n",
      "[CV] END learning_rate=0.01, max_depth=14, n_estimators=1000; total time= 1.1min\n",
      "[100]\tvalidation_0-rmse:16.26389\tvalidation_1-rmse:18.01950\n"
     ]
    },
    {
     "name": "stderr",
     "output_type": "stream",
     "text": [
      "/home/thiago/miniforge3/envs/pcd/lib/python3.12/site-packages/joblib/externals/loky/process_executor.py:752: UserWarning: A worker stopped while some jobs were given to the executor. This can be caused by a too short worker timeout or by a memory leak.\n",
      "  warnings.warn(\n"
     ]
    },
    {
     "name": "stdout",
     "output_type": "stream",
     "text": [
      "[100]\tvalidation_0-rmse:12.89958\tvalidation_1-rmse:15.23269\n",
      "[100]\tvalidation_0-rmse:7.30019\tvalidation_1-rmse:20.33798\n",
      "[160]\tvalidation_0-rmse:16.78603\tvalidation_1-rmse:18.20906\n",
      "[CV] END .learning_rate=0.05, max_depth=10, n_estimators=500; total time=   7.1s\n",
      "[0]\tvalidation_0-rmse:28.64026\tvalidation_1-rmse:31.50576\n",
      "[100]\tvalidation_0-rmse:7.00986\tvalidation_1-rmse:14.95454\n",
      "[100]\tvalidation_0-rmse:13.03895\tvalidation_1-rmse:19.20130\n",
      "[153]\tvalidation_0-rmse:13.23373\tvalidation_1-rmse:19.42245\n",
      "[CV] END learning_rate=0.05, max_depth=10, n_estimators=1000; total time=   6.9s\n",
      "[100]\tvalidation_0-rmse:7.30019\tvalidation_1-rmse:20.33798\n",
      "[0]\tvalidation_0-rmse:28.48287\tvalidation_1-rmse:31.29306\n",
      "[0]\tvalidation_0-rmse:28.81033\tvalidation_1-rmse:31.61076\n",
      "[173]\tvalidation_0-rmse:13.09939\tvalidation_1-rmse:15.33306\n",
      "[CV] END .learning_rate=0.05, max_depth=10, n_estimators=500; total time=   8.4s\n",
      "[100]\tvalidation_0-rmse:16.26389\tvalidation_1-rmse:18.01950\n",
      "[0]\tvalidation_0-rmse:28.43290\tvalidation_1-rmse:31.10894\n",
      "[159]\tvalidation_0-rmse:16.78212\tvalidation_1-rmse:18.20762\n",
      "[CV] END learning_rate=0.05, max_depth=10, n_estimators=1000; total time=   8.0s\n",
      "[100]\tvalidation_0-rmse:12.89958\tvalidation_1-rmse:15.23269\n",
      "[0]\tvalidation_0-rmse:28.42696\tvalidation_1-rmse:30.98109\n",
      "[153]\tvalidation_0-rmse:13.23373\tvalidation_1-rmse:19.42245\n",
      "[CV] END learning_rate=0.05, max_depth=10, n_estimators=5000; total time=   6.8s\n",
      "[0]\tvalidation_0-rmse:28.81033\tvalidation_1-rmse:31.61076\n",
      "[173]\tvalidation_0-rmse:13.09939\tvalidation_1-rmse:15.33306\n",
      "[100]\tvalidation_0-rmse:7.00986\tvalidation_1-rmse:14.95454\n",
      "[CV] END learning_rate=0.05, max_depth=10, n_estimators=1000; total time=   8.8s\n",
      "[0]\tvalidation_0-rmse:28.64026\tvalidation_1-rmse:31.50576\n",
      "[600]\tvalidation_0-rmse:7.11785\tvalidation_1-rmse:15.06182\n",
      "[200]\tvalidation_0-rmse:7.18095\tvalidation_1-rmse:14.96806\n",
      "[160]\tvalidation_0-rmse:16.78603\tvalidation_1-rmse:18.20906\n",
      "[CV] END learning_rate=0.05, max_depth=10, n_estimators=5000; total time=   7.9s\n",
      "[0]\tvalidation_0-rmse:28.48287\tvalidation_1-rmse:31.29306\n",
      "[217]\tvalidation_0-rmse:7.18737\tvalidation_1-rmse:14.97082\n",
      "[100]\tvalidation_0-rmse:7.30019\tvalidation_1-rmse:20.33798\n",
      "[CV] END .learning_rate=0.05, max_depth=10, n_estimators=500; total time=  12.0s\n",
      "[200]\tvalidation_0-rmse:7.49263\tvalidation_1-rmse:20.36153\n",
      "[0]\tvalidation_0-rmse:28.43290\tvalidation_1-rmse:31.10894\n",
      "[200]\tvalidation_0-rmse:7.18095\tvalidation_1-rmse:14.96806\n",
      "[172]\tvalidation_0-rmse:13.09802\tvalidation_1-rmse:15.33295\n",
      "[CV] END learning_rate=0.05, max_depth=10, n_estimators=5000; total time=   8.7s\n",
      "[0]\tvalidation_0-rmse:28.42696\tvalidation_1-rmse:30.98109\n",
      "[200]\tvalidation_0-rmse:7.49263\tvalidation_1-rmse:20.36153\n",
      "[224]\tvalidation_0-rmse:7.50078\tvalidation_1-rmse:20.36415\n",
      "[217]\tvalidation_0-rmse:7.18737\tvalidation_1-rmse:14.97082\n",
      "[CV] END learning_rate=0.05, max_depth=10, n_estimators=1000; total time=  12.0s\n",
      "[CV] END .learning_rate=0.05, max_depth=10, n_estimators=500; total time=  13.2s\n",
      "[0]\tvalidation_0-rmse:28.81033\tvalidation_1-rmse:31.61076\n",
      "[0]\tvalidation_0-rmse:28.64026\tvalidation_1-rmse:31.50576\n",
      "[223]\tvalidation_0-rmse:7.50052\tvalidation_1-rmse:20.36397\n",
      "[99]\tvalidation_0-rmse:16.23568\tvalidation_1-rmse:18.02438\n",
      "[CV] END learning_rate=0.05, max_depth=10, n_estimators=1000; total time=  13.2s\n",
      "[CV] END .learning_rate=0.05, max_depth=14, n_estimators=100; total time=   8.4s\n",
      "[0]\tvalidation_0-rmse:28.48287\tvalidation_1-rmse:31.29306\n",
      "[200]\tvalidation_0-rmse:7.18095\tvalidation_1-rmse:14.96806\n",
      "[0]\tvalidation_0-rmse:28.43290\tvalidation_1-rmse:31.10894\n",
      "[99]\tvalidation_0-rmse:13.04478\tvalidation_1-rmse:19.31425\n",
      "[CV] END .learning_rate=0.05, max_depth=14, n_estimators=100; total time=   8.2s\n",
      "[0]\tvalidation_0-rmse:28.42696\tvalidation_1-rmse:30.98109\n",
      "[218]\tvalidation_0-rmse:7.18769\tvalidation_1-rmse:14.97093\n",
      "[100]\tvalidation_0-rmse:13.04969\tvalidation_1-rmse:19.32110\n",
      "[CV] END learning_rate=0.05, max_depth=10, n_estimators=5000; total time=  12.8s\n",
      "[99]\tvalidation_0-rmse:12.90618\tvalidation_1-rmse:15.22166\n",
      "[0]\tvalidation_0-rmse:28.81033\tvalidation_1-rmse:31.61076\n",
      "[CV] END .learning_rate=0.05, max_depth=14, n_estimators=100; total time=  10.2s\n",
      "[0]\tvalidation_0-rmse:28.64026\tvalidation_1-rmse:31.50576\n",
      "[200]\tvalidation_0-rmse:7.49263\tvalidation_1-rmse:20.36153\n",
      "[100]\tvalidation_0-rmse:16.25346\tvalidation_1-rmse:18.03000\n",
      "[668]\tvalidation_0-rmse:7.15093\tvalidation_1-rmse:15.06975\n",
      "[99]\tvalidation_0-rmse:7.03740\tvalidation_1-rmse:15.01800\n",
      "[223]\tvalidation_0-rmse:7.50052\tvalidation_1-rmse:20.36397\n",
      "[CV] END learning_rate=0.05, max_depth=10, n_estimators=5000; total time=  14.6s\n",
      "[CV] END .learning_rate=0.05, max_depth=14, n_estimators=100; total time=  12.0s\n",
      "[0]\tvalidation_0-rmse:28.48287\tvalidation_1-rmse:31.29306\n",
      "[0]\tvalidation_0-rmse:28.43290\tvalidation_1-rmse:31.10894\n",
      "[154]\tvalidation_0-rmse:13.23450\tvalidation_1-rmse:19.53958\n",
      "[CV] END .learning_rate=0.05, max_depth=14, n_estimators=500; total time=  11.5s\n",
      "[99]\tvalidation_0-rmse:7.31775\tvalidation_1-rmse:21.49120\n",
      "[100]\tvalidation_0-rmse:12.91290\tvalidation_1-rmse:15.22524\n",
      "[100]\tvalidation_0-rmse:13.04969\tvalidation_1-rmse:19.32110\n",
      "[0]\tvalidation_0-rmse:28.42696\tvalidation_1-rmse:30.98109\n",
      "[CV] END .learning_rate=0.05, max_depth=14, n_estimators=100; total time=  12.7s\n",
      "[0]\tvalidation_0-rmse:28.30905\tvalidation_1-rmse:31.33090\n",
      "[100]\tvalidation_0-rmse:16.25346\tvalidation_1-rmse:18.03000\n",
      "[CV] END learning_rate=0.01, max_depth=14, n_estimators=5000; total time= 1.1min\n",
      "[161]\tvalidation_0-rmse:16.78669\tvalidation_1-rmse:18.22622\n",
      "[CV] END .learning_rate=0.05, max_depth=14, n_estimators=500; total time=  13.3s\n",
      "[100]\tvalidation_0-rmse:7.03990\tvalidation_1-rmse:15.01645\n",
      "[0]\tvalidation_0-rmse:28.04535\tvalidation_1-rmse:31.08133\n",
      "[100]\tvalidation_0-rmse:13.04969\tvalidation_1-rmse:19.32110\n",
      "[154]\tvalidation_0-rmse:13.23450\tvalidation_1-rmse:19.53958\n",
      "[100]\tvalidation_0-rmse:7.32044\tvalidation_1-rmse:21.48977\n",
      "[CV] END learning_rate=0.05, max_depth=14, n_estimators=1000; total time=  11.2s\n",
      "[0]\tvalidation_0-rmse:27.87671\tvalidation_1-rmse:30.85219\n",
      "[99]\tvalidation_0-rmse:11.19621\tvalidation_1-rmse:16.35513\n",
      "[0]\tvalidation_0-rmse:27.86925\tvalidation_1-rmse:30.67985\n",
      "[CV] END ...learning_rate=0.1, max_depth=3, n_estimators=100; total time=   3.4s\n",
      "[0]\tvalidation_0-rmse:27.76101\tvalidation_1-rmse:30.53702\n",
      "[100]\tvalidation_0-rmse:12.91290\tvalidation_1-rmse:15.22524\n",
      "[100]\tvalidation_0-rmse:16.25346\tvalidation_1-rmse:18.03000\n",
      "[100]\tvalidation_0-rmse:7.03990\tvalidation_1-rmse:15.01645\n",
      "[99]\tvalidation_0-rmse:12.13662\tvalidation_1-rmse:16.06628\n",
      "[CV] END ...learning_rate=0.1, max_depth=3, n_estimators=100; total time=   3.4s\n",
      "[0]\tvalidation_0-rmse:28.30905\tvalidation_1-rmse:31.33090\n",
      "[161]\tvalidation_0-rmse:16.78669\tvalidation_1-rmse:18.22622\n",
      "[CV] END learning_rate=0.05, max_depth=14, n_estimators=1000; total time=  13.9s\n",
      "[0]\tvalidation_0-rmse:28.04535\tvalidation_1-rmse:31.08133\n",
      "[173]\tvalidation_0-rmse:13.18314\tvalidation_1-rmse:15.34390\n",
      "[154]\tvalidation_0-rmse:13.23450\tvalidation_1-rmse:19.53958\n",
      "[99]\tvalidation_0-rmse:9.44615\tvalidation_1-rmse:14.48561\n",
      "[CV] END ...learning_rate=0.1, max_depth=3, n_estimators=100; total time=   3.6s\n",
      "[CV] END .learning_rate=0.05, max_depth=14, n_estimators=500; total time=  17.2s\n",
      "[CV] END learning_rate=0.05, max_depth=14, n_estimators=5000; total time=  11.4s\n",
      "[0]\tvalidation_0-rmse:27.87671\tvalidation_1-rmse:30.85219\n",
      "[0]\tvalidation_0-rmse:27.86925\tvalidation_1-rmse:30.67985\n",
      "[100]\tvalidation_0-rmse:7.32044\tvalidation_1-rmse:21.48977\n",
      "[0]\tvalidation_0-rmse:27.76101\tvalidation_1-rmse:30.53702\n",
      "[99]\tvalidation_0-rmse:9.08051\tvalidation_1-rmse:14.51814\n",
      "[CV] END ...learning_rate=0.1, max_depth=3, n_estimators=100; total time=   4.0s\n",
      "[99]\tvalidation_0-rmse:8.29399\tvalidation_1-rmse:15.18628\n",
      "[0]\tvalidation_0-rmse:28.30905\tvalidation_1-rmse:31.33090\n",
      "[CV] END ...learning_rate=0.1, max_depth=3, n_estimators=100; total time=   3.8s\n",
      "[0]\tvalidation_0-rmse:28.04535\tvalidation_1-rmse:31.08133\n",
      "[100]\tvalidation_0-rmse:11.18686\tvalidation_1-rmse:16.35441\n",
      "[100]\tvalidation_0-rmse:12.13256\tvalidation_1-rmse:16.06391\n",
      "[160]\tvalidation_0-rmse:16.78285\tvalidation_1-rmse:18.22479\n",
      "[CV] END learning_rate=0.05, max_depth=14, n_estimators=5000; total time=  13.5s\n",
      "[100]\tvalidation_0-rmse:7.03990\tvalidation_1-rmse:15.01645\n",
      "[100]\tvalidation_0-rmse:12.91290\tvalidation_1-rmse:15.22524\n",
      "[0]\tvalidation_0-rmse:27.87671\tvalidation_1-rmse:30.85219\n",
      "[100]\tvalidation_0-rmse:9.07495\tvalidation_1-rmse:14.51950\n",
      "[100]\tvalidation_0-rmse:9.43623\tvalidation_1-rmse:14.48263\n",
      "[100]\tvalidation_0-rmse:11.18686\tvalidation_1-rmse:16.35441\n",
      "[100]\tvalidation_0-rmse:8.28905\tvalidation_1-rmse:15.18107\n",
      "[100]\tvalidation_0-rmse:12.13256\tvalidation_1-rmse:16.06391\n",
      "[173]\tvalidation_0-rmse:13.18314\tvalidation_1-rmse:15.34390\n",
      "[CV] END learning_rate=0.05, max_depth=14, n_estimators=1000; total time=  17.6s\n",
      "[0]\tvalidation_0-rmse:27.86925\tvalidation_1-rmse:30.67985\n",
      "[100]\tvalidation_0-rmse:7.32044\tvalidation_1-rmse:21.48977\n",
      "[200]\tvalidation_0-rmse:7.20274\tvalidation_1-rmse:15.05184\n",
      "[200]\tvalidation_0-rmse:11.19640\tvalidation_1-rmse:16.18321\n",
      "[200]\tvalidation_0-rmse:12.15972\tvalidation_1-rmse:15.87708\n",
      "[214]\tvalidation_0-rmse:7.20862\tvalidation_1-rmse:15.05488\n",
      "[100]\tvalidation_0-rmse:9.43623\tvalidation_1-rmse:14.48263\n",
      "[200]\tvalidation_0-rmse:8.55789\tvalidation_1-rmse:14.77477\n",
      "[CV] END .learning_rate=0.05, max_depth=14, n_estimators=500; total time=  22.8s\n",
      "[200]\tvalidation_0-rmse:9.97075\tvalidation_1-rmse:14.25600\n",
      "[200]\tvalidation_0-rmse:7.48700\tvalidation_1-rmse:21.50154\n",
      "[200]\tvalidation_0-rmse:11.19640\tvalidation_1-rmse:16.18321\n",
      "[217]\tvalidation_0-rmse:8.52068\tvalidation_1-rmse:14.76411\n",
      "[0]\tvalidation_0-rmse:27.76101\tvalidation_1-rmse:30.53702\n",
      "[CV] END ...learning_rate=0.1, max_depth=3, n_estimators=500; total time=   6.7s\n",
      "[0]\tvalidation_0-rmse:28.30905\tvalidation_1-rmse:31.33090\n",
      "[200]\tvalidation_0-rmse:12.15972\tvalidation_1-rmse:15.87708\n",
      "[200]\tvalidation_0-rmse:7.47201\tvalidation_1-rmse:14.78085\n",
      "[200]\tvalidation_0-rmse:7.20274\tvalidation_1-rmse:15.05184\n",
      "[300]\tvalidation_0-rmse:11.26658\tvalidation_1-rmse:16.18624\n",
      "[100]\tvalidation_0-rmse:9.07495\tvalidation_1-rmse:14.51950\n",
      "[218]\tvalidation_0-rmse:7.49409\tvalidation_1-rmse:21.50369\n",
      "[300]\tvalidation_0-rmse:12.14538\tvalidation_1-rmse:15.90197\n",
      "[213]\tvalidation_0-rmse:7.20827\tvalidation_1-rmse:15.05469\n",
      "[321]\tvalidation_0-rmse:11.26280\tvalidation_1-rmse:16.18500\n",
      "[CV] END ...learning_rate=0.1, max_depth=3, n_estimators=500; total time=   9.9s\n",
      "[200]\tvalidation_0-rmse:9.97075\tvalidation_1-rmse:14.25600\n",
      "[CV] END .learning_rate=0.05, max_depth=14, n_estimators=500; total time=  24.2s\n",
      "[0]\tvalidation_0-rmse:28.04535\tvalidation_1-rmse:31.08133\n",
      "[0]\tvalidation_0-rmse:27.87671\tvalidation_1-rmse:30.85219\n",
      "[CV] END learning_rate=0.05, max_depth=14, n_estimators=1000; total time=  22.1s\n",
      "[281]\tvalidation_0-rmse:9.66561\tvalidation_1-rmse:14.26088\n",
      "[CV] END ...learning_rate=0.1, max_depth=3, n_estimators=500; total time=   9.0s\n",
      "[0]\tvalidation_0-rmse:27.86925\tvalidation_1-rmse:30.67985\n",
      "[333]\tvalidation_0-rmse:12.11945\tvalidation_1-rmse:15.89029\n",
      "[0]\tvalidation_0-rmse:27.76101\tvalidation_1-rmse:30.53702\n",
      "[CV] END ...learning_rate=0.1, max_depth=3, n_estimators=500; total time=  10.1s\n",
      "[174]\tvalidation_0-rmse:13.18473\tvalidation_1-rmse:15.34441\n",
      "[0]\tvalidation_0-rmse:28.00154\tvalidation_1-rmse:30.87994\n",
      "[300]\tvalidation_0-rmse:11.26658\tvalidation_1-rmse:16.18624\n",
      "[100]\tvalidation_0-rmse:11.18686\tvalidation_1-rmse:16.35441\n",
      "[CV] END learning_rate=0.05, max_depth=14, n_estimators=5000; total time=  17.9s\n",
      "[200]\tvalidation_0-rmse:7.48700\tvalidation_1-rmse:21.50154\n",
      "[100]\tvalidation_0-rmse:8.28905\tvalidation_1-rmse:15.18107\n",
      "[0]\tvalidation_0-rmse:27.65672\tvalidation_1-rmse:30.63347\n",
      "[300]\tvalidation_0-rmse:12.14538\tvalidation_1-rmse:15.90197\n",
      "[322]\tvalidation_0-rmse:11.26239\tvalidation_1-rmse:16.18477\n",
      "[300]\tvalidation_0-rmse:6.69111\tvalidation_1-rmse:14.75598\n",
      "[CV] END ..learning_rate=0.1, max_depth=3, n_estimators=1000; total time=   9.8s\n",
      "[0]\tvalidation_0-rmse:27.43663\tvalidation_1-rmse:30.25949\n",
      "[200]\tvalidation_0-rmse:8.55789\tvalidation_1-rmse:14.77477\n",
      "[333]\tvalidation_0-rmse:12.11945\tvalidation_1-rmse:15.89029\n",
      "[CV] END ..learning_rate=0.1, max_depth=3, n_estimators=1000; total time=  10.3s\n",
      "[323]\tvalidation_0-rmse:6.38733\tvalidation_1-rmse:14.71887\n",
      "[281]\tvalidation_0-rmse:9.66561\tvalidation_1-rmse:14.26088\n",
      "[CV] END ...learning_rate=0.1, max_depth=3, n_estimators=500; total time=  11.0s\n",
      "[CV] END ..learning_rate=0.1, max_depth=3, n_estimators=1000; total time=   8.3s\n",
      "[219]\tvalidation_0-rmse:7.49439\tvalidation_1-rmse:21.50377\n",
      "[0]\tvalidation_0-rmse:27.42977\tvalidation_1-rmse:30.24337\n",
      "[0]\tvalidation_0-rmse:28.00154\tvalidation_1-rmse:30.87994\n",
      "[0]\tvalidation_0-rmse:27.36128\tvalidation_1-rmse:30.08242\n",
      "[217]\tvalidation_0-rmse:8.52068\tvalidation_1-rmse:14.76411\n",
      "[CV] END ..learning_rate=0.1, max_depth=3, n_estimators=1000; total time=   7.0s\n",
      "[0]\tvalidation_0-rmse:27.65672\tvalidation_1-rmse:30.63347\n",
      "[CV] END learning_rate=0.05, max_depth=14, n_estimators=1000; total time=  24.0s\n",
      "[100]\tvalidation_0-rmse:9.43623\tvalidation_1-rmse:14.48263\n",
      "[100]\tvalidation_0-rmse:12.13256\tvalidation_1-rmse:16.06391\n",
      "[200]\tvalidation_0-rmse:7.20274\tvalidation_1-rmse:15.05184\n",
      "[0]\tvalidation_0-rmse:27.43663\tvalidation_1-rmse:30.25949\n",
      "[100]\tvalidation_0-rmse:9.07495\tvalidation_1-rmse:14.51950\n",
      "[100]\tvalidation_0-rmse:8.28905\tvalidation_1-rmse:15.18107\n",
      "[99]\tvalidation_0-rmse:12.50918\tvalidation_1-rmse:18.22072\n",
      "[200]\tvalidation_0-rmse:11.19640\tvalidation_1-rmse:16.18321\n",
      "[CV] END ...learning_rate=0.1, max_depth=5, n_estimators=100; total time=   3.0s\n",
      "[0]\tvalidation_0-rmse:27.42977\tvalidation_1-rmse:30.24337\n",
      "[200]\tvalidation_0-rmse:7.47201\tvalidation_1-rmse:14.78085\n",
      "[213]\tvalidation_0-rmse:7.20827\tvalidation_1-rmse:15.05469\n",
      "[99]\tvalidation_0-rmse:13.90940\tvalidation_1-rmse:17.92392\n",
      "[CV] END ...learning_rate=0.1, max_depth=5, n_estimators=100; total time=   3.4s\n",
      "[CV] END learning_rate=0.05, max_depth=14, n_estimators=5000; total time=  21.2s\n",
      "[99]\tvalidation_0-rmse:12.12490\tvalidation_1-rmse:13.79568\n",
      "[0]\tvalidation_0-rmse:28.00154\tvalidation_1-rmse:30.87994\n",
      "[CV] END ...learning_rate=0.1, max_depth=5, n_estimators=100; total time=   3.1s\n",
      "[0]\tvalidation_0-rmse:27.36128\tvalidation_1-rmse:30.08242\n",
      "[0]\tvalidation_0-rmse:27.65672\tvalidation_1-rmse:30.63347\n",
      "[200]\tvalidation_0-rmse:7.48700\tvalidation_1-rmse:21.50154\n",
      "[100]\tvalidation_0-rmse:12.50642\tvalidation_1-rmse:18.22396\n",
      "[200]\tvalidation_0-rmse:9.97075\tvalidation_1-rmse:14.25600\n",
      "[99]\tvalidation_0-rmse:5.66381\tvalidation_1-rmse:15.53124\n",
      "[CV] END ...learning_rate=0.1, max_depth=5, n_estimators=100; total time=   3.4s\n",
      "[100]\tvalidation_0-rmse:13.90885\tvalidation_1-rmse:17.92189\n",
      "[99]\tvalidation_0-rmse:5.45849\tvalidation_1-rmse:14.92682[200]\tvalidation_0-rmse:12.15972\tvalidation_1-rmse:15.87708\n",
      "\n",
      "[CV] END ...learning_rate=0.1, max_depth=5, n_estimators=100; total time=   3.6s\n",
      "[200]\tvalidation_0-rmse:8.55789\tvalidation_1-rmse:14.77477\n",
      "[0]\tvalidation_0-rmse:27.43663\tvalidation_1-rmse:30.25949\n",
      "[100]\tvalidation_0-rmse:12.12218\tvalidation_1-rmse:13.78491\n",
      "[0]\tvalidation_0-rmse:27.42977\tvalidation_1-rmse:30.24337\n",
      "[300]\tvalidation_0-rmse:11.26658\tvalidation_1-rmse:16.18624\n",
      "[218]\tvalidation_0-rmse:7.49409\tvalidation_1-rmse:21.50369\n",
      "[218]\tvalidation_0-rmse:8.52016\tvalidation_1-rmse:14.76339\n",
      "[CV] END ..learning_rate=0.1, max_depth=3, n_estimators=5000; total time=   6.3s\n",
      "[200]\tvalidation_0-rmse:7.47201\tvalidation_1-rmse:14.78085\n",
      "[139]\tvalidation_0-rmse:12.46734\tvalidation_1-rmse:18.21501\n",
      "[CV] END ...learning_rate=0.1, max_depth=5, n_estimators=500; total time=   4.4s\n",
      "[0]\tvalidation_0-rmse:27.36128\tvalidation_1-rmse:30.08242\n",
      "[300]\tvalidation_0-rmse:6.69111\tvalidation_1-rmse:14.75598\n",
      "[321]\tvalidation_0-rmse:11.26280\tvalidation_1-rmse:16.18500\n",
      "[CV] END learning_rate=0.05, max_depth=14, n_estimators=5000; total time=  22.9s\n",
      "[135]\tvalidation_0-rmse:13.90408\tvalidation_1-rmse:17.87707\n",
      "[CV] END ..learning_rate=0.1, max_depth=3, n_estimators=5000; total time=   8.8s\n",
      "[CV] END ...learning_rate=0.1, max_depth=5, n_estimators=500; total time=   4.2s\n",
      "[0]\tvalidation_0-rmse:28.00154\tvalidation_1-rmse:30.87994\n",
      "[0]\tvalidation_0-rmse:27.65672\tvalidation_1-rmse:30.63347\n",
      "[0]\tvalidation_0-rmse:27.43663\tvalidation_1-rmse:30.25949\n",
      "[0]\tvalidation_0-rmse:27.42977\tvalidation_1-rmse:30.24337\n",
      "[323]\tvalidation_0-rmse:6.38733\tvalidation_1-rmse:14.71887\n",
      "[CV] END ..learning_rate=0.1, max_depth=3, n_estimators=1000; total time=   9.8s\n",
      "[100]\tvalidation_0-rmse:12.50642\tvalidation_1-rmse:18.22396\n",
      "[100]\tvalidation_0-rmse:5.45605\tvalidation_1-rmse:14.92570\n",
      "[0]\tvalidation_0-rmse:27.36128\tvalidation_1-rmse:30.08242\n",
      "[100]\tvalidation_0-rmse:13.90885\tvalidation_1-rmse:17.92189\n",
      "[100]\tvalidation_0-rmse:5.66168\tvalidation_1-rmse:15.54676\n",
      "[282]\tvalidation_0-rmse:9.66485\tvalidation_1-rmse:14.26003\n",
      "[CV] END ..learning_rate=0.1, max_depth=3, n_estimators=5000; total time=   8.4s\n",
      "[0]\tvalidation_0-rmse:27.72507\tvalidation_1-rmse:30.45695\n",
      "[300]\tvalidation_0-rmse:12.14538\tvalidation_1-rmse:15.90197\n",
      "[139]\tvalidation_0-rmse:12.46734\tvalidation_1-rmse:18.21501\n",
      "[CV] END ..learning_rate=0.1, max_depth=5, n_estimators=1000; total time=   4.2s\n",
      "[135]\tvalidation_0-rmse:13.90408\tvalidation_1-rmse:17.87707\n",
      "[CV] END ..learning_rate=0.1, max_depth=5, n_estimators=1000; total time=   4.2s\n",
      "[0]\tvalidation_0-rmse:27.47216\tvalidation_1-rmse:30.43208\n",
      "[100]\tvalidation_0-rmse:12.12218\tvalidation_1-rmse:13.78491\n",
      "[200]\tvalidation_0-rmse:12.06332\tvalidation_1-rmse:13.87523\n",
      "[0]\tvalidation_0-rmse:27.23796\tvalidation_1-rmse:30.22972\n",
      "[203]\tvalidation_0-rmse:12.06290\tvalidation_1-rmse:13.87568\n",
      "[CV] END ...learning_rate=0.1, max_depth=5, n_estimators=500; total time=   6.3s\n",
      "[0]\tvalidation_0-rmse:27.15809\tvalidation_1-rmse:29.98825\n",
      "[300]\tvalidation_0-rmse:6.69111\tvalidation_1-rmse:14.75598\n",
      "[100]\tvalidation_0-rmse:5.45605\tvalidation_1-rmse:14.92570\n",
      "[333]\tvalidation_0-rmse:12.11945\tvalidation_1-rmse:15.89029\n",
      "[CV] END ..learning_rate=0.1, max_depth=3, n_estimators=5000; total time=   9.8s\n",
      "[100]\tvalidation_0-rmse:5.66168\tvalidation_1-rmse:15.54676\n",
      "[100]\tvalidation_0-rmse:12.50642\tvalidation_1-rmse:18.22396\n",
      "[100]\tvalidation_0-rmse:13.90885\tvalidation_1-rmse:17.92189\n",
      "[100]\tvalidation_0-rmse:12.12218\tvalidation_1-rmse:13.78491\n",
      "[0]\tvalidation_0-rmse:27.17270\tvalidation_1-rmse:29.87448\n",
      "[158]\tvalidation_0-rmse:5.43180\tvalidation_1-rmse:15.67642\n",
      "[CV] END ...learning_rate=0.1, max_depth=5, n_estimators=500; total time=   5.6s\n",
      "[323]\tvalidation_0-rmse:6.38733\tvalidation_1-rmse:14.71887\n",
      "[CV] END ..learning_rate=0.1, max_depth=3, n_estimators=5000; total time=   9.8s\n",
      "[185]\tvalidation_0-rmse:5.36529\tvalidation_1-rmse:15.01081\n",
      "[CV] END ...learning_rate=0.1, max_depth=5, n_estimators=500; total time=   6.6s\n",
      "[100]\tvalidation_0-rmse:5.45605\tvalidation_1-rmse:14.92570\n",
      "[0]\tvalidation_0-rmse:27.72507\tvalidation_1-rmse:30.45695\n",
      "[0]\tvalidation_0-rmse:27.47216\tvalidation_1-rmse:30.43208\n",
      "[0]\tvalidation_0-rmse:27.23796\tvalidation_1-rmse:30.22972\n",
      "[138]\tvalidation_0-rmse:12.46862\tvalidation_1-rmse:18.21584\n",
      "[CV] END ..learning_rate=0.1, max_depth=5, n_estimators=5000; total time=   4.1s\n",
      "[135]\tvalidation_0-rmse:13.90408\tvalidation_1-rmse:17.87707\n",
      "[100]\tvalidation_0-rmse:5.66168\tvalidation_1-rmse:15.54676\n",
      "[CV] END ..learning_rate=0.1, max_depth=5, n_estimators=5000; total time=   4.1s\n",
      "[0]\tvalidation_0-rmse:27.15809\tvalidation_1-rmse:29.98825\n",
      "[0]\tvalidation_0-rmse:27.17270\tvalidation_1-rmse:29.87448\n",
      "[158]\tvalidation_0-rmse:5.43180\tvalidation_1-rmse:15.67642\n",
      "[CV] END ..learning_rate=0.1, max_depth=5, n_estimators=1000; total time=   5.1s\n",
      "[0]\tvalidation_0-rmse:27.72507\tvalidation_1-rmse:30.45695\n",
      "[99]\tvalidation_0-rmse:13.46961\tvalidation_1-rmse:19.61654\n",
      "[CV] END ..learning_rate=0.1, max_depth=10, n_estimators=100; total time=   4.1s\n",
      "[200]\tvalidation_0-rmse:12.06332\tvalidation_1-rmse:13.87523\n",
      "[185]\tvalidation_0-rmse:5.36529\tvalidation_1-rmse:15.01081\n",
      "[CV] END ..learning_rate=0.1, max_depth=5, n_estimators=1000; total time=   6.7s\n",
      "[0]\tvalidation_0-rmse:27.47216\tvalidation_1-rmse:30.43208\n",
      "[204]\tvalidation_0-rmse:12.06406\tvalidation_1-rmse:13.87525\n",
      "[CV] END ..learning_rate=0.1, max_depth=5, n_estimators=1000; total time=   6.9s\n",
      "[0]\tvalidation_0-rmse:27.23796\tvalidation_1-rmse:30.22972\n",
      "[99]\tvalidation_0-rmse:16.81896\tvalidation_1-rmse:18.24330\n",
      "[0]\tvalidation_0-rmse:27.15809\tvalidation_1-rmse:29.98825\n",
      "[CV] END ..learning_rate=0.1, max_depth=10, n_estimators=100; total time=   4.3s\n",
      "[159]\tvalidation_0-rmse:5.42976\tvalidation_1-rmse:15.67615\n",
      "[200]\tvalidation_0-rmse:12.06332\tvalidation_1-rmse:13.87523\n",
      "[184]\tvalidation_0-rmse:5.36568\tvalidation_1-rmse:15.01101\n",
      "[CV] END ..learning_rate=0.1, max_depth=5, n_estimators=5000; total time=   5.6s\n",
      "[CV] END ..learning_rate=0.1, max_depth=5, n_estimators=5000; total time=   6.2s\n",
      "[204]\tvalidation_0-rmse:12.06406\tvalidation_1-rmse:13.87525\n",
      "[CV] END ..learning_rate=0.1, max_depth=5, n_estimators=5000; total time=   6.3s\n",
      "[0]\tvalidation_0-rmse:27.72507\tvalidation_1-rmse:30.45695\n",
      "[0]\tvalidation_0-rmse:27.17270\tvalidation_1-rmse:29.87448\n",
      "[0]\tvalidation_0-rmse:27.47216\tvalidation_1-rmse:30.43208\n",
      "[0]\tvalidation_0-rmse:27.23796\tvalidation_1-rmse:30.22972\n",
      "[99]\tvalidation_0-rmse:13.05441\tvalidation_1-rmse:15.30134\n",
      "[CV] END ..learning_rate=0.1, max_depth=10, n_estimators=100; total time=   4.8s\n",
      "[0]\tvalidation_0-rmse:27.15809\tvalidation_1-rmse:29.98825\n",
      "[99]\tvalidation_0-rmse:7.15619\tvalidation_1-rmse:15.01119\n",
      "[CV] END ..learning_rate=0.1, max_depth=10, n_estimators=100; total time=   5.0s\n",
      "[100]\tvalidation_0-rmse:13.47102\tvalidation_1-rmse:19.61791\n",
      "[0]\tvalidation_0-rmse:27.17270\tvalidation_1-rmse:29.87448\n",
      "[100]\tvalidation_0-rmse:16.82162\tvalidation_1-rmse:18.24430\n",
      "[100]\tvalidation_0-rmse:13.05548\tvalidation_1-rmse:15.30227\n",
      "[99]\tvalidation_0-rmse:7.47705\tvalidation_1-rmse:19.54175\n",
      "[CV] END ..learning_rate=0.1, max_depth=10, n_estimators=100; total time=   5.3s\n",
      "[0]\tvalidation_0-rmse:27.72274\tvalidation_1-rmse:30.45512\n",
      "[124]\tvalidation_0-rmse:13.49023\tvalidation_1-rmse:19.63823\n",
      "[CV] END ..learning_rate=0.1, max_depth=10, n_estimators=500; total time=   5.4s\n",
      "[0]\tvalidation_0-rmse:27.46912\tvalidation_1-rmse:30.43021\n",
      "[100]\tvalidation_0-rmse:13.47102\tvalidation_1-rmse:19.61791\n",
      "[129]\tvalidation_0-rmse:16.86036\tvalidation_1-rmse:18.25759\n",
      "[CV] END ..learning_rate=0.1, max_depth=10, n_estimators=500; total time=   5.7s\n",
      "[0]\tvalidation_0-rmse:27.23001\tvalidation_1-rmse:30.22746\n",
      "[100]\tvalidation_0-rmse:7.15713\tvalidation_1-rmse:15.01133\n",
      "[100]\tvalidation_0-rmse:7.47805\tvalidation_1-rmse:19.54088\n",
      "[136]\tvalidation_0-rmse:13.06799\tvalidation_1-rmse:15.31142\n",
      "[CV] END ..learning_rate=0.1, max_depth=10, n_estimators=500; total time=   6.4s\n",
      "[124]\tvalidation_0-rmse:13.49023\tvalidation_1-rmse:19.63823\n",
      "[CV] END .learning_rate=0.1, max_depth=10, n_estimators=1000; total time=   5.3s\n",
      "[0]\tvalidation_0-rmse:27.15465\tvalidation_1-rmse:29.98566\n",
      "[0]\tvalidation_0-rmse:27.16618\tvalidation_1-rmse:29.87172\n",
      "[100]\tvalidation_0-rmse:13.47102\tvalidation_1-rmse:19.61791\n",
      "[100]\tvalidation_0-rmse:16.82162\tvalidation_1-rmse:18.24430\n",
      "[100]\tvalidation_0-rmse:16.82162\tvalidation_1-rmse:18.24430\n",
      "[100]\tvalidation_0-rmse:7.15713\tvalidation_1-rmse:15.01133\n",
      "[100]\tvalidation_0-rmse:13.05548\tvalidation_1-rmse:15.30227\n",
      "[100]\tvalidation_0-rmse:7.47805\tvalidation_1-rmse:19.54088\n",
      "[125]\tvalidation_0-rmse:13.49058\tvalidation_1-rmse:19.63859\n",
      "[CV] END .learning_rate=0.1, max_depth=10, n_estimators=5000; total time=   5.5s\n",
      "[147]\tvalidation_0-rmse:7.48708\tvalidation_1-rmse:19.54642\n",
      "[0]\tvalidation_0-rmse:27.72274\tvalidation_1-rmse:30.45512\n",
      "[CV] END ..learning_rate=0.1, max_depth=10, n_estimators=500; total time=   7.8s\n",
      "[128]\tvalidation_0-rmse:16.85976\tvalidation_1-rmse:18.25743\n",
      "[100]\tvalidation_0-rmse:13.05548\tvalidation_1-rmse:15.30227\n",
      "[128]\tvalidation_0-rmse:16.85976\tvalidation_1-rmse:18.25743\n",
      "[CV] END .learning_rate=0.1, max_depth=10, n_estimators=5000; total time=   5.9s\n",
      "[CV] END .learning_rate=0.1, max_depth=10, n_estimators=1000; total time=   6.6s\n",
      "[0]\tvalidation_0-rmse:27.46912\tvalidation_1-rmse:30.43021\n",
      "[0]\tvalidation_0-rmse:27.23001\tvalidation_1-rmse:30.22746\n",
      "[100]\tvalidation_0-rmse:7.15713\tvalidation_1-rmse:15.01133\n",
      "[0]\tvalidation_0-rmse:27.15465\tvalidation_1-rmse:29.98566\n",
      "[163]\tvalidation_0-rmse:7.17395\tvalidation_1-rmse:15.02214\n",
      "[136]\tvalidation_0-rmse:13.06799\tvalidation_1-rmse:15.31142\n",
      "[CV] END .learning_rate=0.1, max_depth=10, n_estimators=5000; total time=   6.6s\n",
      "[CV] END ..learning_rate=0.1, max_depth=10, n_estimators=500; total time=   8.9s\n",
      "[100]\tvalidation_0-rmse:7.47805\tvalidation_1-rmse:19.54088\n",
      "[0]\tvalidation_0-rmse:27.72274\tvalidation_1-rmse:30.45512\n",
      "[0]\tvalidation_0-rmse:27.16618\tvalidation_1-rmse:29.87172\n",
      "[135]\tvalidation_0-rmse:13.06803\tvalidation_1-rmse:15.31137\n",
      "[CV] END .learning_rate=0.1, max_depth=10, n_estimators=1000; total time=   8.2s\n",
      "[147]\tvalidation_0-rmse:7.48708\tvalidation_1-rmse:19.54642\n",
      "[CV] END .learning_rate=0.1, max_depth=10, n_estimators=1000; total time=   8.1s\n",
      "[0]\tvalidation_0-rmse:27.46912\tvalidation_1-rmse:30.43021\n",
      "[162]\tvalidation_0-rmse:7.17389\tvalidation_1-rmse:15.02191\n",
      "[CV] END .learning_rate=0.1, max_depth=10, n_estimators=1000; total time=   8.5s\n",
      "[0]\tvalidation_0-rmse:27.23001\tvalidation_1-rmse:30.22746\n",
      "[0]\tvalidation_0-rmse:27.15465\tvalidation_1-rmse:29.98566\n",
      "[99]\tvalidation_0-rmse:13.41042\tvalidation_1-rmse:19.80808\n",
      "[CV] END ..learning_rate=0.1, max_depth=14, n_estimators=100; total time=   6.8s\n",
      "[0]\tvalidation_0-rmse:27.16618\tvalidation_1-rmse:29.87172\n",
      "[148]\tvalidation_0-rmse:7.48703\tvalidation_1-rmse:19.54662\n",
      "[CV] END .learning_rate=0.1, max_depth=10, n_estimators=5000; total time=   8.5s\n",
      "[163]\tvalidation_0-rmse:7.17395\tvalidation_1-rmse:15.02214\n",
      "[0]\tvalidation_0-rmse:27.72274\tvalidation_1-rmse:30.45512\n",
      "[CV] END .learning_rate=0.1, max_depth=10, n_estimators=5000; total time=   9.5s\n",
      "[99]\tvalidation_0-rmse:16.82190\tvalidation_1-rmse:18.27012\n",
      "[CV] END ..learning_rate=0.1, max_depth=14, n_estimators=100; total time=   7.9s\n",
      "[0]\tvalidation_0-rmse:27.46912\tvalidation_1-rmse:30.43021\n",
      "[0]\tvalidation_0-rmse:27.23001\tvalidation_1-rmse:30.22746\n",
      "[99]\tvalidation_0-rmse:13.12771\tvalidation_1-rmse:15.39073\n",
      "[CV] END ..learning_rate=0.1, max_depth=14, n_estimators=100; total time=   9.9s\n",
      "[100]\tvalidation_0-rmse:13.41171\tvalidation_1-rmse:19.80938\n",
      "[0]\tvalidation_0-rmse:27.15465\tvalidation_1-rmse:29.98566\n",
      "[100]\tvalidation_0-rmse:13.41171\tvalidation_1-rmse:19.80938\n",
      "[99]\tvalidation_0-rmse:7.19242\tvalidation_1-rmse:14.89707\n",
      "[125]\tvalidation_0-rmse:13.42960\tvalidation_1-rmse:19.82697\n",
      "[100]\tvalidation_0-rmse:16.82467\tvalidation_1-rmse:18.27123\n",
      "[CV] END ..learning_rate=0.1, max_depth=14, n_estimators=100; total time=  11.3s\n",
      "[CV] END ..learning_rate=0.1, max_depth=14, n_estimators=500; total time=   9.4s\n",
      "[0]\tvalidation_0-rmse:27.16618\tvalidation_1-rmse:29.87172\n",
      "[125]\tvalidation_0-rmse:13.42960\tvalidation_1-rmse:19.82697\n",
      "[99]\tvalidation_0-rmse:7.44085\tvalidation_1-rmse:21.37256\n",
      "[CV] END .learning_rate=0.1, max_depth=14, n_estimators=1000; total time=   9.1s\n",
      "[100]\tvalidation_0-rmse:13.12922\tvalidation_1-rmse:15.39112\n",
      "[CV] END ..learning_rate=0.1, max_depth=14, n_estimators=100; total time=  12.3s\n",
      "[100]\tvalidation_0-rmse:16.82467\tvalidation_1-rmse:18.27123\n",
      "[100]\tvalidation_0-rmse:13.41171\tvalidation_1-rmse:19.80938\n",
      "[129]\tvalidation_0-rmse:16.86518\tvalidation_1-rmse:18.28758\n",
      "[CV] END ..learning_rate=0.1, max_depth=14, n_estimators=500; total time=  11.2s\n",
      "[124]\tvalidation_0-rmse:13.42925\tvalidation_1-rmse:19.82661\n",
      "[CV] END .learning_rate=0.1, max_depth=14, n_estimators=5000; total time=   8.2s\n",
      "[100]\tvalidation_0-rmse:7.19337\tvalidation_1-rmse:14.89755\n",
      "[129]\tvalidation_0-rmse:16.86518\tvalidation_1-rmse:18.28758\n",
      "[CV] END .learning_rate=0.1, max_depth=14, n_estimators=1000; total time=  10.5s\n",
      "[100]\tvalidation_0-rmse:13.12922\tvalidation_1-rmse:15.39112\n",
      "[100]\tvalidation_0-rmse:16.82467\tvalidation_1-rmse:18.27123\n",
      "[134]\tvalidation_0-rmse:13.15325\tvalidation_1-rmse:15.39750\n",
      "[CV] END ..learning_rate=0.1, max_depth=14, n_estimators=500; total time=  13.1s\n",
      "[100]\tvalidation_0-rmse:7.44175\tvalidation_1-rmse:21.37282\n",
      "[100]\tvalidation_0-rmse:13.12922\tvalidation_1-rmse:15.39112\n",
      "[100]\tvalidation_0-rmse:7.19337\tvalidation_1-rmse:14.89755\n",
      "[100]\tvalidation_0-rmse:7.44175\tvalidation_1-rmse:21.37282\n",
      "[133]\tvalidation_0-rmse:13.15298\tvalidation_1-rmse:15.39743\n",
      "[129]\tvalidation_0-rmse:16.86518\tvalidation_1-rmse:18.28758\n",
      "[CV] END .learning_rate=0.1, max_depth=14, n_estimators=1000; total time=  12.3s\n",
      "[CV] END .learning_rate=0.1, max_depth=14, n_estimators=5000; total time=  10.3s\n",
      "[134]\tvalidation_0-rmse:13.15325\tvalidation_1-rmse:15.39750\n",
      "[CV] END .learning_rate=0.1, max_depth=14, n_estimators=5000; total time=  10.8s\n",
      "[155]\tvalidation_0-rmse:7.21049\tvalidation_1-rmse:14.90742\n",
      "[CV] END ..learning_rate=0.1, max_depth=14, n_estimators=500; total time=  15.7s\n",
      "[100]\tvalidation_0-rmse:7.19337\tvalidation_1-rmse:14.89755\n",
      "[153]\tvalidation_0-rmse:7.45779\tvalidation_1-rmse:21.37773\n",
      "[CV] END ..learning_rate=0.1, max_depth=14, n_estimators=500; total time=  15.8s\n",
      "[155]\tvalidation_0-rmse:7.21049\tvalidation_1-rmse:14.90742\n",
      "[153]\tvalidation_0-rmse:7.45779\tvalidation_1-rmse:21.37773\n",
      "[100]\tvalidation_0-rmse:7.44175\tvalidation_1-rmse:21.37282\n",
      "[CV] END .learning_rate=0.1, max_depth=14, n_estimators=1000; total time=  14.0s\n",
      "[CV] END .learning_rate=0.1, max_depth=14, n_estimators=1000; total time=  14.7s\n",
      "[155]\tvalidation_0-rmse:7.21049\tvalidation_1-rmse:14.90742\n",
      "[CV] END .learning_rate=0.1, max_depth=14, n_estimators=5000; total time=  11.6s\n",
      "[154]\tvalidation_0-rmse:7.45783\tvalidation_1-rmse:21.37775\n",
      "[CV] END .learning_rate=0.1, max_depth=14, n_estimators=5000; total time=  10.2s\n",
      "[0]\tvalidation_0-rmse:27.74072\tvalidation_1-rmse:30.41667\n",
      "[99]\tvalidation_0-rmse:7.73285\tvalidation_1-rmse:15.47673\n"
     ]
    }
   ],
   "source": [
    "df = create_date_columns(df)\n",
    "x_train, x_test, y_train, y_test = prepare_train_test_data(df)\n",
    "clf = set_model_training_pipeline()\n",
    "clf = train_model(clf, x_train, y_train, x_test, y_test)"
   ]
  },
  {
   "cell_type": "code",
   "execution_count": 6,
   "metadata": {},
   "outputs": [
    {
     "name": "stdout",
     "output_type": "stream",
     "text": [
      "MAE: 1.55\n",
      "MSE: 238.13\n",
      "RMSE: 15.43\n",
      "R2: 0.76\n"
     ]
    }
   ],
   "source": [
    "mae, mse, rmse, r2 = calculate_error(y_test, predict_with_model(clf, x_test))\n",
    "print(f\"MAE: {mae}\")\n",
    "print(f\"MSE: {mse}\")\n",
    "print(f\"RMSE: {rmse}\")\n",
    "print(f\"R2: {r2}\")"
   ]
  },
  {
   "cell_type": "code",
   "execution_count": 7,
   "metadata": {},
   "outputs": [],
   "source": [
    "X = df[[\"flow_in_(l/s)\", \"reservoir_level_(%)\", \"pressure_(mca)\", \"gmb_1_is_on\", \"gmb_2_is_on\", \"reservoir_level_liters\", \n",
    "        \"time_passed_seconds\", \"liters_entered\", \"year\", \"month\", \"week_of_year\", \"day_of_week\", \"day\", \"hour\", \"second\"]]\n",
    "df[\"flow_out_forecast\"] = clf.predict(X)\n",
    "df.to_parquet(\"../data/curated_data/water_consumption_curated_2.parquet\")"
   ]
  },
  {
   "cell_type": "code",
   "execution_count": 8,
   "metadata": {},
   "outputs": [],
   "source": [
    "with open('../models/xgb_flow_out_forecast_2.pkl', 'wb') as f:\n",
    "    pickle.dump(clf, f)"
   ]
  },
  {
   "cell_type": "code",
   "execution_count": 9,
   "metadata": {},
   "outputs": [
    {
     "data": {
      "application/vnd.plotly.v1+json": {
       "config": {
        "plotlyServerURL": "https://plot.ly"
       },
       "data": [
        {
         "hovertemplate": "variable=Actual<br>Timestamp=%{x}<br>Flow Out (l/s)=%{y}<extra></extra>",
         "legendgroup": "Actual",
         "line": {
          "color": "#636efa",
          "dash": "solid"
         },
         "marker": {
          "symbol": "circle"
         },
         "mode": "lines",
         "name": "Actual",
         "orientation": "v",
         "showlegend": true,
         "type": "scatter",
         "x": [
          "2024-01-15T03:47:42",
          "2024-01-15T03:52:42",
          "2024-01-15T03:55:12",
          "2024-01-15T04:00:12",
          "2024-01-15T04:02:42",
          "2024-01-15T04:05:12",
          "2024-01-15T04:07:42",
          "2024-01-15T04:10:12",
          "2024-01-15T04:12:42",
          "2024-01-15T04:15:12",
          "2024-01-15T04:17:42",
          "2024-01-15T04:20:12",
          "2024-01-15T04:22:42",
          "2024-01-15T04:25:12",
          "2024-01-15T04:27:42",
          "2024-01-15T04:32:42",
          "2024-01-15T04:35:12",
          "2024-01-15T04:37:42",
          "2024-01-15T04:40:12",
          "2024-01-15T04:42:42",
          "2024-01-15T04:45:13",
          "2024-01-15T04:47:42",
          "2024-01-15T04:50:12",
          "2024-01-15T04:52:42",
          "2024-01-15T04:55:12",
          "2024-01-15T04:57:42",
          "2024-01-15T05:02:42",
          "2024-01-15T05:05:12",
          "2024-01-15T05:07:42",
          "2024-01-15T05:10:12",
          "2024-01-15T05:12:42",
          "2024-01-15T05:15:12",
          "2024-01-15T05:17:42",
          "2024-01-15T05:22:42",
          "2024-01-15T05:25:12",
          "2024-01-15T05:27:43",
          "2024-01-15T05:30:12",
          "2024-01-15T05:32:42",
          "2024-01-15T05:35:12",
          "2024-01-15T05:37:42",
          "2024-01-15T05:40:12",
          "2024-01-15T05:42:42",
          "2024-01-15T05:45:12",
          "2024-01-15T05:47:43",
          "2024-01-15T05:50:13",
          "2024-01-15T05:52:42",
          "2024-01-15T05:55:12",
          "2024-01-15T05:57:42",
          "2024-01-15T06:00:12",
          "2024-01-15T06:02:43"
         ],
         "xaxis": "x",
         "y": [
          26.67,
          8,
          26.67,
          12,
          20,
          16,
          0,
          26.67,
          17.33,
          20,
          16,
          0,
          26.67,
          24,
          0,
          23.33,
          26.67,
          0,
          17.33,
          22.67,
          0,
          20.13,
          29.33,
          0,
          20,
          26.67,
          8.67,
          26.67,
          20,
          0,
          0,
          71.81,
          0,
          29.81,
          0,
          2.59,
          73.79,
          0,
          0,
          72.3,
          0,
          69.93,
          0,
          3.43,
          1.63,
          18.61,
          69.93,
          0.15,
          0,
          36.37
         ],
         "yaxis": "y"
        },
        {
         "hovertemplate": "variable=Predicted<br>Timestamp=%{x}<br>Flow Out (l/s)=%{y}<extra></extra>",
         "legendgroup": "Predicted",
         "line": {
          "color": "#EF553B",
          "dash": "solid"
         },
         "marker": {
          "symbol": "circle"
         },
         "mode": "lines",
         "name": "Predicted",
         "orientation": "v",
         "showlegend": true,
         "type": "scatter",
         "x": [
          "2024-01-15T03:47:42",
          "2024-01-15T03:52:42",
          "2024-01-15T03:55:12",
          "2024-01-15T04:00:12",
          "2024-01-15T04:02:42",
          "2024-01-15T04:05:12",
          "2024-01-15T04:07:42",
          "2024-01-15T04:10:12",
          "2024-01-15T04:12:42",
          "2024-01-15T04:15:12",
          "2024-01-15T04:17:42",
          "2024-01-15T04:20:12",
          "2024-01-15T04:22:42",
          "2024-01-15T04:25:12",
          "2024-01-15T04:27:42",
          "2024-01-15T04:32:42",
          "2024-01-15T04:35:12",
          "2024-01-15T04:37:42",
          "2024-01-15T04:40:12",
          "2024-01-15T04:42:42",
          "2024-01-15T04:45:13",
          "2024-01-15T04:47:42",
          "2024-01-15T04:50:12",
          "2024-01-15T04:52:42",
          "2024-01-15T04:55:12",
          "2024-01-15T04:57:42",
          "2024-01-15T05:02:42",
          "2024-01-15T05:05:12",
          "2024-01-15T05:07:42",
          "2024-01-15T05:10:12",
          "2024-01-15T05:12:42",
          "2024-01-15T05:15:12",
          "2024-01-15T05:17:42",
          "2024-01-15T05:22:42",
          "2024-01-15T05:25:12",
          "2024-01-15T05:27:43",
          "2024-01-15T05:30:12",
          "2024-01-15T05:32:42",
          "2024-01-15T05:35:12",
          "2024-01-15T05:37:42",
          "2024-01-15T05:40:12",
          "2024-01-15T05:42:42",
          "2024-01-15T05:45:12",
          "2024-01-15T05:47:43",
          "2024-01-15T05:50:13",
          "2024-01-15T05:52:42",
          "2024-01-15T05:55:12",
          "2024-01-15T05:57:42",
          "2024-01-15T06:00:12",
          "2024-01-15T06:02:43"
         ],
         "xaxis": "x",
         "y": [
          26.514699935913086,
          9.132963180541992,
          26.514699935913086,
          16.23380470275879,
          19.82560157775879,
          16.672861099243164,
          0.6978986859321594,
          26.514699935913086,
          16.672861099243164,
          19.82560157775879,
          16.672861099243164,
          0.6978986859321594,
          26.514699935913086,
          23.77370262145996,
          0.6978986859321594,
          24.352060317993164,
          26.514699935913086,
          0.6978986859321594,
          16.672861099243164,
          22.536203384399414,
          0.6978986859321594,
          19.82560157775879,
          29.04937171936035,
          0.6978986859321594,
          19.82560157775879,
          26.514699935913086,
          9.132963180541992,
          26.514699935913086,
          19.82560157775879,
          0.6978986859321594,
          10.010037422180176,
          71.18865966796875,
          1.691030502319336,
          28.251176834106445,
          1.691030502319336,
          3.1439523696899414,
          72.8475570678711,
          1.691030502319336,
          1.691030502319336,
          71.51811981201172,
          1.691030502319336,
          69.42394256591797,
          1.691030502319336,
          4.435191631317139,
          3.1439523696899414,
          18.789846420288086,
          69.42394256591797,
          3.148622989654541,
          1.691030502319336,
          36.719398498535156
         ],
         "yaxis": "y"
        }
       ],
       "layout": {
        "legend": {
         "title": {
          "text": "variable"
         },
         "tracegroupgap": 0
        },
        "template": {
         "data": {
          "bar": [
           {
            "error_x": {
             "color": "#2a3f5f"
            },
            "error_y": {
             "color": "#2a3f5f"
            },
            "marker": {
             "line": {
              "color": "#E5ECF6",
              "width": 0.5
             },
             "pattern": {
              "fillmode": "overlay",
              "size": 10,
              "solidity": 0.2
             }
            },
            "type": "bar"
           }
          ],
          "barpolar": [
           {
            "marker": {
             "line": {
              "color": "#E5ECF6",
              "width": 0.5
             },
             "pattern": {
              "fillmode": "overlay",
              "size": 10,
              "solidity": 0.2
             }
            },
            "type": "barpolar"
           }
          ],
          "carpet": [
           {
            "aaxis": {
             "endlinecolor": "#2a3f5f",
             "gridcolor": "white",
             "linecolor": "white",
             "minorgridcolor": "white",
             "startlinecolor": "#2a3f5f"
            },
            "baxis": {
             "endlinecolor": "#2a3f5f",
             "gridcolor": "white",
             "linecolor": "white",
             "minorgridcolor": "white",
             "startlinecolor": "#2a3f5f"
            },
            "type": "carpet"
           }
          ],
          "choropleth": [
           {
            "colorbar": {
             "outlinewidth": 0,
             "ticks": ""
            },
            "type": "choropleth"
           }
          ],
          "contour": [
           {
            "colorbar": {
             "outlinewidth": 0,
             "ticks": ""
            },
            "colorscale": [
             [
              0,
              "#0d0887"
             ],
             [
              0.1111111111111111,
              "#46039f"
             ],
             [
              0.2222222222222222,
              "#7201a8"
             ],
             [
              0.3333333333333333,
              "#9c179e"
             ],
             [
              0.4444444444444444,
              "#bd3786"
             ],
             [
              0.5555555555555556,
              "#d8576b"
             ],
             [
              0.6666666666666666,
              "#ed7953"
             ],
             [
              0.7777777777777778,
              "#fb9f3a"
             ],
             [
              0.8888888888888888,
              "#fdca26"
             ],
             [
              1,
              "#f0f921"
             ]
            ],
            "type": "contour"
           }
          ],
          "contourcarpet": [
           {
            "colorbar": {
             "outlinewidth": 0,
             "ticks": ""
            },
            "type": "contourcarpet"
           }
          ],
          "heatmap": [
           {
            "colorbar": {
             "outlinewidth": 0,
             "ticks": ""
            },
            "colorscale": [
             [
              0,
              "#0d0887"
             ],
             [
              0.1111111111111111,
              "#46039f"
             ],
             [
              0.2222222222222222,
              "#7201a8"
             ],
             [
              0.3333333333333333,
              "#9c179e"
             ],
             [
              0.4444444444444444,
              "#bd3786"
             ],
             [
              0.5555555555555556,
              "#d8576b"
             ],
             [
              0.6666666666666666,
              "#ed7953"
             ],
             [
              0.7777777777777778,
              "#fb9f3a"
             ],
             [
              0.8888888888888888,
              "#fdca26"
             ],
             [
              1,
              "#f0f921"
             ]
            ],
            "type": "heatmap"
           }
          ],
          "heatmapgl": [
           {
            "colorbar": {
             "outlinewidth": 0,
             "ticks": ""
            },
            "colorscale": [
             [
              0,
              "#0d0887"
             ],
             [
              0.1111111111111111,
              "#46039f"
             ],
             [
              0.2222222222222222,
              "#7201a8"
             ],
             [
              0.3333333333333333,
              "#9c179e"
             ],
             [
              0.4444444444444444,
              "#bd3786"
             ],
             [
              0.5555555555555556,
              "#d8576b"
             ],
             [
              0.6666666666666666,
              "#ed7953"
             ],
             [
              0.7777777777777778,
              "#fb9f3a"
             ],
             [
              0.8888888888888888,
              "#fdca26"
             ],
             [
              1,
              "#f0f921"
             ]
            ],
            "type": "heatmapgl"
           }
          ],
          "histogram": [
           {
            "marker": {
             "pattern": {
              "fillmode": "overlay",
              "size": 10,
              "solidity": 0.2
             }
            },
            "type": "histogram"
           }
          ],
          "histogram2d": [
           {
            "colorbar": {
             "outlinewidth": 0,
             "ticks": ""
            },
            "colorscale": [
             [
              0,
              "#0d0887"
             ],
             [
              0.1111111111111111,
              "#46039f"
             ],
             [
              0.2222222222222222,
              "#7201a8"
             ],
             [
              0.3333333333333333,
              "#9c179e"
             ],
             [
              0.4444444444444444,
              "#bd3786"
             ],
             [
              0.5555555555555556,
              "#d8576b"
             ],
             [
              0.6666666666666666,
              "#ed7953"
             ],
             [
              0.7777777777777778,
              "#fb9f3a"
             ],
             [
              0.8888888888888888,
              "#fdca26"
             ],
             [
              1,
              "#f0f921"
             ]
            ],
            "type": "histogram2d"
           }
          ],
          "histogram2dcontour": [
           {
            "colorbar": {
             "outlinewidth": 0,
             "ticks": ""
            },
            "colorscale": [
             [
              0,
              "#0d0887"
             ],
             [
              0.1111111111111111,
              "#46039f"
             ],
             [
              0.2222222222222222,
              "#7201a8"
             ],
             [
              0.3333333333333333,
              "#9c179e"
             ],
             [
              0.4444444444444444,
              "#bd3786"
             ],
             [
              0.5555555555555556,
              "#d8576b"
             ],
             [
              0.6666666666666666,
              "#ed7953"
             ],
             [
              0.7777777777777778,
              "#fb9f3a"
             ],
             [
              0.8888888888888888,
              "#fdca26"
             ],
             [
              1,
              "#f0f921"
             ]
            ],
            "type": "histogram2dcontour"
           }
          ],
          "mesh3d": [
           {
            "colorbar": {
             "outlinewidth": 0,
             "ticks": ""
            },
            "type": "mesh3d"
           }
          ],
          "parcoords": [
           {
            "line": {
             "colorbar": {
              "outlinewidth": 0,
              "ticks": ""
             }
            },
            "type": "parcoords"
           }
          ],
          "pie": [
           {
            "automargin": true,
            "type": "pie"
           }
          ],
          "scatter": [
           {
            "fillpattern": {
             "fillmode": "overlay",
             "size": 10,
             "solidity": 0.2
            },
            "type": "scatter"
           }
          ],
          "scatter3d": [
           {
            "line": {
             "colorbar": {
              "outlinewidth": 0,
              "ticks": ""
             }
            },
            "marker": {
             "colorbar": {
              "outlinewidth": 0,
              "ticks": ""
             }
            },
            "type": "scatter3d"
           }
          ],
          "scattercarpet": [
           {
            "marker": {
             "colorbar": {
              "outlinewidth": 0,
              "ticks": ""
             }
            },
            "type": "scattercarpet"
           }
          ],
          "scattergeo": [
           {
            "marker": {
             "colorbar": {
              "outlinewidth": 0,
              "ticks": ""
             }
            },
            "type": "scattergeo"
           }
          ],
          "scattergl": [
           {
            "marker": {
             "colorbar": {
              "outlinewidth": 0,
              "ticks": ""
             }
            },
            "type": "scattergl"
           }
          ],
          "scattermapbox": [
           {
            "marker": {
             "colorbar": {
              "outlinewidth": 0,
              "ticks": ""
             }
            },
            "type": "scattermapbox"
           }
          ],
          "scatterpolar": [
           {
            "marker": {
             "colorbar": {
              "outlinewidth": 0,
              "ticks": ""
             }
            },
            "type": "scatterpolar"
           }
          ],
          "scatterpolargl": [
           {
            "marker": {
             "colorbar": {
              "outlinewidth": 0,
              "ticks": ""
             }
            },
            "type": "scatterpolargl"
           }
          ],
          "scatterternary": [
           {
            "marker": {
             "colorbar": {
              "outlinewidth": 0,
              "ticks": ""
             }
            },
            "type": "scatterternary"
           }
          ],
          "surface": [
           {
            "colorbar": {
             "outlinewidth": 0,
             "ticks": ""
            },
            "colorscale": [
             [
              0,
              "#0d0887"
             ],
             [
              0.1111111111111111,
              "#46039f"
             ],
             [
              0.2222222222222222,
              "#7201a8"
             ],
             [
              0.3333333333333333,
              "#9c179e"
             ],
             [
              0.4444444444444444,
              "#bd3786"
             ],
             [
              0.5555555555555556,
              "#d8576b"
             ],
             [
              0.6666666666666666,
              "#ed7953"
             ],
             [
              0.7777777777777778,
              "#fb9f3a"
             ],
             [
              0.8888888888888888,
              "#fdca26"
             ],
             [
              1,
              "#f0f921"
             ]
            ],
            "type": "surface"
           }
          ],
          "table": [
           {
            "cells": {
             "fill": {
              "color": "#EBF0F8"
             },
             "line": {
              "color": "white"
             }
            },
            "header": {
             "fill": {
              "color": "#C8D4E3"
             },
             "line": {
              "color": "white"
             }
            },
            "type": "table"
           }
          ]
         },
         "layout": {
          "annotationdefaults": {
           "arrowcolor": "#2a3f5f",
           "arrowhead": 0,
           "arrowwidth": 1
          },
          "autotypenumbers": "strict",
          "coloraxis": {
           "colorbar": {
            "outlinewidth": 0,
            "ticks": ""
           }
          },
          "colorscale": {
           "diverging": [
            [
             0,
             "#8e0152"
            ],
            [
             0.1,
             "#c51b7d"
            ],
            [
             0.2,
             "#de77ae"
            ],
            [
             0.3,
             "#f1b6da"
            ],
            [
             0.4,
             "#fde0ef"
            ],
            [
             0.5,
             "#f7f7f7"
            ],
            [
             0.6,
             "#e6f5d0"
            ],
            [
             0.7,
             "#b8e186"
            ],
            [
             0.8,
             "#7fbc41"
            ],
            [
             0.9,
             "#4d9221"
            ],
            [
             1,
             "#276419"
            ]
           ],
           "sequential": [
            [
             0,
             "#0d0887"
            ],
            [
             0.1111111111111111,
             "#46039f"
            ],
            [
             0.2222222222222222,
             "#7201a8"
            ],
            [
             0.3333333333333333,
             "#9c179e"
            ],
            [
             0.4444444444444444,
             "#bd3786"
            ],
            [
             0.5555555555555556,
             "#d8576b"
            ],
            [
             0.6666666666666666,
             "#ed7953"
            ],
            [
             0.7777777777777778,
             "#fb9f3a"
            ],
            [
             0.8888888888888888,
             "#fdca26"
            ],
            [
             1,
             "#f0f921"
            ]
           ],
           "sequentialminus": [
            [
             0,
             "#0d0887"
            ],
            [
             0.1111111111111111,
             "#46039f"
            ],
            [
             0.2222222222222222,
             "#7201a8"
            ],
            [
             0.3333333333333333,
             "#9c179e"
            ],
            [
             0.4444444444444444,
             "#bd3786"
            ],
            [
             0.5555555555555556,
             "#d8576b"
            ],
            [
             0.6666666666666666,
             "#ed7953"
            ],
            [
             0.7777777777777778,
             "#fb9f3a"
            ],
            [
             0.8888888888888888,
             "#fdca26"
            ],
            [
             1,
             "#f0f921"
            ]
           ]
          },
          "colorway": [
           "#636efa",
           "#EF553B",
           "#00cc96",
           "#ab63fa",
           "#FFA15A",
           "#19d3f3",
           "#FF6692",
           "#B6E880",
           "#FF97FF",
           "#FECB52"
          ],
          "font": {
           "color": "#2a3f5f"
          },
          "geo": {
           "bgcolor": "white",
           "lakecolor": "white",
           "landcolor": "#E5ECF6",
           "showlakes": true,
           "showland": true,
           "subunitcolor": "white"
          },
          "hoverlabel": {
           "align": "left"
          },
          "hovermode": "closest",
          "mapbox": {
           "style": "light"
          },
          "paper_bgcolor": "white",
          "plot_bgcolor": "#E5ECF6",
          "polar": {
           "angularaxis": {
            "gridcolor": "white",
            "linecolor": "white",
            "ticks": ""
           },
           "bgcolor": "#E5ECF6",
           "radialaxis": {
            "gridcolor": "white",
            "linecolor": "white",
            "ticks": ""
           }
          },
          "scene": {
           "xaxis": {
            "backgroundcolor": "#E5ECF6",
            "gridcolor": "white",
            "gridwidth": 2,
            "linecolor": "white",
            "showbackground": true,
            "ticks": "",
            "zerolinecolor": "white"
           },
           "yaxis": {
            "backgroundcolor": "#E5ECF6",
            "gridcolor": "white",
            "gridwidth": 2,
            "linecolor": "white",
            "showbackground": true,
            "ticks": "",
            "zerolinecolor": "white"
           },
           "zaxis": {
            "backgroundcolor": "#E5ECF6",
            "gridcolor": "white",
            "gridwidth": 2,
            "linecolor": "white",
            "showbackground": true,
            "ticks": "",
            "zerolinecolor": "white"
           }
          },
          "shapedefaults": {
           "line": {
            "color": "#2a3f5f"
           }
          },
          "ternary": {
           "aaxis": {
            "gridcolor": "white",
            "linecolor": "white",
            "ticks": ""
           },
           "baxis": {
            "gridcolor": "white",
            "linecolor": "white",
            "ticks": ""
           },
           "bgcolor": "#E5ECF6",
           "caxis": {
            "gridcolor": "white",
            "linecolor": "white",
            "ticks": ""
           }
          },
          "title": {
           "x": 0.05
          },
          "xaxis": {
           "automargin": true,
           "gridcolor": "white",
           "linecolor": "white",
           "ticks": "",
           "title": {
            "standoff": 15
           },
           "zerolinecolor": "white",
           "zerolinewidth": 2
          },
          "yaxis": {
           "automargin": true,
           "gridcolor": "white",
           "linecolor": "white",
           "ticks": "",
           "title": {
            "standoff": 15
           },
           "zerolinecolor": "white",
           "zerolinewidth": 2
          }
         }
        },
        "title": {
         "text": "Comparação entre valores reais e previstos (Subset)"
        },
        "xaxis": {
         "anchor": "y",
         "domain": [
          0,
          1
         ],
         "title": {
          "text": "Timestamp"
         }
        },
        "yaxis": {
         "anchor": "x",
         "domain": [
          0,
          1
         ],
         "title": {
          "text": "Flow Out (l/s)"
         }
        }
       }
      }
     },
     "metadata": {},
     "output_type": "display_data"
    }
   ],
   "source": [
    "# Assuming df, y_test, and x_test are already defined\n",
    "results_df = pd.DataFrame({\n",
    "    'timestamp': df['timestamp'].iloc[len(df) - len(y_test):].reset_index(drop=True),\n",
    "    'Actual': y_test.reset_index(drop=True),\n",
    "    'Predicted': pd.Series(clf.predict(x_test))\n",
    "})\n",
    "\n",
    "# Select a subset of rows for plotting\n",
    "subset_size = 50  # Adjust this value to show more or fewer rows\n",
    "results_subset = results_df.iloc[:subset_size]\n",
    "\n",
    "# Plot the subset of results\n",
    "fig = px.line(results_subset, x='timestamp', y=['Actual', 'Predicted'],\n",
    "              labels={'value': 'Flow Out (l/s)', 'timestamp': 'Timestamp'},\n",
    "              title='Comparação entre valores reais e previstos (Subset)')\n",
    "\n",
    "fig.show()"
   ]
  }
 ],
 "metadata": {
  "kernelspec": {
   "display_name": "pcd",
   "language": "python",
   "name": "python3"
  },
  "language_info": {
   "codemirror_mode": {
    "name": "ipython",
    "version": 3
   },
   "file_extension": ".py",
   "mimetype": "text/x-python",
   "name": "python",
   "nbconvert_exporter": "python",
   "pygments_lexer": "ipython3",
   "version": "3.12.3"
  }
 },
 "nbformat": 4,
 "nbformat_minor": 2
}
