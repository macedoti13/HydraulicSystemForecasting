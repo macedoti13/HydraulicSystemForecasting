{
 "cells": [
  {
   "cell_type": "code",
   "execution_count": 1,
   "metadata": {},
   "outputs": [],
   "source": [
    "from sklearn.metrics import mean_absolute_error, mean_squared_error, r2_score\n",
    "from sklearn.model_selection import GridSearchCV, TimeSeriesSplit\n",
    "from xgboost import XGBRegressor\n",
    "import plotly.express as px\n",
    "from pathlib import Path\n",
    "from typing import Tuple\n",
    "import pandas as pd\n",
    "import numpy as np\n",
    "import pickle"
   ]
  },
  {
   "cell_type": "code",
   "execution_count": 2,
   "metadata": {},
   "outputs": [],
   "source": [
    "df_path = Path(\"../data/curated_data/water_consumption_curated_1.parquet\")\n",
    "df = pd.read_parquet(df_path)"
   ]
  },
  {
   "cell_type": "code",
   "execution_count": 3,
   "metadata": {},
   "outputs": [],
   "source": [
    "def create_date_columns(original_df: pd.DataFrame) -> pd.DataFrame:\n",
    "    df = original_df.copy()\n",
    "    \n",
    "    # Extract date-related components from the timestamp\n",
    "    df[\"year\"] = df[\"timestamp\"].dt.year\n",
    "    df[\"month\"] = df[\"timestamp\"].dt.month\n",
    "    df['week_of_year'] = df['timestamp'].dt.isocalendar().week\n",
    "    df['day_of_week'] = df['timestamp'].dt.dayofweek\n",
    "    df[\"day\"] = df[\"timestamp\"].dt.day\n",
    "    df[\"hour\"] = df[\"timestamp\"].dt.hour\n",
    "    df[\"second\"] = df[\"timestamp\"].dt.second\n",
    "\n",
    "    # Drop rows with missing values in 'flow_out_(l/s)'\n",
    "    df = df.dropna(subset=[\"flow_out_(l/s)\"])\n",
    "    \n",
    "    return df\n",
    "\n",
    "def prepare_train_test_data(df: pd.DataFrame, train_size: float = 0.8) -> Tuple[pd.DataFrame, pd.DataFrame, pd.Series, pd.Series]:\n",
    "    # Select features for the model\n",
    "    X = df[[\"flow_in_(l/s)\", \"reservoir_level_(%)\", \"pressure_(mca)\", \"gmb_1_is_on\", \"gmb_2_is_on\", \"reservoir_level_liters\", \n",
    "            \"time_passed_seconds\", \"liters_entered\", \"year\", \"month\", \"week_of_year\", \"day_of_week\", \"day\", \"hour\", \"second\"]]\n",
    "    \n",
    "    # Target variable\n",
    "    y = df[\"flow_out_(l/s)\"]\n",
    "    \n",
    "    # Calculate the number of training samples\n",
    "    train_samples = int(train_size * len(X))\n",
    "    \n",
    "    # Split the data into training and testing sets\n",
    "    x_train, x_test = X[:train_samples], X[train_samples:]\n",
    "    y_train, y_test = y[:train_samples], y[train_samples:]\n",
    "    \n",
    "    return x_train, x_test, y_train, y_test"
   ]
  },
  {
   "cell_type": "code",
   "execution_count": 4,
   "metadata": {},
   "outputs": [],
   "source": [
    "def set_model_training_pipeline() -> GridSearchCV:\n",
    "    # Initialize the XGBoost regressor with specified hyperparameters\n",
    "    model = XGBRegressor(\n",
    "        n_estimators=100000, \n",
    "        learning_rate=0.01, \n",
    "        early_stopping_rounds=100\n",
    "    )\n",
    "    \n",
    "    # Define time series cross-validation strategy\n",
    "    cv = TimeSeriesSplit(n_splits=5)\n",
    "    \n",
    "    # Define parameter grid for hyperparameter tuning\n",
    "    params = {\n",
    "        'n_estimators': [100, 500, 1000],\n",
    "        'max_depth': [3, 5, 10, 14]\n",
    "    }\n",
    "    \n",
    "    # Initialize GridSearchCV with the model, parameter grid, and cross-validation strategy\n",
    "    clf = GridSearchCV(model, params, cv=cv)\n",
    "    \n",
    "    return clf\n",
    "\n",
    "\n",
    "def train_model(clf: GridSearchCV, x_train: pd.DataFrame, y_train: pd.Series, x_test: pd.DataFrame, y_test: pd.Series) -> GridSearchCV:\n",
    "    # Train the model with training and validation data\n",
    "    clf.fit(\n",
    "        x_train, y_train,\n",
    "        eval_set=[(x_train, y_train), (x_test, y_test)],\n",
    "        verbose=100\n",
    "    )\n",
    "    \n",
    "    return clf\n",
    "    \n",
    "    \n",
    "def calculate_error(y_test: pd.Series, y_pred: pd.Series) -> Tuple[float, float, float, float, float]:\n",
    "    # Calculate error metrics\n",
    "    mae = round(mean_absolute_error(y_true=y_test, y_pred=y_pred), 2)\n",
    "    mse = round(mean_squared_error(y_true=y_test, y_pred=y_pred), 2)\n",
    "    rmse = round(np.sqrt(mse), 2)\n",
    "    r2 = round(r2_score(y_true=y_test, y_pred=y_pred), 2)\n",
    "    \n",
    "    return mae, mse, rmse, r2\n",
    "    \n",
    "    \n",
    "def predict_with_model(clf: GridSearchCV, X: pd.DataFrame) -> pd.Series:\n",
    "    # Generate predictions using the trained model\n",
    "    y_pred = clf.predict(X)\n",
    "    \n",
    "    return pd.Series(y_pred)"
   ]
  },
  {
   "cell_type": "code",
   "execution_count": 5,
   "metadata": {},
   "outputs": [
    {
     "name": "stdout",
     "output_type": "stream",
     "text": [
      "[0]\tvalidation_0-rmse:29.74861\tvalidation_1-rmse:32.63787\n",
      "[99]\tvalidation_0-rmse:20.77210\tvalidation_1-rmse:25.57746\n",
      "[0]\tvalidation_0-rmse:29.64828\tvalidation_1-rmse:32.44389\n",
      "[99]\tvalidation_0-rmse:20.28723\tvalidation_1-rmse:24.30253\n",
      "[0]\tvalidation_0-rmse:29.56139\tvalidation_1-rmse:32.22438\n",
      "[99]\tvalidation_0-rmse:18.86711\tvalidation_1-rmse:23.90030\n",
      "[0]\tvalidation_0-rmse:29.52874\tvalidation_1-rmse:32.08896\n",
      "[99]\tvalidation_0-rmse:18.76115\tvalidation_1-rmse:23.19322\n",
      "[0]\tvalidation_0-rmse:29.49724\tvalidation_1-rmse:31.95651\n",
      "[99]\tvalidation_0-rmse:18.58178\tvalidation_1-rmse:23.30179\n",
      "[0]\tvalidation_0-rmse:29.74861\tvalidation_1-rmse:32.63787\n",
      "[100]\tvalidation_0-rmse:20.70854\tvalidation_1-rmse:25.50171\n",
      "[200]\tvalidation_0-rmse:16.66430\tvalidation_1-rmse:21.66117\n",
      "[300]\tvalidation_0-rmse:14.51169\tvalidation_1-rmse:19.80291\n",
      "[400]\tvalidation_0-rmse:13.18010\tvalidation_1-rmse:18.58673\n",
      "[499]\tvalidation_0-rmse:12.22385\tvalidation_1-rmse:17.66103\n",
      "[0]\tvalidation_0-rmse:29.64828\tvalidation_1-rmse:32.44389\n",
      "[100]\tvalidation_0-rmse:20.23485\tvalidation_1-rmse:24.26004\n",
      "[200]\tvalidation_0-rmse:16.69318\tvalidation_1-rmse:21.19977\n",
      "[300]\tvalidation_0-rmse:14.51213\tvalidation_1-rmse:19.08832\n",
      "[400]\tvalidation_0-rmse:13.34730\tvalidation_1-rmse:17.85989\n",
      "[499]\tvalidation_0-rmse:12.79404\tvalidation_1-rmse:17.13748\n",
      "[0]\tvalidation_0-rmse:29.56139\tvalidation_1-rmse:32.22438\n",
      "[100]\tvalidation_0-rmse:18.81728\tvalidation_1-rmse:23.86369\n",
      "[200]\tvalidation_0-rmse:14.39700\tvalidation_1-rmse:20.09171\n",
      "[300]\tvalidation_0-rmse:11.98016\tvalidation_1-rmse:17.89532\n",
      "[400]\tvalidation_0-rmse:10.75010\tvalidation_1-rmse:16.66696\n",
      "[499]\tvalidation_0-rmse:10.14643\tvalidation_1-rmse:15.95809\n",
      "[0]\tvalidation_0-rmse:29.52874\tvalidation_1-rmse:32.08896\n",
      "[100]\tvalidation_0-rmse:18.70700\tvalidation_1-rmse:23.15552\n",
      "[200]\tvalidation_0-rmse:14.46555\tvalidation_1-rmse:18.85577\n",
      "[300]\tvalidation_0-rmse:12.12923\tvalidation_1-rmse:16.90272\n",
      "[400]\tvalidation_0-rmse:10.88840\tvalidation_1-rmse:15.82364\n",
      "[499]\tvalidation_0-rmse:10.27392\tvalidation_1-rmse:15.41611\n",
      "[0]\tvalidation_0-rmse:29.49724\tvalidation_1-rmse:31.95651\n",
      "[100]\tvalidation_0-rmse:18.52927\tvalidation_1-rmse:23.26567\n",
      "[200]\tvalidation_0-rmse:13.96461\tvalidation_1-rmse:19.76734\n",
      "[300]\tvalidation_0-rmse:11.50524\tvalidation_1-rmse:18.00241\n",
      "[400]\tvalidation_0-rmse:10.27058\tvalidation_1-rmse:16.66751\n",
      "[499]\tvalidation_0-rmse:9.58672\tvalidation_1-rmse:15.97903\n",
      "[0]\tvalidation_0-rmse:29.74861\tvalidation_1-rmse:32.63787\n",
      "[100]\tvalidation_0-rmse:20.70854\tvalidation_1-rmse:25.50171\n",
      "[200]\tvalidation_0-rmse:16.66430\tvalidation_1-rmse:21.66117\n",
      "[300]\tvalidation_0-rmse:14.51169\tvalidation_1-rmse:19.80291\n",
      "[400]\tvalidation_0-rmse:13.18010\tvalidation_1-rmse:18.58673\n",
      "[500]\tvalidation_0-rmse:12.21987\tvalidation_1-rmse:17.66130\n",
      "[600]\tvalidation_0-rmse:11.58060\tvalidation_1-rmse:17.01249\n",
      "[700]\tvalidation_0-rmse:11.28411\tvalidation_1-rmse:16.70333\n",
      "[800]\tvalidation_0-rmse:11.12618\tvalidation_1-rmse:16.55413\n",
      "[900]\tvalidation_0-rmse:11.05599\tvalidation_1-rmse:16.46658\n",
      "[999]\tvalidation_0-rmse:10.97383\tvalidation_1-rmse:16.38789\n",
      "[0]\tvalidation_0-rmse:29.64828\tvalidation_1-rmse:32.44389\n",
      "[100]\tvalidation_0-rmse:20.23485\tvalidation_1-rmse:24.26004\n",
      "[200]\tvalidation_0-rmse:16.69318\tvalidation_1-rmse:21.19977\n",
      "[300]\tvalidation_0-rmse:14.51213\tvalidation_1-rmse:19.08832\n",
      "[400]\tvalidation_0-rmse:13.34730\tvalidation_1-rmse:17.85989\n",
      "[500]\tvalidation_0-rmse:12.79298\tvalidation_1-rmse:17.13375\n",
      "[600]\tvalidation_0-rmse:12.50356\tvalidation_1-rmse:16.73325\n",
      "[700]\tvalidation_0-rmse:12.30956\tvalidation_1-rmse:16.45903\n",
      "[800]\tvalidation_0-rmse:12.21625\tvalidation_1-rmse:16.30730\n",
      "[900]\tvalidation_0-rmse:12.14411\tvalidation_1-rmse:16.14879\n",
      "[999]\tvalidation_0-rmse:12.11201\tvalidation_1-rmse:16.07073\n",
      "[0]\tvalidation_0-rmse:29.56139\tvalidation_1-rmse:32.22438\n",
      "[100]\tvalidation_0-rmse:18.81728\tvalidation_1-rmse:23.86369\n",
      "[200]\tvalidation_0-rmse:14.39700\tvalidation_1-rmse:20.09171\n",
      "[300]\tvalidation_0-rmse:11.98016\tvalidation_1-rmse:17.89532\n",
      "[400]\tvalidation_0-rmse:10.75010\tvalidation_1-rmse:16.66696\n",
      "[500]\tvalidation_0-rmse:10.13825\tvalidation_1-rmse:15.95022\n",
      "[600]\tvalidation_0-rmse:9.72259\tvalidation_1-rmse:15.40730\n",
      "[700]\tvalidation_0-rmse:9.50033\tvalidation_1-rmse:15.13117\n",
      "[800]\tvalidation_0-rmse:9.48785\tvalidation_1-rmse:15.01107\n",
      "[900]\tvalidation_0-rmse:9.52206\tvalidation_1-rmse:14.93107\n",
      "[999]\tvalidation_0-rmse:9.61152\tvalidation_1-rmse:14.90496\n",
      "[0]\tvalidation_0-rmse:29.52874\tvalidation_1-rmse:32.08896\n",
      "[100]\tvalidation_0-rmse:18.70700\tvalidation_1-rmse:23.15552\n",
      "[200]\tvalidation_0-rmse:14.46555\tvalidation_1-rmse:18.85577\n",
      "[300]\tvalidation_0-rmse:12.12923\tvalidation_1-rmse:16.90272\n",
      "[400]\tvalidation_0-rmse:10.88840\tvalidation_1-rmse:15.82364\n",
      "[500]\tvalidation_0-rmse:10.27211\tvalidation_1-rmse:15.41463\n",
      "[600]\tvalidation_0-rmse:9.88025\tvalidation_1-rmse:15.03195\n",
      "[700]\tvalidation_0-rmse:9.59558\tvalidation_1-rmse:14.81853\n",
      "[800]\tvalidation_0-rmse:9.40114\tvalidation_1-rmse:14.68299\n",
      "[900]\tvalidation_0-rmse:9.26686\tvalidation_1-rmse:14.59910\n",
      "[999]\tvalidation_0-rmse:9.14681\tvalidation_1-rmse:14.57014\n",
      "[0]\tvalidation_0-rmse:29.49724\tvalidation_1-rmse:31.95651\n",
      "[100]\tvalidation_0-rmse:18.52927\tvalidation_1-rmse:23.26567\n",
      "[200]\tvalidation_0-rmse:13.96461\tvalidation_1-rmse:19.76734\n",
      "[300]\tvalidation_0-rmse:11.50524\tvalidation_1-rmse:18.00241\n",
      "[400]\tvalidation_0-rmse:10.27058\tvalidation_1-rmse:16.66751\n",
      "[500]\tvalidation_0-rmse:9.58492\tvalidation_1-rmse:15.97722\n",
      "[600]\tvalidation_0-rmse:9.18186\tvalidation_1-rmse:15.56846\n",
      "[700]\tvalidation_0-rmse:8.86731\tvalidation_1-rmse:15.41692\n",
      "[800]\tvalidation_0-rmse:8.63986\tvalidation_1-rmse:15.31358\n",
      "[900]\tvalidation_0-rmse:8.50204\tvalidation_1-rmse:15.24323\n",
      "[999]\tvalidation_0-rmse:8.40770\tvalidation_1-rmse:15.15760\n",
      "[0]\tvalidation_0-rmse:29.71820\tvalidation_1-rmse:32.59365\n",
      "[99]\tvalidation_0-rmse:18.66679\tvalidation_1-rmse:22.80482\n",
      "[0]\tvalidation_0-rmse:29.60915\tvalidation_1-rmse:32.40019\n",
      "[99]\tvalidation_0-rmse:17.77536\tvalidation_1-rmse:21.46023\n",
      "[0]\tvalidation_0-rmse:29.51697\tvalidation_1-rmse:32.16582\n",
      "[99]\tvalidation_0-rmse:16.25783\tvalidation_1-rmse:20.29783\n",
      "[0]\tvalidation_0-rmse:29.48593\tvalidation_1-rmse:32.04640\n",
      "[99]\tvalidation_0-rmse:15.32329\tvalidation_1-rmse:20.57840\n",
      "[0]\tvalidation_0-rmse:29.45831\tvalidation_1-rmse:31.91148\n",
      "[99]\tvalidation_0-rmse:15.24555\tvalidation_1-rmse:20.55380\n",
      "[0]\tvalidation_0-rmse:29.71820\tvalidation_1-rmse:32.59365\n",
      "[100]\tvalidation_0-rmse:18.61248\tvalidation_1-rmse:22.77134\n",
      "[200]\tvalidation_0-rmse:14.70009\tvalidation_1-rmse:19.70157\n",
      "[300]\tvalidation_0-rmse:13.25593\tvalidation_1-rmse:18.44846\n",
      "[400]\tvalidation_0-rmse:12.92663\tvalidation_1-rmse:18.28076\n",
      "[499]\tvalidation_0-rmse:12.81774\tvalidation_1-rmse:18.27344\n",
      "[0]\tvalidation_0-rmse:29.60915\tvalidation_1-rmse:32.40019\n",
      "[100]\tvalidation_0-rmse:17.72087\tvalidation_1-rmse:21.40702\n",
      "[200]\tvalidation_0-rmse:14.36325\tvalidation_1-rmse:18.28876\n",
      "[300]\tvalidation_0-rmse:13.71914\tvalidation_1-rmse:18.03247\n",
      "[400]\tvalidation_0-rmse:13.45257\tvalidation_1-rmse:17.73720\n",
      "[499]\tvalidation_0-rmse:13.44661\tvalidation_1-rmse:17.74651\n",
      "[0]\tvalidation_0-rmse:29.51697\tvalidation_1-rmse:32.16582\n",
      "[100]\tvalidation_0-rmse:16.19090\tvalidation_1-rmse:20.24239\n",
      "[200]\tvalidation_0-rmse:12.52440\tvalidation_1-rmse:16.89533\n",
      "[300]\tvalidation_0-rmse:11.13131\tvalidation_1-rmse:14.56387\n",
      "[400]\tvalidation_0-rmse:11.00644\tvalidation_1-rmse:13.88404\n",
      "[499]\tvalidation_0-rmse:11.23629\tvalidation_1-rmse:13.70593\n",
      "[0]\tvalidation_0-rmse:29.48593\tvalidation_1-rmse:32.04640\n",
      "[100]\tvalidation_0-rmse:15.24638\tvalidation_1-rmse:20.52847\n",
      "[200]\tvalidation_0-rmse:10.08192\tvalidation_1-rmse:17.43766\n",
      "[300]\tvalidation_0-rmse:7.72536\tvalidation_1-rmse:15.43770\n",
      "[400]\tvalidation_0-rmse:6.91967\tvalidation_1-rmse:15.13682\n",
      "[499]\tvalidation_0-rmse:6.64257\tvalidation_1-rmse:15.03915\n",
      "[0]\tvalidation_0-rmse:29.45831\tvalidation_1-rmse:31.91148\n",
      "[100]\tvalidation_0-rmse:15.17002\tvalidation_1-rmse:20.50357\n",
      "[200]\tvalidation_0-rmse:10.27566\tvalidation_1-rmse:17.71626\n",
      "[300]\tvalidation_0-rmse:8.19278\tvalidation_1-rmse:16.28207\n",
      "[400]\tvalidation_0-rmse:7.16942\tvalidation_1-rmse:15.64171\n",
      "[499]\tvalidation_0-rmse:6.74326\tvalidation_1-rmse:15.37889\n",
      "[0]\tvalidation_0-rmse:29.71820\tvalidation_1-rmse:32.59365\n",
      "[100]\tvalidation_0-rmse:18.61248\tvalidation_1-rmse:22.77134\n",
      "[200]\tvalidation_0-rmse:14.70009\tvalidation_1-rmse:19.70157\n",
      "[300]\tvalidation_0-rmse:13.25593\tvalidation_1-rmse:18.44846\n",
      "[400]\tvalidation_0-rmse:12.92663\tvalidation_1-rmse:18.28076\n",
      "[500]\tvalidation_0-rmse:12.81652\tvalidation_1-rmse:18.27312\n",
      "[548]\tvalidation_0-rmse:12.80934\tvalidation_1-rmse:18.29653\n",
      "[0]\tvalidation_0-rmse:29.60915\tvalidation_1-rmse:32.40019\n",
      "[100]\tvalidation_0-rmse:17.72087\tvalidation_1-rmse:21.40702\n",
      "[200]\tvalidation_0-rmse:14.36325\tvalidation_1-rmse:18.28876\n",
      "[300]\tvalidation_0-rmse:13.71914\tvalidation_1-rmse:18.03247\n",
      "[400]\tvalidation_0-rmse:13.45257\tvalidation_1-rmse:17.73720\n",
      "[500]\tvalidation_0-rmse:13.44515\tvalidation_1-rmse:17.74448\n",
      "[504]\tvalidation_0-rmse:13.44634\tvalidation_1-rmse:17.74698\n",
      "[0]\tvalidation_0-rmse:29.51697\tvalidation_1-rmse:32.16582\n",
      "[100]\tvalidation_0-rmse:16.19090\tvalidation_1-rmse:20.24239\n",
      "[200]\tvalidation_0-rmse:12.52440\tvalidation_1-rmse:16.89533\n",
      "[300]\tvalidation_0-rmse:11.13131\tvalidation_1-rmse:14.56387\n",
      "[400]\tvalidation_0-rmse:11.00644\tvalidation_1-rmse:13.88404\n",
      "[500]\tvalidation_0-rmse:11.24147\tvalidation_1-rmse:13.70516\n",
      "[600]\tvalidation_0-rmse:11.35624\tvalidation_1-rmse:13.61141\n",
      "[700]\tvalidation_0-rmse:11.34884\tvalidation_1-rmse:13.54554\n",
      "[800]\tvalidation_0-rmse:11.32775\tvalidation_1-rmse:13.51211\n",
      "[900]\tvalidation_0-rmse:11.29686\tvalidation_1-rmse:13.48441\n",
      "[999]\tvalidation_0-rmse:11.29306\tvalidation_1-rmse:13.44653\n",
      "[0]\tvalidation_0-rmse:29.48593\tvalidation_1-rmse:32.04640\n",
      "[100]\tvalidation_0-rmse:15.24638\tvalidation_1-rmse:20.52847\n",
      "[200]\tvalidation_0-rmse:10.08192\tvalidation_1-rmse:17.43766\n",
      "[300]\tvalidation_0-rmse:7.72536\tvalidation_1-rmse:15.43770\n",
      "[400]\tvalidation_0-rmse:6.91967\tvalidation_1-rmse:15.13682\n",
      "[500]\tvalidation_0-rmse:6.64150\tvalidation_1-rmse:15.03888\n",
      "[600]\tvalidation_0-rmse:6.41389\tvalidation_1-rmse:15.01904\n",
      "[700]\tvalidation_0-rmse:6.23359\tvalidation_1-rmse:15.05441\n",
      "[708]\tvalidation_0-rmse:6.23012\tvalidation_1-rmse:15.05801\n",
      "[0]\tvalidation_0-rmse:29.45831\tvalidation_1-rmse:31.91148\n",
      "[100]\tvalidation_0-rmse:15.17002\tvalidation_1-rmse:20.50357\n",
      "[200]\tvalidation_0-rmse:10.27566\tvalidation_1-rmse:17.71626\n",
      "[300]\tvalidation_0-rmse:8.19278\tvalidation_1-rmse:16.28207\n",
      "[400]\tvalidation_0-rmse:7.16942\tvalidation_1-rmse:15.64171\n",
      "[500]\tvalidation_0-rmse:6.73800\tvalidation_1-rmse:15.37843\n",
      "[600]\tvalidation_0-rmse:6.41407\tvalidation_1-rmse:15.36099\n",
      "[674]\tvalidation_0-rmse:6.20005\tvalidation_1-rmse:15.36588\n",
      "[0]\tvalidation_0-rmse:29.69074\tvalidation_1-rmse:32.55148\n",
      "[99]\tvalidation_0-rmse:17.50940\tvalidation_1-rmse:21.55855\n",
      "[0]\tvalidation_0-rmse:29.59077\tvalidation_1-rmse:32.37944\n",
      "[99]\tvalidation_0-rmse:17.14120\tvalidation_1-rmse:20.60466\n",
      "[0]\tvalidation_0-rmse:29.49737\tvalidation_1-rmse:32.16166\n",
      "[99]\tvalidation_0-rmse:15.30253\tvalidation_1-rmse:19.13428\n",
      "[0]\tvalidation_0-rmse:29.45964\tvalidation_1-rmse:32.02089\n",
      "[99]\tvalidation_0-rmse:13.98689\tvalidation_1-rmse:19.64558\n",
      "[0]\tvalidation_0-rmse:29.44014\tvalidation_1-rmse:31.89014\n",
      "[99]\tvalidation_0-rmse:13.83900\tvalidation_1-rmse:21.51678\n",
      "[0]\tvalidation_0-rmse:29.69074\tvalidation_1-rmse:32.55148\n",
      "[100]\tvalidation_0-rmse:17.45099\tvalidation_1-rmse:21.52907\n",
      "[200]\tvalidation_0-rmse:13.75824\tvalidation_1-rmse:19.18763\n",
      "[300]\tvalidation_0-rmse:12.99955\tvalidation_1-rmse:19.01078\n",
      "[373]\tvalidation_0-rmse:12.94330\tvalidation_1-rmse:19.12275\n",
      "[0]\tvalidation_0-rmse:29.59077\tvalidation_1-rmse:32.37944\n",
      "[100]\tvalidation_0-rmse:17.10073\tvalidation_1-rmse:20.55413\n",
      "[200]\tvalidation_0-rmse:14.99098\tvalidation_1-rmse:18.18091\n",
      "[300]\tvalidation_0-rmse:15.08053\tvalidation_1-rmse:17.82471\n",
      "[400]\tvalidation_0-rmse:15.59665\tvalidation_1-rmse:17.88513\n",
      "[411]\tvalidation_0-rmse:15.64979\tvalidation_1-rmse:17.89697\n",
      "[0]\tvalidation_0-rmse:29.49737\tvalidation_1-rmse:32.16166\n",
      "[100]\tvalidation_0-rmse:15.24539\tvalidation_1-rmse:19.06944\n",
      "[200]\tvalidation_0-rmse:13.18306\tvalidation_1-rmse:16.44081\n",
      "[300]\tvalidation_0-rmse:12.67095\tvalidation_1-rmse:15.15954\n",
      "[400]\tvalidation_0-rmse:12.78099\tvalidation_1-rmse:14.90533\n",
      "[487]\tvalidation_0-rmse:12.90502\tvalidation_1-rmse:14.98241\n",
      "[0]\tvalidation_0-rmse:29.45964\tvalidation_1-rmse:32.02089\n",
      "[100]\tvalidation_0-rmse:13.90163\tvalidation_1-rmse:19.59695\n",
      "[200]\tvalidation_0-rmse:8.66105\tvalidation_1-rmse:16.62735\n",
      "[300]\tvalidation_0-rmse:7.18542\tvalidation_1-rmse:15.50031\n",
      "[400]\tvalidation_0-rmse:6.99234\tvalidation_1-rmse:15.14586\n",
      "[499]\tvalidation_0-rmse:7.01593\tvalidation_1-rmse:15.04943\n",
      "[0]\tvalidation_0-rmse:29.44014\tvalidation_1-rmse:31.89014\n",
      "[100]\tvalidation_0-rmse:13.75032\tvalidation_1-rmse:21.49562\n",
      "[200]\tvalidation_0-rmse:8.64723\tvalidation_1-rmse:20.96392\n",
      "[300]\tvalidation_0-rmse:7.43523\tvalidation_1-rmse:20.62020\n",
      "[400]\tvalidation_0-rmse:7.27079\tvalidation_1-rmse:20.33470\n",
      "[499]\tvalidation_0-rmse:7.31297\tvalidation_1-rmse:20.25948\n",
      "[0]\tvalidation_0-rmse:29.69074\tvalidation_1-rmse:32.55148\n",
      "[100]\tvalidation_0-rmse:17.45099\tvalidation_1-rmse:21.52907\n",
      "[200]\tvalidation_0-rmse:13.75824\tvalidation_1-rmse:19.18763\n",
      "[300]\tvalidation_0-rmse:12.99955\tvalidation_1-rmse:19.01078\n",
      "[374]\tvalidation_0-rmse:12.94360\tvalidation_1-rmse:19.12454\n",
      "[0]\tvalidation_0-rmse:29.59077\tvalidation_1-rmse:32.37944\n",
      "[100]\tvalidation_0-rmse:17.10073\tvalidation_1-rmse:20.55413\n",
      "[200]\tvalidation_0-rmse:14.99098\tvalidation_1-rmse:18.18091\n",
      "[300]\tvalidation_0-rmse:15.08053\tvalidation_1-rmse:17.82471\n",
      "[400]\tvalidation_0-rmse:15.59665\tvalidation_1-rmse:17.88513\n",
      "[411]\tvalidation_0-rmse:15.64979\tvalidation_1-rmse:17.89697\n",
      "[0]\tvalidation_0-rmse:29.49737\tvalidation_1-rmse:32.16166\n",
      "[100]\tvalidation_0-rmse:15.24539\tvalidation_1-rmse:19.06944\n",
      "[200]\tvalidation_0-rmse:13.18306\tvalidation_1-rmse:16.44081\n",
      "[300]\tvalidation_0-rmse:12.67095\tvalidation_1-rmse:15.15954\n",
      "[400]\tvalidation_0-rmse:12.78099\tvalidation_1-rmse:14.90533\n",
      "[487]\tvalidation_0-rmse:12.90502\tvalidation_1-rmse:14.98241\n",
      "[0]\tvalidation_0-rmse:29.45964\tvalidation_1-rmse:32.02089\n",
      "[100]\tvalidation_0-rmse:13.90163\tvalidation_1-rmse:19.59695\n",
      "[200]\tvalidation_0-rmse:8.66105\tvalidation_1-rmse:16.62735\n",
      "[300]\tvalidation_0-rmse:7.18542\tvalidation_1-rmse:15.50031\n",
      "[400]\tvalidation_0-rmse:6.99234\tvalidation_1-rmse:15.14586\n",
      "[500]\tvalidation_0-rmse:7.01636\tvalidation_1-rmse:15.04903\n",
      "[600]\tvalidation_0-rmse:7.06868\tvalidation_1-rmse:15.03530\n",
      "[683]\tvalidation_0-rmse:7.10887\tvalidation_1-rmse:15.04348\n",
      "[0]\tvalidation_0-rmse:29.44014\tvalidation_1-rmse:31.89014\n",
      "[100]\tvalidation_0-rmse:13.75032\tvalidation_1-rmse:21.49562\n",
      "[200]\tvalidation_0-rmse:8.64723\tvalidation_1-rmse:20.96392\n",
      "[300]\tvalidation_0-rmse:7.43523\tvalidation_1-rmse:20.62020\n",
      "[400]\tvalidation_0-rmse:7.27079\tvalidation_1-rmse:20.33470\n",
      "[500]\tvalidation_0-rmse:7.31363\tvalidation_1-rmse:20.25916\n",
      "[600]\tvalidation_0-rmse:7.38433\tvalidation_1-rmse:20.25539\n",
      "[665]\tvalidation_0-rmse:7.42629\tvalidation_1-rmse:20.26647\n",
      "[0]\tvalidation_0-rmse:29.69052\tvalidation_1-rmse:32.55131\n",
      "[99]\tvalidation_0-rmse:17.52980\tvalidation_1-rmse:21.53392\n",
      "[0]\tvalidation_0-rmse:29.59048\tvalidation_1-rmse:32.37925\n",
      "[99]\tvalidation_0-rmse:17.13023\tvalidation_1-rmse:20.59464\n",
      "[0]\tvalidation_0-rmse:29.49662\tvalidation_1-rmse:32.16144\n",
      "[99]\tvalidation_0-rmse:15.26936\tvalidation_1-rmse:19.08245\n",
      "[0]\tvalidation_0-rmse:29.45931\tvalidation_1-rmse:32.02063\n",
      "[99]\tvalidation_0-rmse:13.97152\tvalidation_1-rmse:19.62587\n",
      "[0]\tvalidation_0-rmse:29.43953\tvalidation_1-rmse:31.88982\n",
      "[99]\tvalidation_0-rmse:13.79893\tvalidation_1-rmse:21.85782\n",
      "[0]\tvalidation_0-rmse:29.69052\tvalidation_1-rmse:32.55131\n",
      "[100]\tvalidation_0-rmse:17.47160\tvalidation_1-rmse:21.50365\n",
      "[200]\tvalidation_0-rmse:13.80401\tvalidation_1-rmse:19.25807\n",
      "[300]\tvalidation_0-rmse:13.03878\tvalidation_1-rmse:19.07087\n",
      "[382]\tvalidation_0-rmse:12.98112\tvalidation_1-rmse:19.18038\n",
      "[0]\tvalidation_0-rmse:29.59048\tvalidation_1-rmse:32.37925\n",
      "[100]\tvalidation_0-rmse:17.08995\tvalidation_1-rmse:20.54452\n",
      "[200]\tvalidation_0-rmse:14.97947\tvalidation_1-rmse:18.18812\n",
      "[300]\tvalidation_0-rmse:15.08264\tvalidation_1-rmse:17.84084\n",
      "[400]\tvalidation_0-rmse:15.60623\tvalidation_1-rmse:17.90319\n",
      "[410]\tvalidation_0-rmse:15.65483\tvalidation_1-rmse:17.91428\n",
      "[0]\tvalidation_0-rmse:29.49662\tvalidation_1-rmse:32.16144\n",
      "[100]\tvalidation_0-rmse:15.21240\tvalidation_1-rmse:19.01800\n",
      "[200]\tvalidation_0-rmse:13.10633\tvalidation_1-rmse:16.38574\n",
      "[300]\tvalidation_0-rmse:12.60174\tvalidation_1-rmse:15.17679\n",
      "[400]\tvalidation_0-rmse:12.71497\tvalidation_1-rmse:14.91468\n",
      "[490]\tvalidation_0-rmse:12.84386\tvalidation_1-rmse:14.99513\n",
      "[0]\tvalidation_0-rmse:29.45931\tvalidation_1-rmse:32.02063\n",
      "[100]\tvalidation_0-rmse:13.88654\tvalidation_1-rmse:19.57680\n",
      "[200]\tvalidation_0-rmse:8.69139\tvalidation_1-rmse:16.64548\n",
      "[300]\tvalidation_0-rmse:7.21249\tvalidation_1-rmse:15.49745\n",
      "[400]\tvalidation_0-rmse:7.04520\tvalidation_1-rmse:15.15544\n",
      "[499]\tvalidation_0-rmse:7.06455\tvalidation_1-rmse:15.06929\n",
      "[0]\tvalidation_0-rmse:29.43953\tvalidation_1-rmse:31.88982\n",
      "[100]\tvalidation_0-rmse:13.71199\tvalidation_1-rmse:21.84787\n",
      "[200]\tvalidation_0-rmse:8.70179\tvalidation_1-rmse:22.27300\n",
      "[209]\tvalidation_0-rmse:8.50250\tvalidation_1-rmse:22.25946\n",
      "[0]\tvalidation_0-rmse:29.69052\tvalidation_1-rmse:32.55131\n",
      "[100]\tvalidation_0-rmse:17.47160\tvalidation_1-rmse:21.50365\n",
      "[200]\tvalidation_0-rmse:13.80401\tvalidation_1-rmse:19.25807\n",
      "[300]\tvalidation_0-rmse:13.03878\tvalidation_1-rmse:19.07087\n",
      "[382]\tvalidation_0-rmse:12.98112\tvalidation_1-rmse:19.18038\n",
      "[0]\tvalidation_0-rmse:29.59048\tvalidation_1-rmse:32.37925\n",
      "[100]\tvalidation_0-rmse:17.08995\tvalidation_1-rmse:20.54452\n",
      "[200]\tvalidation_0-rmse:14.97947\tvalidation_1-rmse:18.18812\n",
      "[300]\tvalidation_0-rmse:15.08264\tvalidation_1-rmse:17.84084\n",
      "[400]\tvalidation_0-rmse:15.60623\tvalidation_1-rmse:17.90319\n",
      "[409]\tvalidation_0-rmse:15.65003\tvalidation_1-rmse:17.91317\n",
      "[0]\tvalidation_0-rmse:29.49662\tvalidation_1-rmse:32.16144\n",
      "[100]\tvalidation_0-rmse:15.21240\tvalidation_1-rmse:19.01800\n",
      "[200]\tvalidation_0-rmse:13.10633\tvalidation_1-rmse:16.38574\n",
      "[300]\tvalidation_0-rmse:12.60174\tvalidation_1-rmse:15.17679\n",
      "[400]\tvalidation_0-rmse:12.71497\tvalidation_1-rmse:14.91468\n",
      "[491]\tvalidation_0-rmse:12.84525\tvalidation_1-rmse:14.99590\n",
      "[0]\tvalidation_0-rmse:29.45931\tvalidation_1-rmse:32.02063\n",
      "[100]\tvalidation_0-rmse:13.88654\tvalidation_1-rmse:19.57680\n",
      "[200]\tvalidation_0-rmse:8.69139\tvalidation_1-rmse:16.64548\n",
      "[300]\tvalidation_0-rmse:7.21249\tvalidation_1-rmse:15.49745\n",
      "[400]\tvalidation_0-rmse:7.04520\tvalidation_1-rmse:15.15544\n",
      "[500]\tvalidation_0-rmse:7.06502\tvalidation_1-rmse:15.06898\n",
      "[600]\tvalidation_0-rmse:7.11785\tvalidation_1-rmse:15.06182\n",
      "[668]\tvalidation_0-rmse:7.15093\tvalidation_1-rmse:15.06975\n",
      "[0]\tvalidation_0-rmse:29.43953\tvalidation_1-rmse:31.88982\n",
      "[100]\tvalidation_0-rmse:13.71199\tvalidation_1-rmse:21.84787\n",
      "[200]\tvalidation_0-rmse:8.70179\tvalidation_1-rmse:22.27300\n",
      "[209]\tvalidation_0-rmse:8.50250\tvalidation_1-rmse:22.25946\n",
      "[0]\tvalidation_0-rmse:29.48907\tvalidation_1-rmse:31.84958\n",
      "[100]\tvalidation_0-rmse:18.41731\tvalidation_1-rmse:22.89168\n",
      "[200]\tvalidation_0-rmse:13.82120\tvalidation_1-rmse:19.39022\n",
      "[300]\tvalidation_0-rmse:11.37063\tvalidation_1-rmse:17.55705\n",
      "[400]\tvalidation_0-rmse:10.15837\tvalidation_1-rmse:16.68993\n",
      "[499]\tvalidation_0-rmse:9.37714\tvalidation_1-rmse:16.23449\n"
     ]
    }
   ],
   "source": [
    "df = create_date_columns(df)\n",
    "x_train, x_test, y_train, y_test = prepare_train_test_data(df)\n",
    "clf = set_model_training_pipeline()\n",
    "clf = train_model(clf, x_train, y_train, x_test, y_test)"
   ]
  },
  {
   "cell_type": "code",
   "execution_count": 6,
   "metadata": {},
   "outputs": [
    {
     "name": "stdout",
     "output_type": "stream",
     "text": [
      "MAE: 3.0\n",
      "MSE: 263.56\n",
      "RMSE: 16.23\n",
      "R2: 0.74\n"
     ]
    }
   ],
   "source": [
    "mae, mse, rmse, r2 = calculate_error(y_test, predict_with_model(clf, x_test))\n",
    "print(f\"MAE: {mae}\")\n",
    "print(f\"MSE: {mse}\")\n",
    "print(f\"RMSE: {rmse}\")\n",
    "print(f\"R2: {r2}\")"
   ]
  },
  {
   "cell_type": "code",
   "execution_count": 7,
   "metadata": {},
   "outputs": [],
   "source": [
    "X = df[[\"flow_in_(l/s)\", \"reservoir_level_(%)\", \"pressure_(mca)\", \"gmb_1_is_on\", \"gmb_2_is_on\", \"reservoir_level_liters\", \n",
    "        \"time_passed_seconds\", \"liters_entered\", \"year\", \"month\", \"week_of_year\", \"day_of_week\", \"day\", \"hour\", \"second\"]]\n",
    "df[\"flow_out_forecast\"] = clf.predict(X)\n",
    "df.to_parquet(\"../data/curated_data/water_consumption_curated_2.parquet\")"
   ]
  },
  {
   "cell_type": "code",
   "execution_count": 8,
   "metadata": {},
   "outputs": [],
   "source": [
    "with open('../models/xgb_flow_out_forecast_2.pkl', 'wb') as f:\n",
    "    pickle.dump(clf, f)"
   ]
  },
  {
   "cell_type": "code",
   "execution_count": 47,
   "metadata": {},
   "outputs": [
    {
     "data": {
      "application/vnd.plotly.v1+json": {
       "config": {
        "plotlyServerURL": "https://plot.ly"
       },
       "data": [
        {
         "hovertemplate": "variable=Actual<br>Timestamp=%{x}<br>Flow Out (l/s)=%{y}<extra></extra>",
         "legendgroup": "Actual",
         "line": {
          "color": "#636efa",
          "dash": "solid"
         },
         "marker": {
          "symbol": "circle"
         },
         "mode": "lines",
         "name": "Actual",
         "orientation": "v",
         "showlegend": true,
         "type": "scatter",
         "x": [
          "2024-01-15T03:47:42",
          "2024-01-15T03:52:42",
          "2024-01-15T03:55:12",
          "2024-01-15T04:00:12",
          "2024-01-15T04:02:42",
          "2024-01-15T04:05:12",
          "2024-01-15T04:07:42",
          "2024-01-15T04:10:12",
          "2024-01-15T04:12:42",
          "2024-01-15T04:15:12",
          "2024-01-15T04:17:42",
          "2024-01-15T04:20:12",
          "2024-01-15T04:22:42",
          "2024-01-15T04:25:12",
          "2024-01-15T04:27:42",
          "2024-01-15T04:32:42",
          "2024-01-15T04:35:12",
          "2024-01-15T04:37:42",
          "2024-01-15T04:40:12",
          "2024-01-15T04:42:42",
          "2024-01-15T04:45:13",
          "2024-01-15T04:47:42",
          "2024-01-15T04:50:12",
          "2024-01-15T04:52:42",
          "2024-01-15T04:55:12",
          "2024-01-15T04:57:42",
          "2024-01-15T05:02:42",
          "2024-01-15T05:05:12",
          "2024-01-15T05:07:42",
          "2024-01-15T05:10:12",
          "2024-01-15T05:12:42",
          "2024-01-15T05:15:12",
          "2024-01-15T05:17:42",
          "2024-01-15T05:22:42",
          "2024-01-15T05:25:12",
          "2024-01-15T05:27:43",
          "2024-01-15T05:30:12",
          "2024-01-15T05:32:42",
          "2024-01-15T05:35:12",
          "2024-01-15T05:37:42",
          "2024-01-15T05:40:12",
          "2024-01-15T05:42:42",
          "2024-01-15T05:45:12",
          "2024-01-15T05:47:43",
          "2024-01-15T05:50:13",
          "2024-01-15T05:52:42",
          "2024-01-15T05:55:12",
          "2024-01-15T05:57:42",
          "2024-01-15T06:00:12",
          "2024-01-15T06:02:43"
         ],
         "xaxis": "x",
         "y": [
          26.67,
          8,
          26.67,
          12,
          20,
          16,
          0,
          26.67,
          17.33,
          20,
          16,
          0,
          26.67,
          24,
          0,
          23.33,
          26.67,
          0,
          17.33,
          22.67,
          0,
          20.13,
          29.33,
          0,
          20,
          26.67,
          8.67,
          26.67,
          20,
          0,
          0,
          71.81,
          0,
          29.81,
          0,
          2.59,
          73.79,
          0,
          0,
          72.3,
          0,
          69.93,
          0,
          3.43,
          1.63,
          18.61,
          69.93,
          0.15,
          0,
          36.37
         ],
         "yaxis": "y"
        },
        {
         "hovertemplate": "variable=Predicted<br>Timestamp=%{x}<br>Flow Out (l/s)=%{y}<extra></extra>",
         "legendgroup": "Predicted",
         "line": {
          "color": "#EF553B",
          "dash": "solid"
         },
         "marker": {
          "symbol": "circle"
         },
         "mode": "lines",
         "name": "Predicted",
         "orientation": "v",
         "showlegend": true,
         "type": "scatter",
         "x": [
          "2024-01-15T03:47:42",
          "2024-01-15T03:52:42",
          "2024-01-15T03:55:12",
          "2024-01-15T04:00:12",
          "2024-01-15T04:02:42",
          "2024-01-15T04:05:12",
          "2024-01-15T04:07:42",
          "2024-01-15T04:10:12",
          "2024-01-15T04:12:42",
          "2024-01-15T04:15:12",
          "2024-01-15T04:17:42",
          "2024-01-15T04:20:12",
          "2024-01-15T04:22:42",
          "2024-01-15T04:25:12",
          "2024-01-15T04:27:42",
          "2024-01-15T04:32:42",
          "2024-01-15T04:35:12",
          "2024-01-15T04:37:42",
          "2024-01-15T04:40:12",
          "2024-01-15T04:42:42",
          "2024-01-15T04:45:13",
          "2024-01-15T04:47:42",
          "2024-01-15T04:50:12",
          "2024-01-15T04:52:42",
          "2024-01-15T04:55:12",
          "2024-01-15T04:57:42",
          "2024-01-15T05:02:42",
          "2024-01-15T05:05:12",
          "2024-01-15T05:07:42",
          "2024-01-15T05:10:12",
          "2024-01-15T05:12:42",
          "2024-01-15T05:15:12",
          "2024-01-15T05:17:42",
          "2024-01-15T05:22:42",
          "2024-01-15T05:25:12",
          "2024-01-15T05:27:43",
          "2024-01-15T05:30:12",
          "2024-01-15T05:32:42",
          "2024-01-15T05:35:12",
          "2024-01-15T05:37:42",
          "2024-01-15T05:40:12",
          "2024-01-15T05:42:42",
          "2024-01-15T05:45:12",
          "2024-01-15T05:47:43",
          "2024-01-15T05:50:13",
          "2024-01-15T05:52:42",
          "2024-01-15T05:55:12",
          "2024-01-15T05:57:42",
          "2024-01-15T06:00:12",
          "2024-01-15T06:02:43"
         ],
         "xaxis": "x",
         "y": [
          26.618276596069336,
          14.627269744873047,
          26.618276596069336,
          21.8710994720459,
          19.81092643737793,
          16.649782180786133,
          2.0715627670288086,
          26.618276596069336,
          16.649782180786133,
          19.81092643737793,
          16.649782180786133,
          2.0715627670288086,
          26.618276596069336,
          23.893600463867188,
          2.0715627670288086,
          29.41257667541504,
          26.618276596069336,
          2.0715627670288086,
          16.649782180786133,
          22.591955184936523,
          2.0715627670288086,
          19.81092643737793,
          29.07367515563965,
          2.0715627670288086,
          19.81092643737793,
          26.618276596069336,
          14.627269744873047,
          26.618276596069336,
          19.81092643737793,
          2.0715627670288086,
          13.366963386535645,
          69.95632934570312,
          4.957988262176514,
          26.015750885009766,
          4.957988262176514,
          5.2582573890686035,
          71.36528015136719,
          4.957988262176514,
          4.957988262176514,
          70.19084930419922,
          4.957988262176514,
          68.34124755859375,
          4.957988262176514,
          6.026570796966553,
          5.2582573890686035,
          19.22897720336914,
          68.34124755859375,
          5.717028617858887,
          4.957988262176514,
          37.26647186279297
         ],
         "yaxis": "y"
        }
       ],
       "layout": {
        "legend": {
         "title": {
          "text": "variable"
         },
         "tracegroupgap": 0
        },
        "template": {
         "data": {
          "bar": [
           {
            "error_x": {
             "color": "#2a3f5f"
            },
            "error_y": {
             "color": "#2a3f5f"
            },
            "marker": {
             "line": {
              "color": "#E5ECF6",
              "width": 0.5
             },
             "pattern": {
              "fillmode": "overlay",
              "size": 10,
              "solidity": 0.2
             }
            },
            "type": "bar"
           }
          ],
          "barpolar": [
           {
            "marker": {
             "line": {
              "color": "#E5ECF6",
              "width": 0.5
             },
             "pattern": {
              "fillmode": "overlay",
              "size": 10,
              "solidity": 0.2
             }
            },
            "type": "barpolar"
           }
          ],
          "carpet": [
           {
            "aaxis": {
             "endlinecolor": "#2a3f5f",
             "gridcolor": "white",
             "linecolor": "white",
             "minorgridcolor": "white",
             "startlinecolor": "#2a3f5f"
            },
            "baxis": {
             "endlinecolor": "#2a3f5f",
             "gridcolor": "white",
             "linecolor": "white",
             "minorgridcolor": "white",
             "startlinecolor": "#2a3f5f"
            },
            "type": "carpet"
           }
          ],
          "choropleth": [
           {
            "colorbar": {
             "outlinewidth": 0,
             "ticks": ""
            },
            "type": "choropleth"
           }
          ],
          "contour": [
           {
            "colorbar": {
             "outlinewidth": 0,
             "ticks": ""
            },
            "colorscale": [
             [
              0,
              "#0d0887"
             ],
             [
              0.1111111111111111,
              "#46039f"
             ],
             [
              0.2222222222222222,
              "#7201a8"
             ],
             [
              0.3333333333333333,
              "#9c179e"
             ],
             [
              0.4444444444444444,
              "#bd3786"
             ],
             [
              0.5555555555555556,
              "#d8576b"
             ],
             [
              0.6666666666666666,
              "#ed7953"
             ],
             [
              0.7777777777777778,
              "#fb9f3a"
             ],
             [
              0.8888888888888888,
              "#fdca26"
             ],
             [
              1,
              "#f0f921"
             ]
            ],
            "type": "contour"
           }
          ],
          "contourcarpet": [
           {
            "colorbar": {
             "outlinewidth": 0,
             "ticks": ""
            },
            "type": "contourcarpet"
           }
          ],
          "heatmap": [
           {
            "colorbar": {
             "outlinewidth": 0,
             "ticks": ""
            },
            "colorscale": [
             [
              0,
              "#0d0887"
             ],
             [
              0.1111111111111111,
              "#46039f"
             ],
             [
              0.2222222222222222,
              "#7201a8"
             ],
             [
              0.3333333333333333,
              "#9c179e"
             ],
             [
              0.4444444444444444,
              "#bd3786"
             ],
             [
              0.5555555555555556,
              "#d8576b"
             ],
             [
              0.6666666666666666,
              "#ed7953"
             ],
             [
              0.7777777777777778,
              "#fb9f3a"
             ],
             [
              0.8888888888888888,
              "#fdca26"
             ],
             [
              1,
              "#f0f921"
             ]
            ],
            "type": "heatmap"
           }
          ],
          "heatmapgl": [
           {
            "colorbar": {
             "outlinewidth": 0,
             "ticks": ""
            },
            "colorscale": [
             [
              0,
              "#0d0887"
             ],
             [
              0.1111111111111111,
              "#46039f"
             ],
             [
              0.2222222222222222,
              "#7201a8"
             ],
             [
              0.3333333333333333,
              "#9c179e"
             ],
             [
              0.4444444444444444,
              "#bd3786"
             ],
             [
              0.5555555555555556,
              "#d8576b"
             ],
             [
              0.6666666666666666,
              "#ed7953"
             ],
             [
              0.7777777777777778,
              "#fb9f3a"
             ],
             [
              0.8888888888888888,
              "#fdca26"
             ],
             [
              1,
              "#f0f921"
             ]
            ],
            "type": "heatmapgl"
           }
          ],
          "histogram": [
           {
            "marker": {
             "pattern": {
              "fillmode": "overlay",
              "size": 10,
              "solidity": 0.2
             }
            },
            "type": "histogram"
           }
          ],
          "histogram2d": [
           {
            "colorbar": {
             "outlinewidth": 0,
             "ticks": ""
            },
            "colorscale": [
             [
              0,
              "#0d0887"
             ],
             [
              0.1111111111111111,
              "#46039f"
             ],
             [
              0.2222222222222222,
              "#7201a8"
             ],
             [
              0.3333333333333333,
              "#9c179e"
             ],
             [
              0.4444444444444444,
              "#bd3786"
             ],
             [
              0.5555555555555556,
              "#d8576b"
             ],
             [
              0.6666666666666666,
              "#ed7953"
             ],
             [
              0.7777777777777778,
              "#fb9f3a"
             ],
             [
              0.8888888888888888,
              "#fdca26"
             ],
             [
              1,
              "#f0f921"
             ]
            ],
            "type": "histogram2d"
           }
          ],
          "histogram2dcontour": [
           {
            "colorbar": {
             "outlinewidth": 0,
             "ticks": ""
            },
            "colorscale": [
             [
              0,
              "#0d0887"
             ],
             [
              0.1111111111111111,
              "#46039f"
             ],
             [
              0.2222222222222222,
              "#7201a8"
             ],
             [
              0.3333333333333333,
              "#9c179e"
             ],
             [
              0.4444444444444444,
              "#bd3786"
             ],
             [
              0.5555555555555556,
              "#d8576b"
             ],
             [
              0.6666666666666666,
              "#ed7953"
             ],
             [
              0.7777777777777778,
              "#fb9f3a"
             ],
             [
              0.8888888888888888,
              "#fdca26"
             ],
             [
              1,
              "#f0f921"
             ]
            ],
            "type": "histogram2dcontour"
           }
          ],
          "mesh3d": [
           {
            "colorbar": {
             "outlinewidth": 0,
             "ticks": ""
            },
            "type": "mesh3d"
           }
          ],
          "parcoords": [
           {
            "line": {
             "colorbar": {
              "outlinewidth": 0,
              "ticks": ""
             }
            },
            "type": "parcoords"
           }
          ],
          "pie": [
           {
            "automargin": true,
            "type": "pie"
           }
          ],
          "scatter": [
           {
            "fillpattern": {
             "fillmode": "overlay",
             "size": 10,
             "solidity": 0.2
            },
            "type": "scatter"
           }
          ],
          "scatter3d": [
           {
            "line": {
             "colorbar": {
              "outlinewidth": 0,
              "ticks": ""
             }
            },
            "marker": {
             "colorbar": {
              "outlinewidth": 0,
              "ticks": ""
             }
            },
            "type": "scatter3d"
           }
          ],
          "scattercarpet": [
           {
            "marker": {
             "colorbar": {
              "outlinewidth": 0,
              "ticks": ""
             }
            },
            "type": "scattercarpet"
           }
          ],
          "scattergeo": [
           {
            "marker": {
             "colorbar": {
              "outlinewidth": 0,
              "ticks": ""
             }
            },
            "type": "scattergeo"
           }
          ],
          "scattergl": [
           {
            "marker": {
             "colorbar": {
              "outlinewidth": 0,
              "ticks": ""
             }
            },
            "type": "scattergl"
           }
          ],
          "scattermapbox": [
           {
            "marker": {
             "colorbar": {
              "outlinewidth": 0,
              "ticks": ""
             }
            },
            "type": "scattermapbox"
           }
          ],
          "scatterpolar": [
           {
            "marker": {
             "colorbar": {
              "outlinewidth": 0,
              "ticks": ""
             }
            },
            "type": "scatterpolar"
           }
          ],
          "scatterpolargl": [
           {
            "marker": {
             "colorbar": {
              "outlinewidth": 0,
              "ticks": ""
             }
            },
            "type": "scatterpolargl"
           }
          ],
          "scatterternary": [
           {
            "marker": {
             "colorbar": {
              "outlinewidth": 0,
              "ticks": ""
             }
            },
            "type": "scatterternary"
           }
          ],
          "surface": [
           {
            "colorbar": {
             "outlinewidth": 0,
             "ticks": ""
            },
            "colorscale": [
             [
              0,
              "#0d0887"
             ],
             [
              0.1111111111111111,
              "#46039f"
             ],
             [
              0.2222222222222222,
              "#7201a8"
             ],
             [
              0.3333333333333333,
              "#9c179e"
             ],
             [
              0.4444444444444444,
              "#bd3786"
             ],
             [
              0.5555555555555556,
              "#d8576b"
             ],
             [
              0.6666666666666666,
              "#ed7953"
             ],
             [
              0.7777777777777778,
              "#fb9f3a"
             ],
             [
              0.8888888888888888,
              "#fdca26"
             ],
             [
              1,
              "#f0f921"
             ]
            ],
            "type": "surface"
           }
          ],
          "table": [
           {
            "cells": {
             "fill": {
              "color": "#EBF0F8"
             },
             "line": {
              "color": "white"
             }
            },
            "header": {
             "fill": {
              "color": "#C8D4E3"
             },
             "line": {
              "color": "white"
             }
            },
            "type": "table"
           }
          ]
         },
         "layout": {
          "annotationdefaults": {
           "arrowcolor": "#2a3f5f",
           "arrowhead": 0,
           "arrowwidth": 1
          },
          "autotypenumbers": "strict",
          "coloraxis": {
           "colorbar": {
            "outlinewidth": 0,
            "ticks": ""
           }
          },
          "colorscale": {
           "diverging": [
            [
             0,
             "#8e0152"
            ],
            [
             0.1,
             "#c51b7d"
            ],
            [
             0.2,
             "#de77ae"
            ],
            [
             0.3,
             "#f1b6da"
            ],
            [
             0.4,
             "#fde0ef"
            ],
            [
             0.5,
             "#f7f7f7"
            ],
            [
             0.6,
             "#e6f5d0"
            ],
            [
             0.7,
             "#b8e186"
            ],
            [
             0.8,
             "#7fbc41"
            ],
            [
             0.9,
             "#4d9221"
            ],
            [
             1,
             "#276419"
            ]
           ],
           "sequential": [
            [
             0,
             "#0d0887"
            ],
            [
             0.1111111111111111,
             "#46039f"
            ],
            [
             0.2222222222222222,
             "#7201a8"
            ],
            [
             0.3333333333333333,
             "#9c179e"
            ],
            [
             0.4444444444444444,
             "#bd3786"
            ],
            [
             0.5555555555555556,
             "#d8576b"
            ],
            [
             0.6666666666666666,
             "#ed7953"
            ],
            [
             0.7777777777777778,
             "#fb9f3a"
            ],
            [
             0.8888888888888888,
             "#fdca26"
            ],
            [
             1,
             "#f0f921"
            ]
           ],
           "sequentialminus": [
            [
             0,
             "#0d0887"
            ],
            [
             0.1111111111111111,
             "#46039f"
            ],
            [
             0.2222222222222222,
             "#7201a8"
            ],
            [
             0.3333333333333333,
             "#9c179e"
            ],
            [
             0.4444444444444444,
             "#bd3786"
            ],
            [
             0.5555555555555556,
             "#d8576b"
            ],
            [
             0.6666666666666666,
             "#ed7953"
            ],
            [
             0.7777777777777778,
             "#fb9f3a"
            ],
            [
             0.8888888888888888,
             "#fdca26"
            ],
            [
             1,
             "#f0f921"
            ]
           ]
          },
          "colorway": [
           "#636efa",
           "#EF553B",
           "#00cc96",
           "#ab63fa",
           "#FFA15A",
           "#19d3f3",
           "#FF6692",
           "#B6E880",
           "#FF97FF",
           "#FECB52"
          ],
          "font": {
           "color": "#2a3f5f"
          },
          "geo": {
           "bgcolor": "white",
           "lakecolor": "white",
           "landcolor": "#E5ECF6",
           "showlakes": true,
           "showland": true,
           "subunitcolor": "white"
          },
          "hoverlabel": {
           "align": "left"
          },
          "hovermode": "closest",
          "mapbox": {
           "style": "light"
          },
          "paper_bgcolor": "white",
          "plot_bgcolor": "#E5ECF6",
          "polar": {
           "angularaxis": {
            "gridcolor": "white",
            "linecolor": "white",
            "ticks": ""
           },
           "bgcolor": "#E5ECF6",
           "radialaxis": {
            "gridcolor": "white",
            "linecolor": "white",
            "ticks": ""
           }
          },
          "scene": {
           "xaxis": {
            "backgroundcolor": "#E5ECF6",
            "gridcolor": "white",
            "gridwidth": 2,
            "linecolor": "white",
            "showbackground": true,
            "ticks": "",
            "zerolinecolor": "white"
           },
           "yaxis": {
            "backgroundcolor": "#E5ECF6",
            "gridcolor": "white",
            "gridwidth": 2,
            "linecolor": "white",
            "showbackground": true,
            "ticks": "",
            "zerolinecolor": "white"
           },
           "zaxis": {
            "backgroundcolor": "#E5ECF6",
            "gridcolor": "white",
            "gridwidth": 2,
            "linecolor": "white",
            "showbackground": true,
            "ticks": "",
            "zerolinecolor": "white"
           }
          },
          "shapedefaults": {
           "line": {
            "color": "#2a3f5f"
           }
          },
          "ternary": {
           "aaxis": {
            "gridcolor": "white",
            "linecolor": "white",
            "ticks": ""
           },
           "baxis": {
            "gridcolor": "white",
            "linecolor": "white",
            "ticks": ""
           },
           "bgcolor": "#E5ECF6",
           "caxis": {
            "gridcolor": "white",
            "linecolor": "white",
            "ticks": ""
           }
          },
          "title": {
           "x": 0.05
          },
          "xaxis": {
           "automargin": true,
           "gridcolor": "white",
           "linecolor": "white",
           "ticks": "",
           "title": {
            "standoff": 15
           },
           "zerolinecolor": "white",
           "zerolinewidth": 2
          },
          "yaxis": {
           "automargin": true,
           "gridcolor": "white",
           "linecolor": "white",
           "ticks": "",
           "title": {
            "standoff": 15
           },
           "zerolinecolor": "white",
           "zerolinewidth": 2
          }
         }
        },
        "title": {
         "text": "Comparação entre valores reais e previstos (Subset)"
        },
        "xaxis": {
         "anchor": "y",
         "domain": [
          0,
          1
         ],
         "title": {
          "text": "Timestamp"
         }
        },
        "yaxis": {
         "anchor": "x",
         "domain": [
          0,
          1
         ],
         "title": {
          "text": "Flow Out (l/s)"
         }
        }
       }
      }
     },
     "metadata": {},
     "output_type": "display_data"
    }
   ],
   "source": [
    "# Assuming df, y_test, and x_test are already defined\n",
    "results_df = pd.DataFrame({\n",
    "    'timestamp': df['timestamp'].iloc[len(df) - len(y_test):].reset_index(drop=True),\n",
    "    'Actual': y_test.reset_index(drop=True),\n",
    "    'Predicted': pd.Series(clf.predict(x_test))\n",
    "})\n",
    "\n",
    "# Select a subset of rows for plotting\n",
    "subset_size = 50  # Adjust this value to show more or fewer rows\n",
    "results_subset = results_df.iloc[:subset_size]\n",
    "\n",
    "# Plot the subset of results\n",
    "fig = px.line(results_subset, x='timestamp', y=['Actual', 'Predicted'],\n",
    "              labels={'value': 'Flow Out (l/s)', 'timestamp': 'Timestamp'},\n",
    "              title='Comparação entre valores reais e previstos (Subset)')\n",
    "\n",
    "fig.show()"
   ]
  }
 ],
 "metadata": {
  "kernelspec": {
   "display_name": "pcd",
   "language": "python",
   "name": "python3"
  },
  "language_info": {
   "codemirror_mode": {
    "name": "ipython",
    "version": 3
   },
   "file_extension": ".py",
   "mimetype": "text/x-python",
   "name": "python",
   "nbconvert_exporter": "python",
   "pygments_lexer": "ipython3",
   "version": "3.12.3"
  }
 },
 "nbformat": 4,
 "nbformat_minor": 2
}
