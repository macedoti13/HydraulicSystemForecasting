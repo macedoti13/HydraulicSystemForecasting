{
 "cells": [
  {
   "cell_type": "code",
   "execution_count": 1,
   "metadata": {},
   "outputs": [],
   "source": [
    "from pathlib import Path\n",
    "from typing import Tuple\n",
    "import pandas as pd"
   ]
  },
  {
   "cell_type": "code",
   "execution_count": 2,
   "metadata": {},
   "outputs": [],
   "source": [
    "df_path = Path('../data/curated_data/water_consumption_curated_1.parquet')\n",
    "df = pd.read_parquet(df_path)"
   ]
  },
  {
   "cell_type": "code",
   "execution_count": 3,
   "metadata": {},
   "outputs": [],
   "source": [
    "def create_date_related_columns(original_df: pd.DataFrame) -> pd.DataFrame:\n",
    "    df = original_df.copy()\n",
    "    df[\"date\"] = df[\"timestamp\"].dt.date\n",
    "    df[\"hour\"] = df[\"timestamp\"].dt.hour\n",
    "    \n",
    "    # Identify peak hours (18:00 to 21:00)\n",
    "    peak_hours = (df[\"hour\"] >= 18) & (df[\"hour\"] <= 21)\n",
    "    df[\"is_peak_hour\"] = peak_hours\n",
    "    \n",
    "    # Drop rows with missing values in 'time_passed_seconds'\n",
    "    df = df.dropna(subset=[\"time_passed_seconds\"])\n",
    "    \n",
    "    # Calculate the duration of gmb_1 and gmb_2 being on\n",
    "    df['gmb_1_duration'] = df['gmb_1_is_on'] * df['time_passed_seconds']\n",
    "    df['gmb_2_duration'] = df['gmb_2_is_on'] * df['time_passed_seconds']\n",
    "    \n",
    "    return df\n",
    "    \n",
    "    \n",
    "def get_avg_use_per_bomb(original_df: pd.DataFrame) -> Tuple[float, float, float, float]:\n",
    "    df = original_df.copy()\n",
    "    \n",
    "    # Sum water bombs usage time per day and hour\n",
    "    daily_peak_usage = df[df['is_peak_hour']].groupby('date').agg({'gmb_1_duration': 'sum', 'gmb_2_duration': 'sum'})\n",
    "    daily_off_peak_usage = df[~df['is_peak_hour']].groupby('date').agg({'gmb_1_duration': 'sum', 'gmb_2_duration': 'sum'})\n",
    "\n",
    "    # Calculate water bombs average usage time per day and hour\n",
    "    gmb_1_peak_avg = daily_peak_usage['gmb_1_duration'].mean() / 3600  # convert seconds to hours\n",
    "    gmb_1_off_peak_avg = daily_off_peak_usage['gmb_1_duration'].mean() / 3600  # convert seconds to hours\n",
    "\n",
    "    gmb_2_peak_avg = daily_peak_usage['gmb_2_duration'].mean() / 3600  # convert seconds to hours\n",
    "    gmb_2_off_peak_avg = daily_off_peak_usage['gmb_2_duration'].mean() / 3600  # convert seconds to hours\n",
    "    \n",
    "    return gmb_1_peak_avg, gmb_1_off_peak_avg, gmb_2_peak_avg, gmb_2_off_peak_avg"
   ]
  },
  {
   "cell_type": "code",
   "execution_count": 4,
   "metadata": {},
   "outputs": [],
   "source": [
    "gmb_1_peak_avg, gmb_1_off_peak_avg, gmb_2_peak_avg, gmb_2_off_peak_avg = get_avg_use_per_bomb(\n",
    "    create_date_related_columns(df)\n",
    ")"
   ]
  },
  {
   "cell_type": "code",
   "execution_count": 5,
   "metadata": {},
   "outputs": [
    {
     "name": "stdout",
     "output_type": "stream",
     "text": [
      "Tempo médio de uso da bomba 1 em horário de ponta: 1.41 horas\n",
      "Tempo médio de uso da bomba 1 em horário fora de ponta: 8.00 horas\n",
      "Tempo médio de uso da bomba 2 em horário de ponta: 0.76 horas\n",
      "Tempo médio de uso da bomba 2 em horário fora de ponta: 4.44 horas\n"
     ]
    }
   ],
   "source": [
    "print(f\"Tempo médio de uso da bomba 1 em horário de ponta: {gmb_1_peak_avg:.2f} horas\")\n",
    "print(f\"Tempo médio de uso da bomba 1 em horário fora de ponta: {gmb_1_off_peak_avg:.2f} horas\")\n",
    "print(f\"Tempo médio de uso da bomba 2 em horário de ponta: {gmb_2_peak_avg:.2f} horas\")\n",
    "print(f\"Tempo médio de uso da bomba 2 em horário fora de ponta: {gmb_2_off_peak_avg:.2f} horas\")"
   ]
  }
 ],
 "metadata": {
  "kernelspec": {
   "display_name": "pcd",
   "language": "python",
   "name": "python3"
  },
  "language_info": {
   "codemirror_mode": {
    "name": "ipython",
    "version": 3
   },
   "file_extension": ".py",
   "mimetype": "text/x-python",
   "name": "python",
   "nbconvert_exporter": "python",
   "pygments_lexer": "ipython3",
   "version": "3.12.3"
  }
 },
 "nbformat": 4,
 "nbformat_minor": 2
}
