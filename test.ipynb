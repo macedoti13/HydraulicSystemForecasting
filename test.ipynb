{
 "cells": [
  {
   "cell_type": "code",
   "execution_count": 2,
   "metadata": {},
   "outputs": [],
   "source": [
    "import pandas as pd"
   ]
  },
  {
   "cell_type": "code",
   "execution_count": 5,
   "metadata": {},
   "outputs": [],
   "source": [
    "df = pd.read_excel('./data/Dados Elipse PSL - Atualizados.xlsx', header=1)"
   ]
  },
  {
   "cell_type": "code",
   "execution_count": 11,
   "metadata": {},
   "outputs": [
    {
     "data": {
      "text/plain": [
       "125072"
      ]
     },
     "execution_count": 11,
     "metadata": {},
     "output_type": "execute_result"
    }
   ],
   "source": [
    "len(df)"
   ]
  },
  {
   "cell_type": "code",
   "execution_count": 6,
   "metadata": {},
   "outputs": [
    {
     "data": {
      "text/html": [
       "<div>\n",
       "<style scoped>\n",
       "    .dataframe tbody tr th:only-of-type {\n",
       "        vertical-align: middle;\n",
       "    }\n",
       "\n",
       "    .dataframe tbody tr th {\n",
       "        vertical-align: top;\n",
       "    }\n",
       "\n",
       "    .dataframe thead th {\n",
       "        text-align: right;\n",
       "    }\n",
       "</style>\n",
       "<table border=\"1\" class=\"dataframe\">\n",
       "  <thead>\n",
       "    <tr style=\"text-align: right;\">\n",
       "      <th></th>\n",
       "      <th>DATA/HORA</th>\n",
       "      <th>VAZÃO ENTRADA (L/S)</th>\n",
       "      <th>NÍVEL RESERVATÓRIO (%)</th>\n",
       "      <th>PRESSÃO (mca)</th>\n",
       "      <th>GMB 1 (10 OFF/ 90 ON)</th>\n",
       "      <th>GMB 2(10 OFF/ 90 ON)</th>\n",
       "    </tr>\n",
       "  </thead>\n",
       "  <tbody>\n",
       "    <tr>\n",
       "      <th>0</th>\n",
       "      <td>2023-03-17 11:27:06</td>\n",
       "      <td>68.59</td>\n",
       "      <td>29.86</td>\n",
       "      <td>38.20</td>\n",
       "      <td>10</td>\n",
       "      <td>90</td>\n",
       "    </tr>\n",
       "    <tr>\n",
       "      <th>1</th>\n",
       "      <td>2023-03-17 12:28:56</td>\n",
       "      <td>66.05</td>\n",
       "      <td>35.86</td>\n",
       "      <td>38.20</td>\n",
       "      <td>10</td>\n",
       "      <td>90</td>\n",
       "    </tr>\n",
       "    <tr>\n",
       "      <th>2</th>\n",
       "      <td>2023-03-17 12:31:26</td>\n",
       "      <td>65.64</td>\n",
       "      <td>36.16</td>\n",
       "      <td>38.06</td>\n",
       "      <td>10</td>\n",
       "      <td>90</td>\n",
       "    </tr>\n",
       "    <tr>\n",
       "      <th>3</th>\n",
       "      <td>2023-03-17 12:33:56</td>\n",
       "      <td>65.64</td>\n",
       "      <td>36.50</td>\n",
       "      <td>38.03</td>\n",
       "      <td>10</td>\n",
       "      <td>90</td>\n",
       "    </tr>\n",
       "    <tr>\n",
       "      <th>4</th>\n",
       "      <td>2023-03-17 12:36:26</td>\n",
       "      <td>65.64</td>\n",
       "      <td>36.80</td>\n",
       "      <td>38.17</td>\n",
       "      <td>10</td>\n",
       "      <td>90</td>\n",
       "    </tr>\n",
       "  </tbody>\n",
       "</table>\n",
       "</div>"
      ],
      "text/plain": [
       "            DATA/HORA  VAZÃO ENTRADA (L/S)  NÍVEL RESERVATÓRIO (%)  \\\n",
       "0 2023-03-17 11:27:06                68.59                   29.86   \n",
       "1 2023-03-17 12:28:56                66.05                   35.86   \n",
       "2 2023-03-17 12:31:26                65.64                   36.16   \n",
       "3 2023-03-17 12:33:56                65.64                   36.50   \n",
       "4 2023-03-17 12:36:26                65.64                   36.80   \n",
       "\n",
       "   PRESSÃO (mca)  GMB 1 (10 OFF/ 90 ON)  GMB 2(10 OFF/ 90 ON)  \n",
       "0          38.20                     10                    90  \n",
       "1          38.20                     10                    90  \n",
       "2          38.06                     10                    90  \n",
       "3          38.03                     10                    90  \n",
       "4          38.17                     10                    90  "
      ]
     },
     "execution_count": 6,
     "metadata": {},
     "output_type": "execute_result"
    }
   ],
   "source": [
    "df.head()"
   ]
  },
  {
   "cell_type": "code",
   "execution_count": 9,
   "metadata": {},
   "outputs": [
    {
     "data": {
      "text/html": [
       "<div>\n",
       "<style scoped>\n",
       "    .dataframe tbody tr th:only-of-type {\n",
       "        vertical-align: middle;\n",
       "    }\n",
       "\n",
       "    .dataframe tbody tr th {\n",
       "        vertical-align: top;\n",
       "    }\n",
       "\n",
       "    .dataframe thead th {\n",
       "        text-align: right;\n",
       "    }\n",
       "</style>\n",
       "<table border=\"1\" class=\"dataframe\">\n",
       "  <thead>\n",
       "    <tr style=\"text-align: right;\">\n",
       "      <th></th>\n",
       "      <th>DATA/HORA</th>\n",
       "      <th>VAZÃO ENTRADA (L/S)</th>\n",
       "      <th>NÍVEL RESERVATÓRIO (%)</th>\n",
       "      <th>PRESSÃO (mca)</th>\n",
       "      <th>GMB 1 (10 OFF/ 90 ON)</th>\n",
       "      <th>GMB 2(10 OFF/ 90 ON)</th>\n",
       "    </tr>\n",
       "  </thead>\n",
       "  <tbody>\n",
       "    <tr>\n",
       "      <th>3058</th>\n",
       "      <td>2023-03-29 04:53:08</td>\n",
       "      <td>62.21</td>\n",
       "      <td>66.3</td>\n",
       "      <td>38.37</td>\n",
       "      <td>10</td>\n",
       "      <td>90</td>\n",
       "    </tr>\n",
       "    <tr>\n",
       "      <th>3059</th>\n",
       "      <td>2023-03-29 04:53:08</td>\n",
       "      <td>62.21</td>\n",
       "      <td>66.3</td>\n",
       "      <td>38.63</td>\n",
       "      <td>10</td>\n",
       "      <td>90</td>\n",
       "    </tr>\n",
       "  </tbody>\n",
       "</table>\n",
       "</div>"
      ],
      "text/plain": [
       "               DATA/HORA  VAZÃO ENTRADA (L/S)  NÍVEL RESERVATÓRIO (%)  \\\n",
       "3058 2023-03-29 04:53:08                62.21                    66.3   \n",
       "3059 2023-03-29 04:53:08                62.21                    66.3   \n",
       "\n",
       "      PRESSÃO (mca)  GMB 1 (10 OFF/ 90 ON)  GMB 2(10 OFF/ 90 ON)  \n",
       "3058          38.37                     10                    90  \n",
       "3059          38.63                     10                    90  "
      ]
     },
     "execution_count": 9,
     "metadata": {},
     "output_type": "execute_result"
    }
   ],
   "source": [
    "# find duplicated time stamps\n",
    "df[df.duplicated(subset='DATA/HORA', keep=False)].sort_values(by='DATA/HORA')#"
   ]
  },
  {
   "cell_type": "code",
   "execution_count": 10,
   "metadata": {},
   "outputs": [],
   "source": [
    "# drop duplicated time stamps\n",
    "df = df.drop_duplicates(subset='DATA/HORA', keep='first')"
   ]
  },
  {
   "cell_type": "code",
   "execution_count": null,
   "metadata": {},
   "outputs": [],
   "source": []
  }
 ],
 "metadata": {
  "kernelspec": {
   "display_name": "pcd",
   "language": "python",
   "name": "python3"
  },
  "language_info": {
   "codemirror_mode": {
    "name": "ipython",
    "version": 3
   },
   "file_extension": ".py",
   "mimetype": "text/x-python",
   "name": "python",
   "nbconvert_exporter": "python",
   "pygments_lexer": "ipython3",
   "version": "3.12.3"
  }
 },
 "nbformat": 4,
 "nbformat_minor": 2
}
